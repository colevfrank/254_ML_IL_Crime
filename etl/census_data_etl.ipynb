{
 "cells": [
  {
   "cell_type": "code",
   "execution_count": 1,
   "id": "6f5a6f6e",
   "metadata": {},
   "outputs": [],
   "source": [
    "import numpy as np\n",
    "import pandas as pd\n",
    "import matplotlib.pyplot as plt\n",
    "import censusdata\n",
    "import geopandas as gp\n",
    "%matplotlib inline\n",
    "plt.rcParams['figure.figsize'] = [14, 5]"
   ]
  },
  {
   "cell_type": "code",
   "execution_count": 2,
   "id": "87c75b7e",
   "metadata": {},
   "outputs": [
    {
     "data": {
      "text/html": [
       "<div>\n",
       "<style scoped>\n",
       "    .dataframe tbody tr th:only-of-type {\n",
       "        vertical-align: middle;\n",
       "    }\n",
       "\n",
       "    .dataframe tbody tr th {\n",
       "        vertical-align: top;\n",
       "    }\n",
       "\n",
       "    .dataframe thead th {\n",
       "        text-align: right;\n",
       "    }\n",
       "</style>\n",
       "<table border=\"1\" class=\"dataframe\">\n",
       "  <thead>\n",
       "    <tr style=\"text-align: right;\">\n",
       "      <th></th>\n",
       "      <th>statefp10</th>\n",
       "      <th>name10</th>\n",
       "      <th>blockce10</th>\n",
       "      <th>tract_bloc</th>\n",
       "      <th>geoid10</th>\n",
       "      <th>tractce10</th>\n",
       "      <th>countyfp10</th>\n",
       "      <th>geometry</th>\n",
       "    </tr>\n",
       "  </thead>\n",
       "  <tbody>\n",
       "    <tr>\n",
       "      <th>0</th>\n",
       "      <td>17</td>\n",
       "      <td>Block 2010</td>\n",
       "      <td>2010</td>\n",
       "      <td>6903002010</td>\n",
       "      <td>170316903002010</td>\n",
       "      <td>690300</td>\n",
       "      <td>031</td>\n",
       "      <td>MULTIPOLYGON (((-87.62907 41.76909, -87.62905 ...</td>\n",
       "    </tr>\n",
       "    <tr>\n",
       "      <th>1</th>\n",
       "      <td>17</td>\n",
       "      <td>Block 3007</td>\n",
       "      <td>3007</td>\n",
       "      <td>6809003007</td>\n",
       "      <td>170316809003007</td>\n",
       "      <td>680900</td>\n",
       "      <td>031</td>\n",
       "      <td>MULTIPOLYGON (((-87.63412 41.77447, -87.63410 ...</td>\n",
       "    </tr>\n",
       "  </tbody>\n",
       "</table>\n",
       "</div>"
      ],
      "text/plain": [
       "  statefp10      name10 blockce10  tract_bloc          geoid10 tractce10  \\\n",
       "0        17  Block 2010      2010  6903002010  170316903002010    690300   \n",
       "1        17  Block 3007      3007  6809003007  170316809003007    680900   \n",
       "\n",
       "  countyfp10                                           geometry  \n",
       "0        031  MULTIPOLYGON (((-87.62907 41.76909, -87.62905 ...  \n",
       "1        031  MULTIPOLYGON (((-87.63412 41.77447, -87.63410 ...  "
      ]
     },
     "execution_count": 2,
     "metadata": {},
     "output_type": "execute_result"
    }
   ],
   "source": [
    "# Download Census block boundaries for Chicago \n",
    "census_gdf = gp.read_file(\"https://data.cityofchicago.org/resource/bt9m-d2mf.geojson?$limit=9999999\")\n",
    "census_gdf.head(2)"
   ]
  },
  {
   "cell_type": "code",
   "execution_count": 3,
   "id": "01b8af32",
   "metadata": {},
   "outputs": [
    {
     "name": "stdout",
     "output_type": "stream",
     "text": [
      "(3993, 6)\n"
     ]
    },
    {
     "data": {
      "text/html": [
       "<div>\n",
       "<style scoped>\n",
       "    .dataframe tbody tr th:only-of-type {\n",
       "        vertical-align: middle;\n",
       "    }\n",
       "\n",
       "    .dataframe tbody tr th {\n",
       "        vertical-align: top;\n",
       "    }\n",
       "\n",
       "    .dataframe thead th {\n",
       "        text-align: right;\n",
       "    }\n",
       "</style>\n",
       "<table border=\"1\" class=\"dataframe\">\n",
       "  <thead>\n",
       "    <tr style=\"text-align: right;\">\n",
       "      <th></th>\n",
       "      <th>GEO_ID</th>\n",
       "      <th>Total Pop</th>\n",
       "      <th>White</th>\n",
       "      <th>Black</th>\n",
       "      <th>Median Income</th>\n",
       "      <th>Hispanic</th>\n",
       "    </tr>\n",
       "  </thead>\n",
       "  <tbody>\n",
       "    <tr>\n",
       "      <th>Block Group 1, Census Tract 2713, Cook County, Illinois: Summary level: 150, state:17&gt; county:031&gt; tract:271300&gt; block group:1</th>\n",
       "      <td>1500000US170312713001</td>\n",
       "      <td>1316</td>\n",
       "      <td>0</td>\n",
       "      <td>1304</td>\n",
       "      <td>24340</td>\n",
       "      <td>0</td>\n",
       "    </tr>\n",
       "    <tr>\n",
       "      <th>Block Group 3, Census Tract 2415, Cook County, Illinois: Summary level: 150, state:17&gt; county:031&gt; tract:241500&gt; block group:3</th>\n",
       "      <td>1500000US170312415003</td>\n",
       "      <td>826</td>\n",
       "      <td>705</td>\n",
       "      <td>37</td>\n",
       "      <td>132708</td>\n",
       "      <td>99</td>\n",
       "    </tr>\n",
       "  </tbody>\n",
       "</table>\n",
       "</div>"
      ],
      "text/plain": [
       "                                                                   GEO_ID  \\\n",
       "Block Group 1, Census Tract 2713, Cook County, ...  1500000US170312713001   \n",
       "Block Group 3, Census Tract 2415, Cook County, ...  1500000US170312415003   \n",
       "\n",
       "                                                    Total Pop  White  Black  \\\n",
       "Block Group 1, Census Tract 2713, Cook County, ...       1316      0   1304   \n",
       "Block Group 3, Census Tract 2415, Cook County, ...        826    705     37   \n",
       "\n",
       "                                                    Median Income  Hispanic  \n",
       "Block Group 1, Census Tract 2713, Cook County, ...          24340         0  \n",
       "Block Group 3, Census Tract 2415, Cook County, ...         132708        99  "
      ]
     },
     "execution_count": 3,
     "metadata": {},
     "output_type": "execute_result"
    }
   ],
   "source": [
    "# Useful for finding the ACS tables you want \n",
    "# censusdata.search('acs5', 2018, 'label', 'broadband') \n",
    "# censusdata.printtable(censusdata.censustable('acs5', 2018, 'B28011'))\n",
    "\n",
    "# Pull ACS data \n",
    "census_tables = {\n",
    "    'GEO_ID': 'GEO_ID', \n",
    "    'B02001_001E': 'Total Pop', \n",
    "    'B02001_002E': 'White', \n",
    "    'B02001_003E': 'Black', \n",
    "    'B19013_001E': 'Median Income',\n",
    "    'B03003_003E': 'Hispanic'}\n",
    "\n",
    "acs_df = censusdata.download(\"acs5\", \n",
    "                              2018, \n",
    "                              censusdata.censusgeo([(\"state\", \"17\"), \n",
    "                                                    (\"county\", \"031\"),\n",
    "                                                    (\"tract\", \"*\"),\n",
    "                                                    (\"block group\", \"*\")]), \n",
    "                              list(census_tables.keys()))\n",
    "\n",
    "# Rename columns \n",
    "acs_df.rename(columns=census_tables, inplace=True)\n",
    "\n",
    "print(acs_df.shape)\n",
    "acs_df.head(2)"
   ]
  },
  {
   "cell_type": "code",
   "execution_count": 4,
   "id": "1efd2307",
   "metadata": {},
   "outputs": [],
   "source": [
    "# convert acs_df to geo12 \n",
    "acs_df['geo_12'] = acs_df[\"GEO_ID\"].map(lambda x: str(x)[-12:])\n",
    "census_gdf['geo_12'] = census_gdf[\"geoid10\"].map(lambda x: str(x)[:12])"
   ]
  },
  {
   "cell_type": "code",
   "execution_count": 5,
   "id": "efad61d3",
   "metadata": {},
   "outputs": [],
   "source": [
    "# Dissolve census data\n",
    "census_bg_gdf = census_gdf[['geometry', 'geo_12']].dissolve(by='geo_12')"
   ]
  },
  {
   "cell_type": "code",
   "execution_count": 6,
   "id": "3cd11a71",
   "metadata": {},
   "outputs": [
    {
     "data": {
      "text/plain": [
       "<AxesSubplot:>"
      ]
     },
     "execution_count": 6,
     "metadata": {},
     "output_type": "execute_result"
    },
    {
     "data": {
      "image/png": "[encoded data removed]",
      "text/plain": [
       "<Figure size 1008x360 with 1 Axes>"
      ]
     },
     "metadata": {
      "needs_background": "light"
     },
     "output_type": "display_data"
    }
   ],
   "source": [
    "# Merge ACS data with Census block group boundaries \n",
    "merged_acs_gdf = gp.GeoDataFrame(census_bg_gdf.merge(acs_df, on=\"geo_12\", how=\"inner\"), \n",
    "                               crs=census_bg_gdf.crs)\n",
    "merged_acs_gdf.plot()"
   ]
  },
  {
   "cell_type": "code",
   "execution_count": 7,
   "id": "1218402f",
   "metadata": {},
   "outputs": [
    {
     "data": {
      "text/html": [
       "<div>\n",
       "<style scoped>\n",
       "    .dataframe tbody tr th:only-of-type {\n",
       "        vertical-align: middle;\n",
       "    }\n",
       "\n",
       "    .dataframe tbody tr th {\n",
       "        vertical-align: top;\n",
       "    }\n",
       "\n",
       "    .dataframe thead th {\n",
       "        text-align: right;\n",
       "    }\n",
       "</style>\n",
       "<table border=\"1\" class=\"dataframe\">\n",
       "  <thead>\n",
       "    <tr style=\"text-align: right;\">\n",
       "      <th></th>\n",
       "      <th>geo_12</th>\n",
       "      <th>geometry</th>\n",
       "      <th>GEO_ID</th>\n",
       "      <th>Total Pop</th>\n",
       "      <th>White</th>\n",
       "      <th>Black</th>\n",
       "      <th>Median Income</th>\n",
       "      <th>Hispanic</th>\n",
       "    </tr>\n",
       "  </thead>\n",
       "  <tbody>\n",
       "    <tr>\n",
       "      <th>0</th>\n",
       "      <td>170310101001</td>\n",
       "      <td>POLYGON ((-87.67009 42.02115, -87.67047 42.021...</td>\n",
       "      <td>1500000US170310101001</td>\n",
       "      <td>491</td>\n",
       "      <td>279</td>\n",
       "      <td>143</td>\n",
       "      <td>-666666666</td>\n",
       "      <td>90</td>\n",
       "    </tr>\n",
       "    <tr>\n",
       "      <th>1</th>\n",
       "      <td>170310101002</td>\n",
       "      <td>POLYGON ((-87.66950 42.01936, -87.66963 42.019...</td>\n",
       "      <td>1500000US170310101002</td>\n",
       "      <td>2197</td>\n",
       "      <td>766</td>\n",
       "      <td>1389</td>\n",
       "      <td>21222</td>\n",
       "      <td>127</td>\n",
       "    </tr>\n",
       "  </tbody>\n",
       "</table>\n",
       "</div>"
      ],
      "text/plain": [
       "         geo_12                                           geometry  \\\n",
       "0  170310101001  POLYGON ((-87.67009 42.02115, -87.67047 42.021...   \n",
       "1  170310101002  POLYGON ((-87.66950 42.01936, -87.66963 42.019...   \n",
       "\n",
       "                  GEO_ID  Total Pop  White  Black  Median Income  Hispanic  \n",
       "0  1500000US170310101001        491    279    143     -666666666        90  \n",
       "1  1500000US170310101002       2197    766   1389          21222       127  "
      ]
     },
     "execution_count": 7,
     "metadata": {},
     "output_type": "execute_result"
    }
   ],
   "source": [
    "merged_acs_gdf.head(2)"
   ]
  },
  {
   "cell_type": "code",
   "execution_count": 8,
   "id": "093b75d8",
   "metadata": {},
   "outputs": [],
   "source": [
    "merged_acs_gdf = merged_acs_gdf.drop(['GEO_ID'], axis=1)\n",
    "# Replace -6666 with na\n",
    "merged_acs_gdf['Median Income'] = np.where(merged_acs_gdf['Median Income'] < 0, np.nan, merged_acs_gdf['Median Income'])"
   ]
  },
  {
   "cell_type": "code",
   "execution_count": 9,
   "id": "cb48fcc5",
   "metadata": {},
   "outputs": [],
   "source": [
    "#Calculate BG area\n",
    "merged_acs_gdf['bg_area_km2'] = merged_acs_gdf.to_crs('EPSG:3857').area / 10**6"
   ]
  },
  {
   "cell_type": "code",
   "execution_count": 10,
   "id": "e9a1d225",
   "metadata": {},
   "outputs": [],
   "source": [
    "beats_gdf = gp.read_file('../data/geographies/Boundaries - Police Beats (current).geojson')"
   ]
  },
  {
   "cell_type": "code",
   "execution_count": 11,
   "id": "2c5ab04a",
   "metadata": {},
   "outputs": [],
   "source": [
    "#Calculate Beat area\n",
    "beats_gdf['beat_area_km2'] = beats_gdf.to_crs('EPSG:3857').area / 10**6"
   ]
  },
  {
   "cell_type": "code",
   "execution_count": 12,
   "id": "7e5a4e4d",
   "metadata": {},
   "outputs": [
    {
     "data": {
      "text/plain": [
       "<AxesSubplot:>"
      ]
     },
     "execution_count": 12,
     "metadata": {},
     "output_type": "execute_result"
    },
    {
     "data": {
      "image/png": "[encoded data removed]",
      "text/plain": [
       "<Figure size 1008x360 with 1 Axes>"
      ]
     },
     "metadata": {
      "needs_background": "light"
     },
     "output_type": "display_data"
    }
   ],
   "source": [
    "beats_gdf.plot()"
   ]
  },
  {
   "cell_type": "code",
   "execution_count": 13,
   "id": "5c593c52",
   "metadata": {},
   "outputs": [
    {
     "data": {
      "text/html": [
       "<div>\n",
       "<style scoped>\n",
       "    .dataframe tbody tr th:only-of-type {\n",
       "        vertical-align: middle;\n",
       "    }\n",
       "\n",
       "    .dataframe tbody tr th {\n",
       "        vertical-align: top;\n",
       "    }\n",
       "\n",
       "    .dataframe thead th {\n",
       "        text-align: right;\n",
       "    }\n",
       "</style>\n",
       "<table border=\"1\" class=\"dataframe\">\n",
       "  <thead>\n",
       "    <tr style=\"text-align: right;\">\n",
       "      <th></th>\n",
       "      <th>beat</th>\n",
       "      <th>beat_num</th>\n",
       "      <th>district</th>\n",
       "      <th>sector</th>\n",
       "      <th>geometry</th>\n",
       "      <th>beat_area_km2</th>\n",
       "    </tr>\n",
       "  </thead>\n",
       "  <tbody>\n",
       "    <tr>\n",
       "      <th>0</th>\n",
       "      <td>1</td>\n",
       "      <td>1713</td>\n",
       "      <td>17</td>\n",
       "      <td>1</td>\n",
       "      <td>MULTIPOLYGON (((-87.70473 41.97577, -87.70472 ...</td>\n",
       "      <td>2.122702</td>\n",
       "    </tr>\n",
       "    <tr>\n",
       "      <th>1</th>\n",
       "      <td>0</td>\n",
       "      <td>3100</td>\n",
       "      <td>31</td>\n",
       "      <td>0</td>\n",
       "      <td>MULTIPOLYGON (((-87.83365 41.97535, -87.83366 ...</td>\n",
       "      <td>14.460490</td>\n",
       "    </tr>\n",
       "  </tbody>\n",
       "</table>\n",
       "</div>"
      ],
      "text/plain": [
       "  beat beat_num district sector  \\\n",
       "0    1     1713       17      1   \n",
       "1    0     3100       31      0   \n",
       "\n",
       "                                            geometry  beat_area_km2  \n",
       "0  MULTIPOLYGON (((-87.70473 41.97577, -87.70472 ...       2.122702  \n",
       "1  MULTIPOLYGON (((-87.83365 41.97535, -87.83366 ...      14.460490  "
      ]
     },
     "execution_count": 13,
     "metadata": {},
     "output_type": "execute_result"
    }
   ],
   "source": [
    "beats_gdf.head(2)"
   ]
  },
  {
   "cell_type": "code",
   "execution_count": 14,
   "id": "ef7939f8",
   "metadata": {},
   "outputs": [],
   "source": [
    "# Ensure same projection\n",
    "beats_gdf.crs = merged_acs_gdf.crs"
   ]
  },
  {
   "cell_type": "code",
   "execution_count": 15,
   "id": "8158874c",
   "metadata": {},
   "outputs": [],
   "source": [
    "#Merge data\n",
    "from geopandas.tools import overlay\n",
    "beats_acs_gdf = overlay(beats_gdf, merged_acs_gdf, how='union')"
   ]
  },
  {
   "cell_type": "code",
   "execution_count": 16,
   "id": "a0c14023",
   "metadata": {},
   "outputs": [
    {
     "data": {
      "text/html": [
       "<div>\n",
       "<style scoped>\n",
       "    .dataframe tbody tr th:only-of-type {\n",
       "        vertical-align: middle;\n",
       "    }\n",
       "\n",
       "    .dataframe tbody tr th {\n",
       "        vertical-align: top;\n",
       "    }\n",
       "\n",
       "    .dataframe thead th {\n",
       "        text-align: right;\n",
       "    }\n",
       "</style>\n",
       "<table border=\"1\" class=\"dataframe\">\n",
       "  <thead>\n",
       "    <tr style=\"text-align: right;\">\n",
       "      <th></th>\n",
       "      <th>beat</th>\n",
       "      <th>beat_num</th>\n",
       "      <th>district</th>\n",
       "      <th>sector</th>\n",
       "      <th>beat_area_km2</th>\n",
       "      <th>geo_12</th>\n",
       "      <th>Total Pop</th>\n",
       "      <th>White</th>\n",
       "      <th>Black</th>\n",
       "      <th>Median Income</th>\n",
       "      <th>Hispanic</th>\n",
       "      <th>bg_area_km2</th>\n",
       "      <th>geometry</th>\n",
       "    </tr>\n",
       "  </thead>\n",
       "  <tbody>\n",
       "    <tr>\n",
       "      <th>0</th>\n",
       "      <td>1</td>\n",
       "      <td>1713</td>\n",
       "      <td>17</td>\n",
       "      <td>1</td>\n",
       "      <td>2.122702</td>\n",
       "      <td>170310403003</td>\n",
       "      <td>849.0</td>\n",
       "      <td>550.0</td>\n",
       "      <td>25.0</td>\n",
       "      <td>112614.0</td>\n",
       "      <td>83.0</td>\n",
       "      <td>0.557031</td>\n",
       "      <td>POLYGON ((-87.70473 41.97577, -87.70472 41.975...</td>\n",
       "    </tr>\n",
       "    <tr>\n",
       "      <th>1</th>\n",
       "      <td>1</td>\n",
       "      <td>1911</td>\n",
       "      <td>19</td>\n",
       "      <td>1</td>\n",
       "      <td>4.135258</td>\n",
       "      <td>170310403003</td>\n",
       "      <td>849.0</td>\n",
       "      <td>550.0</td>\n",
       "      <td>25.0</td>\n",
       "      <td>112614.0</td>\n",
       "      <td>83.0</td>\n",
       "      <td>0.557031</td>\n",
       "      <td>MULTIPOLYGON (((-87.70108 41.96851, -87.70108 ...</td>\n",
       "    </tr>\n",
       "  </tbody>\n",
       "</table>\n",
       "</div>"
      ],
      "text/plain": [
       "  beat beat_num district sector  beat_area_km2        geo_12  Total Pop  \\\n",
       "0    1     1713       17      1       2.122702  170310403003      849.0   \n",
       "1    1     1911       19      1       4.135258  170310403003      849.0   \n",
       "\n",
       "   White  Black  Median Income  Hispanic  bg_area_km2  \\\n",
       "0  550.0   25.0       112614.0      83.0     0.557031   \n",
       "1  550.0   25.0       112614.0      83.0     0.557031   \n",
       "\n",
       "                                            geometry  \n",
       "0  POLYGON ((-87.70473 41.97577, -87.70472 41.975...  \n",
       "1  MULTIPOLYGON (((-87.70108 41.96851, -87.70108 ...  "
      ]
     },
     "execution_count": 16,
     "metadata": {},
     "output_type": "execute_result"
    }
   ],
   "source": [
    "beats_acs_gdf.head(2)"
   ]
  },
  {
   "cell_type": "code",
   "execution_count": 17,
   "id": "7c95c8f0",
   "metadata": {},
   "outputs": [],
   "source": [
    "# Drop if beat is NA\n",
    "beats_acs_gdf = beats_acs_gdf.dropna(subset=['beat'])"
   ]
  },
  {
   "cell_type": "code",
   "execution_count": 18,
   "id": "9a3bc9f8",
   "metadata": {},
   "outputs": [
    {
     "data": {
      "text/plain": [
       "0.4578096866607666"
      ]
     },
     "execution_count": 18,
     "metadata": {},
     "output_type": "execute_result"
    }
   ],
   "source": [
    "# Confirm we have all beats\n",
    "sum(beats_gdf.to_crs('EPSG:3857').area) - sum(beats_acs_gdf.to_crs('EPSG:3857').area)"
   ]
  },
  {
   "cell_type": "code",
   "execution_count": 19,
   "id": "48fd5a35",
   "metadata": {},
   "outputs": [
    {
     "data": {
      "text/plain": [
       "<AxesSubplot:>"
      ]
     },
     "execution_count": 19,
     "metadata": {},
     "output_type": "execute_result"
    },
    {
     "data": {
      "image/png": "[encoded data removed]",
      "text/plain": [
       "<Figure size 1008x360 with 1 Axes>"
      ]
     },
     "metadata": {
      "needs_background": "light"
     },
     "output_type": "display_data"
    }
   ],
   "source": [
    "beats_acs_gdf[beats_acs_gdf['geo_12'].isnull()].plot()"
   ]
  },
  {
   "cell_type": "markdown",
   "id": "a5ab7a0f",
   "metadata": {},
   "source": [
    "## Create weighted average demographics"
   ]
  },
  {
   "cell_type": "code",
   "execution_count": 20,
   "id": "f31acee5",
   "metadata": {},
   "outputs": [],
   "source": [
    "# 1. Calculate proportion of each block group in beat\n",
    "beats_acs_gdf['beat_bg_area_km2'] = beats_acs_gdf.to_crs('EPSG:3857').area / 10**6\n",
    "beats_acs_gdf['beat_bg_area_prop'] = beats_acs_gdf['beat_bg_area_km2'] / beats_acs_gdf['bg_area_km2']"
   ]
  },
  {
   "cell_type": "code",
   "execution_count": 21,
   "id": "f7219ec4",
   "metadata": {},
   "outputs": [
    {
     "data": {
      "text/plain": [
       "count    4.947000e+03\n",
       "mean     4.408854e-01\n",
       "std      4.584503e-01\n",
       "min      1.295894e-12\n",
       "25%      5.203418e-05\n",
       "50%      2.369157e-01\n",
       "75%      9.998556e-01\n",
       "max      1.000000e+00\n",
       "Name: beat_bg_area_prop, dtype: float64"
      ]
     },
     "execution_count": 21,
     "metadata": {},
     "output_type": "execute_result"
    }
   ],
   "source": [
    "beats_acs_gdf['beat_bg_area_prop'].describe()"
   ]
  },
  {
   "cell_type": "code",
   "execution_count": 22,
   "id": "67bad13b",
   "metadata": {},
   "outputs": [],
   "source": [
    "#2. Recalculate populations\n",
    "for col in ['Total Pop', 'White', 'Black', 'Hispanic']:\n",
    "    beats_acs_gdf[col] = beats_acs_gdf[col] * beats_acs_gdf['beat_bg_area_prop']"
   ]
  },
  {
   "cell_type": "code",
   "execution_count": 23,
   "id": "61852f9d",
   "metadata": {},
   "outputs": [],
   "source": [
    "#3. Sum population by beat\n",
    "beats_demo_gdf = beats_acs_gdf.groupby(['beat', 'beat_num', 'district', 'sector']).agg({'Total Pop': ['sum'],\n",
    "                                                                       'White': ['sum'],\n",
    "                                                                       'Black': ['sum'],\n",
    "                                                                       'Hispanic': ['sum'],\n",
    "                                                                       'Median Income': ['mean']})"
   ]
  },
  {
   "cell_type": "code",
   "execution_count": 24,
   "id": "54db9edf",
   "metadata": {},
   "outputs": [],
   "source": [
    "#4. Calc percentages\n",
    "for col in ['White', 'Black', 'Hispanic']:\n",
    "    beats_demo_gdf[col] = beats_demo_gdf[col] / beats_demo_gdf['Total Pop']"
   ]
  },
  {
   "cell_type": "code",
   "execution_count": 25,
   "id": "a759ebf3",
   "metadata": {},
   "outputs": [],
   "source": [
    "# rename columns\n",
    "beats_demo_gdf = beats_demo_gdf.reset_index()\n",
    "beats_demo_gdf.columns = [col[0] for col in beats_demo_gdf.columns]"
   ]
  },
  {
   "cell_type": "code",
   "execution_count": 26,
   "id": "564f781e",
   "metadata": {},
   "outputs": [
    {
     "data": {
      "text/html": [
       "<div>\n",
       "<style scoped>\n",
       "    .dataframe tbody tr th:only-of-type {\n",
       "        vertical-align: middle;\n",
       "    }\n",
       "\n",
       "    .dataframe tbody tr th {\n",
       "        vertical-align: top;\n",
       "    }\n",
       "\n",
       "    .dataframe thead th {\n",
       "        text-align: right;\n",
       "    }\n",
       "</style>\n",
       "<table border=\"1\" class=\"dataframe\">\n",
       "  <thead>\n",
       "    <tr style=\"text-align: right;\">\n",
       "      <th></th>\n",
       "      <th>beat</th>\n",
       "      <th>beat_num</th>\n",
       "      <th>district</th>\n",
       "      <th>sector</th>\n",
       "      <th>Total Pop</th>\n",
       "      <th>White</th>\n",
       "      <th>Black</th>\n",
       "      <th>Hispanic</th>\n",
       "      <th>Median Income</th>\n",
       "    </tr>\n",
       "  </thead>\n",
       "  <tbody>\n",
       "    <tr>\n",
       "      <th>270</th>\n",
       "      <td>5</td>\n",
       "      <td>1651</td>\n",
       "      <td>16</td>\n",
       "      <td>5</td>\n",
       "      <td>0.0</td>\n",
       "      <td>NaN</td>\n",
       "      <td>NaN</td>\n",
       "      <td>NaN</td>\n",
       "      <td>NaN</td>\n",
       "    </tr>\n",
       "    <tr>\n",
       "      <th>271</th>\n",
       "      <td>5</td>\n",
       "      <td>1652</td>\n",
       "      <td>16</td>\n",
       "      <td>5</td>\n",
       "      <td>0.0</td>\n",
       "      <td>NaN</td>\n",
       "      <td>NaN</td>\n",
       "      <td>NaN</td>\n",
       "      <td>NaN</td>\n",
       "    </tr>\n",
       "    <tr>\n",
       "      <th>272</th>\n",
       "      <td>5</td>\n",
       "      <td>1653</td>\n",
       "      <td>16</td>\n",
       "      <td>5</td>\n",
       "      <td>0.0</td>\n",
       "      <td>NaN</td>\n",
       "      <td>NaN</td>\n",
       "      <td>NaN</td>\n",
       "      <td>NaN</td>\n",
       "    </tr>\n",
       "    <tr>\n",
       "      <th>274</th>\n",
       "      <td>5</td>\n",
       "      <td>1655</td>\n",
       "      <td>16</td>\n",
       "      <td>5</td>\n",
       "      <td>0.0</td>\n",
       "      <td>NaN</td>\n",
       "      <td>NaN</td>\n",
       "      <td>NaN</td>\n",
       "      <td>NaN</td>\n",
       "    </tr>\n",
       "  </tbody>\n",
       "</table>\n",
       "</div>"
      ],
      "text/plain": [
       "    beat beat_num district sector  Total Pop  White  Black  Hispanic  \\\n",
       "270    5     1651       16      5        0.0    NaN    NaN       NaN   \n",
       "271    5     1652       16      5        0.0    NaN    NaN       NaN   \n",
       "272    5     1653       16      5        0.0    NaN    NaN       NaN   \n",
       "274    5     1655       16      5        0.0    NaN    NaN       NaN   \n",
       "\n",
       "     Median Income  \n",
       "270            NaN  \n",
       "271            NaN  \n",
       "272            NaN  \n",
       "274            NaN  "
      ]
     },
     "execution_count": 26,
     "metadata": {},
     "output_type": "execute_result"
    }
   ],
   "source": [
    "beats_demo_gdf[beats_demo_gdf['Median Income'].isnull()]"
   ]
  },
  {
   "cell_type": "code",
   "execution_count": 27,
   "id": "02d145f3",
   "metadata": {},
   "outputs": [
    {
     "data": {
      "text/html": [
       "<div>\n",
       "<style scoped>\n",
       "    .dataframe tbody tr th:only-of-type {\n",
       "        vertical-align: middle;\n",
       "    }\n",
       "\n",
       "    .dataframe tbody tr th {\n",
       "        vertical-align: top;\n",
       "    }\n",
       "\n",
       "    .dataframe thead th {\n",
       "        text-align: right;\n",
       "    }\n",
       "</style>\n",
       "<table border=\"1\" class=\"dataframe\">\n",
       "  <thead>\n",
       "    <tr style=\"text-align: right;\">\n",
       "      <th></th>\n",
       "      <th>beat</th>\n",
       "      <th>beat_num</th>\n",
       "      <th>district</th>\n",
       "      <th>sector</th>\n",
       "      <th>Total Pop</th>\n",
       "      <th>White</th>\n",
       "      <th>Black</th>\n",
       "      <th>Hispanic</th>\n",
       "      <th>Median Income</th>\n",
       "    </tr>\n",
       "  </thead>\n",
       "  <tbody>\n",
       "    <tr>\n",
       "      <th>0</th>\n",
       "      <td>0</td>\n",
       "      <td>3100</td>\n",
       "      <td>31</td>\n",
       "      <td>0</td>\n",
       "      <td>739.498175</td>\n",
       "      <td>0.891204</td>\n",
       "      <td>0.075207</td>\n",
       "      <td>0.105740</td>\n",
       "      <td>70863.875000</td>\n",
       "    </tr>\n",
       "    <tr>\n",
       "      <th>1</th>\n",
       "      <td>1</td>\n",
       "      <td>0111</td>\n",
       "      <td>01</td>\n",
       "      <td>1</td>\n",
       "      <td>2303.898896</td>\n",
       "      <td>0.729601</td>\n",
       "      <td>0.039184</td>\n",
       "      <td>0.071100</td>\n",
       "      <td>98843.500000</td>\n",
       "    </tr>\n",
       "    <tr>\n",
       "      <th>2</th>\n",
       "      <td>1</td>\n",
       "      <td>0112</td>\n",
       "      <td>01</td>\n",
       "      <td>1</td>\n",
       "      <td>981.205008</td>\n",
       "      <td>0.686383</td>\n",
       "      <td>0.081220</td>\n",
       "      <td>0.092135</td>\n",
       "      <td>125252.333333</td>\n",
       "    </tr>\n",
       "    <tr>\n",
       "      <th>3</th>\n",
       "      <td>1</td>\n",
       "      <td>0113</td>\n",
       "      <td>01</td>\n",
       "      <td>1</td>\n",
       "      <td>951.687016</td>\n",
       "      <td>0.621650</td>\n",
       "      <td>0.103919</td>\n",
       "      <td>0.094872</td>\n",
       "      <td>121779.000000</td>\n",
       "    </tr>\n",
       "    <tr>\n",
       "      <th>4</th>\n",
       "      <td>1</td>\n",
       "      <td>0114</td>\n",
       "      <td>01</td>\n",
       "      <td>1</td>\n",
       "      <td>14944.268765</td>\n",
       "      <td>0.730854</td>\n",
       "      <td>0.057134</td>\n",
       "      <td>0.082221</td>\n",
       "      <td>118957.454545</td>\n",
       "    </tr>\n",
       "    <tr>\n",
       "      <th>...</th>\n",
       "      <td>...</td>\n",
       "      <td>...</td>\n",
       "      <td>...</td>\n",
       "      <td>...</td>\n",
       "      <td>...</td>\n",
       "      <td>...</td>\n",
       "      <td>...</td>\n",
       "      <td>...</td>\n",
       "      <td>...</td>\n",
       "    </tr>\n",
       "    <tr>\n",
       "      <th>270</th>\n",
       "      <td>5</td>\n",
       "      <td>1651</td>\n",
       "      <td>16</td>\n",
       "      <td>5</td>\n",
       "      <td>0.000000</td>\n",
       "      <td>NaN</td>\n",
       "      <td>NaN</td>\n",
       "      <td>NaN</td>\n",
       "      <td>NaN</td>\n",
       "    </tr>\n",
       "    <tr>\n",
       "      <th>271</th>\n",
       "      <td>5</td>\n",
       "      <td>1652</td>\n",
       "      <td>16</td>\n",
       "      <td>5</td>\n",
       "      <td>0.000000</td>\n",
       "      <td>NaN</td>\n",
       "      <td>NaN</td>\n",
       "      <td>NaN</td>\n",
       "      <td>NaN</td>\n",
       "    </tr>\n",
       "    <tr>\n",
       "      <th>272</th>\n",
       "      <td>5</td>\n",
       "      <td>1653</td>\n",
       "      <td>16</td>\n",
       "      <td>5</td>\n",
       "      <td>0.000000</td>\n",
       "      <td>NaN</td>\n",
       "      <td>NaN</td>\n",
       "      <td>NaN</td>\n",
       "      <td>NaN</td>\n",
       "    </tr>\n",
       "    <tr>\n",
       "      <th>273</th>\n",
       "      <td>5</td>\n",
       "      <td>1654</td>\n",
       "      <td>16</td>\n",
       "      <td>5</td>\n",
       "      <td>7354.836626</td>\n",
       "      <td>0.826988</td>\n",
       "      <td>0.026607</td>\n",
       "      <td>0.339339</td>\n",
       "      <td>60432.000000</td>\n",
       "    </tr>\n",
       "    <tr>\n",
       "      <th>274</th>\n",
       "      <td>5</td>\n",
       "      <td>1655</td>\n",
       "      <td>16</td>\n",
       "      <td>5</td>\n",
       "      <td>0.000000</td>\n",
       "      <td>NaN</td>\n",
       "      <td>NaN</td>\n",
       "      <td>NaN</td>\n",
       "      <td>NaN</td>\n",
       "    </tr>\n",
       "  </tbody>\n",
       "</table>\n",
       "<p>275 rows × 9 columns</p>\n",
       "</div>"
      ],
      "text/plain": [
       "    beat beat_num district sector     Total Pop     White     Black  Hispanic  \\\n",
       "0      0     3100       31      0    739.498175  0.891204  0.075207  0.105740   \n",
       "1      1     0111       01      1   2303.898896  0.729601  0.039184  0.071100   \n",
       "2      1     0112       01      1    981.205008  0.686383  0.081220  0.092135   \n",
       "3      1     0113       01      1    951.687016  0.621650  0.103919  0.094872   \n",
       "4      1     0114       01      1  14944.268765  0.730854  0.057134  0.082221   \n",
       "..   ...      ...      ...    ...           ...       ...       ...       ...   \n",
       "270    5     1651       16      5      0.000000       NaN       NaN       NaN   \n",
       "271    5     1652       16      5      0.000000       NaN       NaN       NaN   \n",
       "272    5     1653       16      5      0.000000       NaN       NaN       NaN   \n",
       "273    5     1654       16      5   7354.836626  0.826988  0.026607  0.339339   \n",
       "274    5     1655       16      5      0.000000       NaN       NaN       NaN   \n",
       "\n",
       "     Median Income  \n",
       "0     70863.875000  \n",
       "1     98843.500000  \n",
       "2    125252.333333  \n",
       "3    121779.000000  \n",
       "4    118957.454545  \n",
       "..             ...  \n",
       "270            NaN  \n",
       "271            NaN  \n",
       "272            NaN  \n",
       "273   60432.000000  \n",
       "274            NaN  \n",
       "\n",
       "[275 rows x 9 columns]"
      ]
     },
     "execution_count": 27,
     "metadata": {},
     "output_type": "execute_result"
    }
   ],
   "source": [
    "beats_demo_gdf"
   ]
  },
  {
   "cell_type": "code",
   "execution_count": 28,
   "id": "9ffd26f3",
   "metadata": {},
   "outputs": [
    {
     "data": {
      "text/html": [
       "<div>\n",
       "<style scoped>\n",
       "    .dataframe tbody tr th:only-of-type {\n",
       "        vertical-align: middle;\n",
       "    }\n",
       "\n",
       "    .dataframe tbody tr th {\n",
       "        vertical-align: top;\n",
       "    }\n",
       "\n",
       "    .dataframe thead th {\n",
       "        text-align: right;\n",
       "    }\n",
       "</style>\n",
       "<table border=\"1\" class=\"dataframe\">\n",
       "  <thead>\n",
       "    <tr style=\"text-align: right;\">\n",
       "      <th></th>\n",
       "      <th>beat</th>\n",
       "      <th>beat_num</th>\n",
       "      <th>district</th>\n",
       "      <th>sector</th>\n",
       "      <th>Total Pop</th>\n",
       "      <th>White</th>\n",
       "      <th>Black</th>\n",
       "      <th>Hispanic</th>\n",
       "      <th>Median Income</th>\n",
       "    </tr>\n",
       "  </thead>\n",
       "  <tbody>\n",
       "    <tr>\n",
       "      <th>0</th>\n",
       "      <td>0</td>\n",
       "      <td>3100</td>\n",
       "      <td>31</td>\n",
       "      <td>0</td>\n",
       "      <td>739.498175</td>\n",
       "      <td>0.891204</td>\n",
       "      <td>0.075207</td>\n",
       "      <td>0.105740</td>\n",
       "      <td>70863.875000</td>\n",
       "    </tr>\n",
       "    <tr>\n",
       "      <th>1</th>\n",
       "      <td>1</td>\n",
       "      <td>0111</td>\n",
       "      <td>01</td>\n",
       "      <td>1</td>\n",
       "      <td>2303.898896</td>\n",
       "      <td>0.729601</td>\n",
       "      <td>0.039184</td>\n",
       "      <td>0.071100</td>\n",
       "      <td>98843.500000</td>\n",
       "    </tr>\n",
       "    <tr>\n",
       "      <th>2</th>\n",
       "      <td>1</td>\n",
       "      <td>0112</td>\n",
       "      <td>01</td>\n",
       "      <td>1</td>\n",
       "      <td>981.205008</td>\n",
       "      <td>0.686383</td>\n",
       "      <td>0.081220</td>\n",
       "      <td>0.092135</td>\n",
       "      <td>125252.333333</td>\n",
       "    </tr>\n",
       "    <tr>\n",
       "      <th>3</th>\n",
       "      <td>1</td>\n",
       "      <td>0113</td>\n",
       "      <td>01</td>\n",
       "      <td>1</td>\n",
       "      <td>951.687016</td>\n",
       "      <td>0.621650</td>\n",
       "      <td>0.103919</td>\n",
       "      <td>0.094872</td>\n",
       "      <td>121779.000000</td>\n",
       "    </tr>\n",
       "    <tr>\n",
       "      <th>4</th>\n",
       "      <td>1</td>\n",
       "      <td>0114</td>\n",
       "      <td>01</td>\n",
       "      <td>1</td>\n",
       "      <td>14944.268765</td>\n",
       "      <td>0.730854</td>\n",
       "      <td>0.057134</td>\n",
       "      <td>0.082221</td>\n",
       "      <td>118957.454545</td>\n",
       "    </tr>\n",
       "    <tr>\n",
       "      <th>...</th>\n",
       "      <td>...</td>\n",
       "      <td>...</td>\n",
       "      <td>...</td>\n",
       "      <td>...</td>\n",
       "      <td>...</td>\n",
       "      <td>...</td>\n",
       "      <td>...</td>\n",
       "      <td>...</td>\n",
       "      <td>...</td>\n",
       "    </tr>\n",
       "    <tr>\n",
       "      <th>270</th>\n",
       "      <td>5</td>\n",
       "      <td>1651</td>\n",
       "      <td>16</td>\n",
       "      <td>5</td>\n",
       "      <td>9173.222439</td>\n",
       "      <td>0.472633</td>\n",
       "      <td>0.239929</td>\n",
       "      <td>0.109303</td>\n",
       "      <td>46740.894737</td>\n",
       "    </tr>\n",
       "    <tr>\n",
       "      <th>271</th>\n",
       "      <td>5</td>\n",
       "      <td>1652</td>\n",
       "      <td>16</td>\n",
       "      <td>5</td>\n",
       "      <td>9173.222439</td>\n",
       "      <td>0.472633</td>\n",
       "      <td>0.239929</td>\n",
       "      <td>0.109303</td>\n",
       "      <td>46740.894737</td>\n",
       "    </tr>\n",
       "    <tr>\n",
       "      <th>272</th>\n",
       "      <td>5</td>\n",
       "      <td>1653</td>\n",
       "      <td>16</td>\n",
       "      <td>5</td>\n",
       "      <td>9173.222439</td>\n",
       "      <td>0.472633</td>\n",
       "      <td>0.239929</td>\n",
       "      <td>0.109303</td>\n",
       "      <td>46740.894737</td>\n",
       "    </tr>\n",
       "    <tr>\n",
       "      <th>273</th>\n",
       "      <td>5</td>\n",
       "      <td>1654</td>\n",
       "      <td>16</td>\n",
       "      <td>5</td>\n",
       "      <td>7354.836626</td>\n",
       "      <td>0.826988</td>\n",
       "      <td>0.026607</td>\n",
       "      <td>0.339339</td>\n",
       "      <td>60432.000000</td>\n",
       "    </tr>\n",
       "    <tr>\n",
       "      <th>274</th>\n",
       "      <td>5</td>\n",
       "      <td>1655</td>\n",
       "      <td>16</td>\n",
       "      <td>5</td>\n",
       "      <td>9173.222439</td>\n",
       "      <td>0.472633</td>\n",
       "      <td>0.239929</td>\n",
       "      <td>0.109303</td>\n",
       "      <td>46740.894737</td>\n",
       "    </tr>\n",
       "  </tbody>\n",
       "</table>\n",
       "<p>275 rows × 9 columns</p>\n",
       "</div>"
      ],
      "text/plain": [
       "    beat beat_num district sector     Total Pop     White     Black  Hispanic  \\\n",
       "0      0     3100       31      0    739.498175  0.891204  0.075207  0.105740   \n",
       "1      1     0111       01      1   2303.898896  0.729601  0.039184  0.071100   \n",
       "2      1     0112       01      1    981.205008  0.686383  0.081220  0.092135   \n",
       "3      1     0113       01      1    951.687016  0.621650  0.103919  0.094872   \n",
       "4      1     0114       01      1  14944.268765  0.730854  0.057134  0.082221   \n",
       "..   ...      ...      ...    ...           ...       ...       ...       ...   \n",
       "270    5     1651       16      5   9173.222439  0.472633  0.239929  0.109303   \n",
       "271    5     1652       16      5   9173.222439  0.472633  0.239929  0.109303   \n",
       "272    5     1653       16      5   9173.222439  0.472633  0.239929  0.109303   \n",
       "273    5     1654       16      5   7354.836626  0.826988  0.026607  0.339339   \n",
       "274    5     1655       16      5   9173.222439  0.472633  0.239929  0.109303   \n",
       "\n",
       "     Median Income  \n",
       "0     70863.875000  \n",
       "1     98843.500000  \n",
       "2    125252.333333  \n",
       "3    121779.000000  \n",
       "4    118957.454545  \n",
       "..             ...  \n",
       "270   46740.894737  \n",
       "271   46740.894737  \n",
       "272   46740.894737  \n",
       "273   60432.000000  \n",
       "274   46740.894737  \n",
       "\n",
       "[275 rows x 9 columns]"
      ]
     },
     "execution_count": 28,
     "metadata": {},
     "output_type": "execute_result"
    }
   ],
   "source": [
    "# Assign median to NAs\n",
    "beats_demo_gdf['Total Pop'] = np.where(beats_demo_gdf['Total Pop']==0, np.nan, beats_demo_gdf['Total Pop'])\n",
    "beats_demo_gdf = beats_demo_gdf.fillna(beats_demo_gdf.median())\n",
    "beats_demo_gdf"
   ]
  },
  {
   "cell_type": "code",
   "execution_count": 30,
   "id": "6d31393a",
   "metadata": {},
   "outputs": [],
   "source": [
    "#5. Export to csv\n",
    "beats_demo_gdf.to_csv('../data/features/demographics.csv', index=False)"
   ]
  },
  {
   "cell_type": "markdown",
   "id": "5946297f",
   "metadata": {},
   "source": [
    "### Notes/further items\n",
    "1. Currently taking straight average for median income\n",
    "2. Several beat geograpies are not intersecting with census geographies.  Could re-download fuller census geographies for cook county.\n",
    "3. Hispanic can be overlapping with white/black (note- not a change)"
   ]
  }
 ],
 "metadata": {
  "kernelspec": {
   "display_name": "env",
   "language": "python",
   "name": "env"
  },
  "language_info": {
   "codemirror_mode": {
    "name": "ipython",
    "version": 3
   },
   "file_extension": ".py",
   "mimetype": "text/x-python",
   "name": "python",
   "nbconvert_exporter": "python",
   "pygments_lexer": "ipython3",
   "version": "3.6.9"
  }
 },
 "nbformat": 4,
 "nbformat_minor": 5
}
