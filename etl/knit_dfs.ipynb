{
 "cells": [
  {
   "cell_type": "markdown",
   "metadata": {},
   "source": [
    "# Merges the four features csvs into one file"
   ]
  },
  {
   "cell_type": "code",
   "execution_count": 8,
   "metadata": {},
   "outputs": [],
   "source": [
    "import pandas as pd\n",
    "import numpy as np\n",
    "import seaborn as sns"
   ]
  },
  {
   "cell_type": "code",
   "execution_count": 17,
   "metadata": {},
   "outputs": [],
   "source": [
    "complaints = pd.read_csv('../data/features/complaints.csv')\n",
    "crime = pd.read_csv('../data/features/crime.csv')\n",
    "isr = pd.read_csv('../data/features/isr.csv')\n",
    "uof = pd.read_csv('../data/features/use_of_force.csv')"
   ]
  },
  {
   "cell_type": "code",
   "execution_count": 18,
   "metadata": {},
   "outputs": [],
   "source": [
    "#standardize col names\n",
    "crime.rename(columns={'Beat':'BEAT', 'Year':'YEAR'}, inplace=True)\n",
    "complaints.rename(columns={'COMPLAINT_YEAR':'YEAR'}, inplace=True)"
   ]
  },
  {
   "cell_type": "code",
   "execution_count": 19,
   "metadata": {},
   "outputs": [],
   "source": [
    "# prefix columns with dataset name to make merging tidier\n",
    "complaints.rename(columns=lambda c: c if c in ['BEAT','YEAR'] else \"COMPLAINTS_\"+c, inplace=True)\n",
    "crime.rename(columns=lambda c: c if c in ['BEAT','YEAR'] else \"CRIME_\"+c, inplace=True)\n",
    "isr.rename(columns=lambda c: c if c in ['BEAT','YEAR'] else \"ISR_\"+c, inplace=True)\n",
    "uof.rename(columns=lambda c: c if c in ['BEAT','YEAR'] else \"UOF_\"+c, inplace=True)"
   ]
  },
  {
   "cell_type": "code",
   "execution_count": 21,
   "metadata": {},
   "outputs": [],
   "source": [
    "merged_df = pd.merge(complaints, crime, how='outer', on=['BEAT','YEAR'])\n",
    "merged_df = pd.merge(merged_df, isr, how='outer', on=['BEAT', 'YEAR'])\n",
    "merged_df = pd.merge(merged_df, uof, how='outer', on=['BEAT', 'YEAR'])"
   ]
  },
  {
   "cell_type": "code",
   "execution_count": 22,
   "metadata": {},
   "outputs": [
    {
     "data": {
      "text/plain": [
       "Index(['BEAT', 'YEAR', 'COMPLAINTS_POLICE_SHOOTING',\n",
       "       'COMPLAINTS_COMPLAINANT_RACE_BlackorAfricanAmerican',\n",
       "       'COMPLAINTS_COMPLAINANT_RACE_Hispanic,Latino,orSpanishOrigin',\n",
       "       'COMPLAINTS_COMPLAINANT_RACE_White',\n",
       "       'COMPLAINTS_COMPLAINANT_RACE_Other', 'CRIME_Crimes', 'CRIME_Arrest',\n",
       "       'CRIME_Domestic', 'ISR_Unnamed: 0', 'ISR_DISTRICT', 'ISR_SECTOR',\n",
       "       'ISR_TOTAL_COUNT', 'ISR_RACE_CODE_CD_API', 'ISR_RACE_CODE_CD_BLK',\n",
       "       'ISR_RACE_CODE_CD_I', 'ISR_RACE_CODE_CD_P', 'ISR_RACE_CODE_CD_U',\n",
       "       'ISR_RACE_CODE_CD_WBH', 'ISR_RACE_CODE_CD_WHI', 'ISR_RACE_CODE_CD_WHT',\n",
       "       'ISR_RACE_CODE_CD_WWH', 'ISR_ENFORCEMENT_TYPE_CD_ANOV',\n",
       "       'ISR_ENFORCEMENT_TYPE_CD_ARR', 'ISR_ENFORCEMENT_TYPE_CD_OTH',\n",
       "       'ISR_ENFORCEMENT_TYPE_CD_PSC', 'ISR_CONTACT_TYPE_CD_GANGLTR',\n",
       "       'ISR_CONTACT_TYPE_CD_INVSTG', 'UOF_Unnamed: 0', 'UOF_DISTRICT',\n",
       "       'UOF_TOTAL_COUNT', 'UOF_SUBJECT_RACE_ ASIAN/PACIFIC ISLANDER',\n",
       "       'UOF_SUBJECT_RACE_AFRICAN-AMERICAN', 'UOF_SUBJECT_RACE_BLACK HISPANIC',\n",
       "       'UOF_SUBJECT_RACE_NATIVE AMERICAN/ALASKA NATIVE',\n",
       "       'UOF_SUBJECT_RACE_UNKNOWN', 'UOF_SUBJECT_RACE_UNKNOWN / REFUSED',\n",
       "       'UOF_SUBJECT_RACE_WHITE', 'UOF_SUBJECT_RACE_WHITE HISPANIC',\n",
       "       'UOF_SUBJECT_GENDER_FEMALE', 'UOF_SUBJECT_GENDER_MALE',\n",
       "       'UOF_SUBJECT_GENDER_UNKNOWN', 'UOF_SUBJECT_ARMED_DESC_BLUNT WEAPON',\n",
       "       'UOF_SUBJECT_ARMED_DESC_CHEMICAL WEAPON',\n",
       "       'UOF_SUBJECT_ARMED_DESC_EXPLOSIVE DEVICE',\n",
       "       'UOF_SUBJECT_ARMED_DESC_KNIFE / CUTTING INSTRUMENT',\n",
       "       'UOF_SUBJECT_ARMED_DESC_OTHER (DESCRIBE)',\n",
       "       'UOF_SUBJECT_ARMED_DESC_REVOLVER', 'UOF_SUBJECT_ARMED_DESC_RIFLE',\n",
       "       'UOF_SUBJECT_ARMED_DESC_SEMI-AUTO PISTOL',\n",
       "       'UOF_SUBJECT_ARMED_DESC_TASER / STUN GUN',\n",
       "       'UOF_SUBJECT_ARMED_DESC_VEHICLE'],\n",
       "      dtype='object')"
      ]
     },
     "execution_count": 22,
     "metadata": {},
     "output_type": "execute_result"
    }
   ],
   "source": [
    "merged_df.columns"
   ]
  },
  {
   "cell_type": "code",
   "execution_count": 31,
   "metadata": {},
   "outputs": [],
   "source": [
    "# Write to disk\n",
    "!mkdir -p ../data/features\n",
    "merged_df.to_csv(\"../data/features/merged.csv\")"
   ]
  },
  {
   "cell_type": "code",
   "execution_count": null,
   "metadata": {},
   "outputs": [],
   "source": []
  }
 ],
 "metadata": {
  "kernelspec": {
   "display_name": "mlpp_venv",
   "language": "python",
   "name": "mlpp_venv"
  },
  "language_info": {
   "codemirror_mode": {
    "name": "ipython",
    "version": 3
   },
   "file_extension": ".py",
   "mimetype": "text/x-python",
   "name": "python",
   "nbconvert_exporter": "python",
   "pygments_lexer": "ipython3",
   "version": "3.9.4"
  }
 },
 "nbformat": 4,
 "nbformat_minor": 5
}
