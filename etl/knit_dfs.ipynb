{
 "cells": [
  {
   "cell_type": "markdown",
   "id": "bf738dd4",
   "metadata": {},
   "source": [
    "# Merges the four features csvs into one file"
   ]
  },
  {
   "cell_type": "code",
   "execution_count": 1,
   "id": "74806bfd",
   "metadata": {},
   "outputs": [],
   "source": [
    "import pandas as pd\n",
    "import numpy as np"
   ]
  },
  {
   "cell_type": "code",
   "execution_count": 2,
   "id": "dd26ea39",
   "metadata": {},
   "outputs": [],
   "source": [
    "complaints = pd.read_csv('../data/features/complaints.csv')\n",
    "crime = pd.read_csv('../data/features/crime.csv')\n",
    "isr = pd.read_csv('../data/features/isr.csv')\n",
    "uof = pd.read_csv('../data/features/use_of_force.csv')\n",
    "census = pd.read_csv('../data/features/census_demographics.csv')\n",
    "\n"
   ]
  },
  {
   "cell_type": "code",
   "execution_count": 3,
   "id": "b45ab216",
   "metadata": {},
   "outputs": [],
   "source": [
    "#standardize col names\n",
    "crime.rename(columns={'Beat':'BEAT', 'Year':'YEAR'}, inplace=True)\n",
    "complaints.rename(columns={'COMPLAINT_YEAR':'YEAR'}, inplace=True)\n",
    "census.rename(columns={'beat_num':'BEAT'}, inplace=True)\n"
   ]
  },
  {
   "cell_type": "code",
   "execution_count": 4,
   "id": "164c1004",
   "metadata": {},
   "outputs": [],
   "source": [
    "# Remove missing beats from complaints data and convert to numeric\n",
    "complaints = complaints[complaints['BEAT']!='Unknown']\n",
    "complaints['BEAT']= pd.to_numeric(complaints['BEAT'])"
   ]
  },
  {
   "cell_type": "code",
   "execution_count": 5,
   "id": "80c97f44",
   "metadata": {},
   "outputs": [],
   "source": [
    "# prefix columns with dataset name to make merging tidier\n",
    "complaints.rename(columns=lambda c: c if c in ['BEAT','YEAR'] else \"COMPLAINTS_\"+c, inplace=True)\n",
    "crime.rename(columns=lambda c: c if c in ['BEAT','YEAR'] else \"CRIME_\"+c, inplace=True)\n",
    "isr.rename(columns=lambda c: c if c in ['BEAT','YEAR'] else \"ISR_\"+c, inplace=True)\n",
    "uof.rename(columns=lambda c: c if c in ['BEAT','YEAR'] else \"UOF_\"+c, inplace=True)\n",
    "census.rename(columns=lambda c: c if c in ['BEAT','YEAR'] else \"CENSUS_\"+c, inplace=True)\n"
   ]
  },
  {
   "cell_type": "code",
   "execution_count": 6,
   "id": "8a9e5e01",
   "metadata": {},
   "outputs": [],
   "source": [
    "merged_df = pd.merge(complaints, crime, how='inner', on=['BEAT','YEAR'])\n",
    "merged_df = pd.merge(merged_df, isr, how='inner', on=['BEAT', 'YEAR'])\n",
    "merged_df = pd.merge(merged_df, uof, how='inner', on=['BEAT', 'YEAR'])\n",
    "merged_df = pd.merge(merged_df, census, how='inner', on=['BEAT'])"
   ]
  },
  {
   "cell_type": "code",
   "execution_count": 7,
   "id": "6f3bfdaf",
   "metadata": {},
   "outputs": [
    {
     "data": {
      "text/plain": [
       "Index(['BEAT', 'YEAR', 'COMPLAINTS_POLICE_SHOOTING',\n",
       "       'COMPLAINTS_COMPLAINANT_RACE_BlackorAfricanAmerican',\n",
       "       'COMPLAINTS_COMPLAINANT_RACE_Hispanic,Latino,orSpanishOrigin',\n",
       "       'COMPLAINTS_COMPLAINANT_RACE_White',\n",
       "       'COMPLAINTS_COMPLAINANT_RACE_Other', 'CRIME_Total', 'CRIME_Arrest',\n",
       "       'CRIME_Domestic', 'ISR_DISTRICT', 'ISR_SECTOR', 'ISR_CNT_ISR_TOTAL',\n",
       "       'ISR_CNT_ISR_BLACK', 'ISR_CNT_ISR_WHITE', 'ISR_CNT_ISR_HISPANIC',\n",
       "       'UOF_DISTRICT', 'UOF_TOTAL_COUNT', 'UOF_HISPANIC', 'UOF_BLACK',\n",
       "       'UOF_WHITE', 'CENSUS_beat', 'CENSUS_district', 'CENSUS_sector',\n",
       "       'CENSUS_Total Pop', 'CENSUS_White', 'CENSUS_Black', 'CENSUS_Hispanic',\n",
       "       'CENSUS_Median Income'],\n",
       "      dtype='object')"
      ]
     },
     "execution_count": 7,
     "metadata": {},
     "output_type": "execute_result"
    }
   ],
   "source": [
    "merged_df.columns"
   ]
  },
  {
   "cell_type": "code",
   "execution_count": 8,
   "id": "b9b6f37c",
   "metadata": {},
   "outputs": [],
   "source": [
    "# Write to disk\n",
    "!mkdir -p ../data/features\n",
    "merged_df.to_csv(\"../data/features/merged.csv\", index=False)"
   ]
  },
  {
   "cell_type": "code",
   "execution_count": null,
   "id": "897c7829",
   "metadata": {},
   "outputs": [],
   "source": []
  }
 ],
 "metadata": {
  "kernelspec": {
   "display_name": "env",
   "language": "python",
   "name": "env"
  },
  "language_info": {
   "codemirror_mode": {
    "name": "ipython",
    "version": 3
   },
   "file_extension": ".py",
   "mimetype": "text/x-python",
   "name": "python",
   "nbconvert_exporter": "python",
   "pygments_lexer": "ipython3",
   "version": "3.6.9"
  }
 },
 "nbformat": 4,
 "nbformat_minor": 5
}
