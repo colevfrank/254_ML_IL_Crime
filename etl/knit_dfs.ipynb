{
 "cells": [
  {
   "cell_type": "markdown",
   "id": "bf738dd4",
   "metadata": {},
   "source": [
    "# Merges the four features csvs into one file"
   ]
  },
  {
   "cell_type": "code",
   "execution_count": 1,
   "id": "74806bfd",
   "metadata": {},
   "outputs": [],
   "source": [
    "import pandas as pd\n",
    "import numpy as np"
   ]
  },
  {
   "cell_type": "code",
   "execution_count": 2,
   "id": "dd26ea39",
   "metadata": {},
   "outputs": [],
   "source": [
    "complaints = pd.read_csv('../data/features/complaints.csv')\n",
    "crime = pd.read_csv('../data/features/crime.csv')\n",
    "isr = pd.read_csv('../data/features/isr.csv')\n",
    "uof = pd.read_csv('../data/features/use_of_force.csv')\n",
    "census = pd.read_csv('../data/features/census_demographics.csv')"
   ]
  },
  {
   "cell_type": "markdown",
   "id": "8b603149",
   "metadata": {},
   "source": [
    "## Standardize Column Names "
   ]
  },
  {
   "cell_type": "markdown",
   "id": "44b3a68f",
   "metadata": {},
   "source": [
    "### BEATS"
   ]
  },
  {
   "cell_type": "code",
   "execution_count": 3,
   "id": "b45ab216",
   "metadata": {},
   "outputs": [],
   "source": [
    "#standardize col names\n",
    "crime.rename(columns={'Beat':'BEAT', 'Year':'YEAR'}, inplace=True)\n",
    "complaints.rename(columns={'COMPLAINT_YEAR':'YEAR'}, inplace=True)\n",
    "census.rename(columns={'beat_num':'BEAT'}, inplace=True)"
   ]
  },
  {
   "cell_type": "code",
   "execution_count": 4,
   "id": "164c1004",
   "metadata": {},
   "outputs": [],
   "source": [
    "# Remove missing beats from complaints data\n",
    "complaints = complaints[complaints['BEAT']!='Unknown']"
   ]
  },
  {
   "cell_type": "code",
   "execution_count": 5,
   "id": "2becd3b3",
   "metadata": {},
   "outputs": [],
   "source": [
    "# Convert beat to int for all data\n",
    "for df in [complaints, crime, isr, uof, census]:\n",
    "    df['BEAT'] = df['BEAT'].astype(int)"
   ]
  },
  {
   "cell_type": "markdown",
   "id": "b3d81d40",
   "metadata": {},
   "source": [
    "### COMPLAINTS"
   ]
  },
  {
   "cell_type": "code",
   "execution_count": 6,
   "id": "f80c3bfd",
   "metadata": {},
   "outputs": [],
   "source": [
    "# Add total complaint col\n",
    "complaints['TOTAL'] = complaints['COMPLAINANT_RACE_BlackorAfricanAmerican'] + complaints[\n",
    "                                'COMPLAINANT_RACE_Hispanic,Latino,orSpanishOrigin'] + complaints[\n",
    "                                'COMPLAINANT_RACE_White'] + complaints[\n",
    "                                'COMPLAINANT_RACE_Other']"
   ]
  },
  {
   "cell_type": "code",
   "execution_count": 7,
   "id": "bcc9865b",
   "metadata": {},
   "outputs": [],
   "source": [
    "complaints.rename(columns = {\n",
    "    'COMPLAINANT_RACE_BlackorAfricanAmerican': 'BLACK',\n",
    "    'COMPLAINANT_RACE_Hispanic,Latino,orSpanishOrigin': 'HISPANIC',\n",
    "    'COMPLAINANT_RACE_White': 'WHITE'\n",
    "}, inplace=True)"
   ]
  },
  {
   "cell_type": "code",
   "execution_count": 8,
   "id": "b1f2da1c",
   "metadata": {},
   "outputs": [],
   "source": [
    "# Drop other column\n",
    "complaints.drop(['COMPLAINANT_RACE_Other'], axis=1, inplace=True)"
   ]
  },
  {
   "cell_type": "code",
   "execution_count": 9,
   "id": "a97d9466",
   "metadata": {},
   "outputs": [
    {
     "data": {
      "text/plain": [
       "Index(['BEAT', 'YEAR', 'POLICE_SHOOTING', 'BLACK', 'HISPANIC', 'WHITE',\n",
       "       'TOTAL'],\n",
       "      dtype='object')"
      ]
     },
     "execution_count": 9,
     "metadata": {},
     "output_type": "execute_result"
    }
   ],
   "source": [
    "complaints.columns"
   ]
  },
  {
   "cell_type": "markdown",
   "id": "c226159b",
   "metadata": {},
   "source": [
    "## Crime"
   ]
  },
  {
   "cell_type": "code",
   "execution_count": 10,
   "id": "6e693e01",
   "metadata": {},
   "outputs": [],
   "source": [
    "# CONVERT TO UPPER\n",
    "crime.columns = [c.upper() for c in crime.columns]"
   ]
  },
  {
   "cell_type": "code",
   "execution_count": 11,
   "id": "c70ed3f5",
   "metadata": {},
   "outputs": [
    {
     "data": {
      "text/plain": [
       "Index(['BEAT', 'YEAR', 'TOTAL', 'ARREST', 'DOMESTIC'], dtype='object')"
      ]
     },
     "execution_count": 11,
     "metadata": {},
     "output_type": "execute_result"
    }
   ],
   "source": [
    "crime.columns"
   ]
  },
  {
   "cell_type": "code",
   "execution_count": 12,
   "id": "d57ba313",
   "metadata": {},
   "outputs": [
    {
     "data": {
      "text/html": [
       "<div>\n",
       "<style scoped>\n",
       "    .dataframe tbody tr th:only-of-type {\n",
       "        vertical-align: middle;\n",
       "    }\n",
       "\n",
       "    .dataframe tbody tr th {\n",
       "        vertical-align: top;\n",
       "    }\n",
       "\n",
       "    .dataframe thead th {\n",
       "        text-align: right;\n",
       "    }\n",
       "</style>\n",
       "<table border=\"1\" class=\"dataframe\">\n",
       "  <thead>\n",
       "    <tr style=\"text-align: right;\">\n",
       "      <th></th>\n",
       "      <th>BEAT</th>\n",
       "      <th>YEAR</th>\n",
       "      <th>TOTAL_COUNT</th>\n",
       "      <th>POLICE_W_WEAPON</th>\n",
       "      <th>POLICE_WO_WEAPON</th>\n",
       "      <th>HISPANIC</th>\n",
       "      <th>BLACK</th>\n",
       "      <th>WHITE</th>\n",
       "    </tr>\n",
       "  </thead>\n",
       "  <tbody>\n",
       "    <tr>\n",
       "      <th>count</th>\n",
       "      <td>1083.000000</td>\n",
       "      <td>1083.000000</td>\n",
       "      <td>1083.000000</td>\n",
       "      <td>1083.000000</td>\n",
       "      <td>1083.000000</td>\n",
       "      <td>1083.000000</td>\n",
       "      <td>1083.000000</td>\n",
       "      <td>1083.000000</td>\n",
       "    </tr>\n",
       "    <tr>\n",
       "      <th>mean</th>\n",
       "      <td>1214.695291</td>\n",
       "      <td>2017.501385</td>\n",
       "      <td>19.067405</td>\n",
       "      <td>1.559557</td>\n",
       "      <td>5.854109</td>\n",
       "      <td>2.479224</td>\n",
       "      <td>14.457987</td>\n",
       "      <td>1.331487</td>\n",
       "    </tr>\n",
       "    <tr>\n",
       "      <th>std</th>\n",
       "      <td>708.812303</td>\n",
       "      <td>1.120613</td>\n",
       "      <td>16.051675</td>\n",
       "      <td>1.826815</td>\n",
       "      <td>7.140972</td>\n",
       "      <td>3.878025</td>\n",
       "      <td>15.629692</td>\n",
       "      <td>2.329985</td>\n",
       "    </tr>\n",
       "    <tr>\n",
       "      <th>min</th>\n",
       "      <td>0.000000</td>\n",
       "      <td>2016.000000</td>\n",
       "      <td>1.000000</td>\n",
       "      <td>0.000000</td>\n",
       "      <td>0.000000</td>\n",
       "      <td>0.000000</td>\n",
       "      <td>0.000000</td>\n",
       "      <td>0.000000</td>\n",
       "    </tr>\n",
       "    <tr>\n",
       "      <th>25%</th>\n",
       "      <td>631.500000</td>\n",
       "      <td>2016.000000</td>\n",
       "      <td>8.000000</td>\n",
       "      <td>0.000000</td>\n",
       "      <td>1.000000</td>\n",
       "      <td>0.000000</td>\n",
       "      <td>3.000000</td>\n",
       "      <td>0.000000</td>\n",
       "    </tr>\n",
       "    <tr>\n",
       "      <th>50%</th>\n",
       "      <td>1123.000000</td>\n",
       "      <td>2018.000000</td>\n",
       "      <td>15.000000</td>\n",
       "      <td>1.000000</td>\n",
       "      <td>3.000000</td>\n",
       "      <td>1.000000</td>\n",
       "      <td>10.000000</td>\n",
       "      <td>0.000000</td>\n",
       "    </tr>\n",
       "    <tr>\n",
       "      <th>75%</th>\n",
       "      <td>1811.000000</td>\n",
       "      <td>2019.000000</td>\n",
       "      <td>26.000000</td>\n",
       "      <td>2.000000</td>\n",
       "      <td>8.000000</td>\n",
       "      <td>3.000000</td>\n",
       "      <td>22.000000</td>\n",
       "      <td>2.000000</td>\n",
       "    </tr>\n",
       "    <tr>\n",
       "      <th>max</th>\n",
       "      <td>3100.000000</td>\n",
       "      <td>2019.000000</td>\n",
       "      <td>107.000000</td>\n",
       "      <td>13.000000</td>\n",
       "      <td>63.000000</td>\n",
       "      <td>30.000000</td>\n",
       "      <td>103.000000</td>\n",
       "      <td>20.000000</td>\n",
       "    </tr>\n",
       "  </tbody>\n",
       "</table>\n",
       "</div>"
      ],
      "text/plain": [
       "              BEAT         YEAR  TOTAL_COUNT  POLICE_W_WEAPON  \\\n",
       "count  1083.000000  1083.000000  1083.000000      1083.000000   \n",
       "mean   1214.695291  2017.501385    19.067405         1.559557   \n",
       "std     708.812303     1.120613    16.051675         1.826815   \n",
       "min       0.000000  2016.000000     1.000000         0.000000   \n",
       "25%     631.500000  2016.000000     8.000000         0.000000   \n",
       "50%    1123.000000  2018.000000    15.000000         1.000000   \n",
       "75%    1811.000000  2019.000000    26.000000         2.000000   \n",
       "max    3100.000000  2019.000000   107.000000        13.000000   \n",
       "\n",
       "       POLICE_WO_WEAPON     HISPANIC        BLACK        WHITE  \n",
       "count       1083.000000  1083.000000  1083.000000  1083.000000  \n",
       "mean           5.854109     2.479224    14.457987     1.331487  \n",
       "std            7.140972     3.878025    15.629692     2.329985  \n",
       "min            0.000000     0.000000     0.000000     0.000000  \n",
       "25%            1.000000     0.000000     3.000000     0.000000  \n",
       "50%            3.000000     1.000000    10.000000     0.000000  \n",
       "75%            8.000000     3.000000    22.000000     2.000000  \n",
       "max           63.000000    30.000000   103.000000    20.000000  "
      ]
     },
     "execution_count": 12,
     "metadata": {},
     "output_type": "execute_result"
    }
   ],
   "source": [
    "uof.describe()"
   ]
  },
  {
   "cell_type": "markdown",
   "id": "d0948026",
   "metadata": {},
   "source": [
    "## CENSUS"
   ]
  },
  {
   "cell_type": "code",
   "execution_count": 13,
   "id": "4af1e505",
   "metadata": {},
   "outputs": [
    {
     "data": {
      "text/plain": [
       "Index(['beat', 'BEAT', 'district', 'sector', 'Total Pop', 'White', 'Black',\n",
       "       'Hispanic', 'Median Income'],\n",
       "      dtype='object')"
      ]
     },
     "execution_count": 13,
     "metadata": {},
     "output_type": "execute_result"
    }
   ],
   "source": [
    "census.columns"
   ]
  },
  {
   "cell_type": "code",
   "execution_count": 14,
   "id": "a103dd2d",
   "metadata": {},
   "outputs": [],
   "source": [
    "census.drop(['district', 'sector', 'beat'], axis=1, inplace=True)"
   ]
  },
  {
   "cell_type": "code",
   "execution_count": 15,
   "id": "1c867848",
   "metadata": {},
   "outputs": [],
   "source": [
    "census.columns = [c.upper() for c in census.columns]"
   ]
  },
  {
   "cell_type": "markdown",
   "id": "e973149c",
   "metadata": {},
   "source": [
    "## MERGE ALL"
   ]
  },
  {
   "cell_type": "code",
   "execution_count": 16,
   "id": "8e490c8b",
   "metadata": {},
   "outputs": [
    {
     "name": "stdout",
     "output_type": "stream",
     "text": [
      "Empty DataFrame\n",
      "Columns: [BEAT, YEAR, POLICE_SHOOTING, BLACK, HISPANIC, WHITE, TOTAL]\n",
      "Index: []\n",
      "Empty DataFrame\n",
      "Columns: [BEAT, YEAR, TOTAL, ARREST, DOMESTIC]\n",
      "Index: []\n",
      "Empty DataFrame\n",
      "Columns: [BEAT, YEAR, TOTAL_STOPS, SEARCH, BLACK, WHITE, HISPANIC, ARREST]\n",
      "Index: []\n",
      "Empty DataFrame\n",
      "Columns: [BEAT, YEAR, TOTAL_COUNT, POLICE_W_WEAPON, POLICE_WO_WEAPON, HISPANIC, BLACK, WHITE]\n",
      "Index: []\n"
     ]
    }
   ],
   "source": [
    "for df in [complaints, crime, isr, uof]:\n",
    "    print(df[df.duplicated(subset=['BEAT', 'YEAR'])].sort_values(by=['BEAT', 'YEAR']))"
   ]
  },
  {
   "cell_type": "code",
   "execution_count": 17,
   "id": "80c97f44",
   "metadata": {},
   "outputs": [],
   "source": [
    "# prefix columns with dataset name to make merging tidier\n",
    "complaints.rename(columns=lambda c: c if c in ['BEAT','YEAR'] else \"COMPLAINTS_\"+c, inplace=True)\n",
    "crime.rename(columns=lambda c: c if c in ['BEAT','YEAR'] else \"CRIME_\"+c, inplace=True)\n",
    "isr.rename(columns=lambda c: c if c in ['BEAT','YEAR'] else \"ISR_\"+c, inplace=True)\n",
    "uof.rename(columns=lambda c: c if c in ['BEAT','YEAR'] else \"UOF_\"+c, inplace=True)\n",
    "census.rename(columns=lambda c: c if c in ['BEAT','YEAR'] else \"CENSUS_\"+c, inplace=True)\n"
   ]
  },
  {
   "cell_type": "code",
   "execution_count": 18,
   "id": "8a9e5e01",
   "metadata": {},
   "outputs": [
    {
     "name": "stdout",
     "output_type": "stream",
     "text": [
      "(991, 10)\n",
      "(991, 16)\n",
      "(979, 22)\n",
      "(979, 27)\n"
     ]
    }
   ],
   "source": [
    "merged_df = pd.merge(complaints, crime, how='inner', on=['BEAT','YEAR'])\n",
    "print(merged_df.shape)\n",
    "merged_df = pd.merge(merged_df, isr, how='inner', on=['BEAT', 'YEAR'])\n",
    "print(merged_df.shape)\n",
    "merged_df = pd.merge(merged_df, uof, how='inner', on=['BEAT', 'YEAR'])\n",
    "print(merged_df.shape)\n",
    "merged_df = pd.merge(merged_df, census, how='inner', on=['BEAT'])\n",
    "print(merged_df.shape)\n"
   ]
  },
  {
   "cell_type": "code",
   "execution_count": 19,
   "id": "ffec4c2f",
   "metadata": {},
   "outputs": [
    {
     "data": {
      "text/plain": [
       "Index(['BEAT', 'YEAR', 'COMPLAINTS_POLICE_SHOOTING', 'COMPLAINTS_BLACK',\n",
       "       'COMPLAINTS_HISPANIC', 'COMPLAINTS_WHITE', 'COMPLAINTS_TOTAL',\n",
       "       'CRIME_TOTAL', 'CRIME_ARREST', 'CRIME_DOMESTIC', 'ISR_TOTAL_STOPS',\n",
       "       'ISR_SEARCH', 'ISR_BLACK', 'ISR_WHITE', 'ISR_HISPANIC', 'ISR_ARREST',\n",
       "       'UOF_TOTAL_COUNT', 'UOF_POLICE_W_WEAPON', 'UOF_POLICE_WO_WEAPON',\n",
       "       'UOF_HISPANIC', 'UOF_BLACK', 'UOF_WHITE', 'CENSUS_TOTAL POP',\n",
       "       'CENSUS_WHITE', 'CENSUS_BLACK', 'CENSUS_HISPANIC',\n",
       "       'CENSUS_MEDIAN INCOME'],\n",
       "      dtype='object')"
      ]
     },
     "execution_count": 19,
     "metadata": {},
     "output_type": "execute_result"
    }
   ],
   "source": [
    "merged_df.columns"
   ]
  },
  {
   "cell_type": "code",
   "execution_count": 20,
   "id": "b9b6f37c",
   "metadata": {},
   "outputs": [],
   "source": [
    "# Write to disk\n",
    "!mkdir -p ../data/features\n",
    "merged_df.to_csv(\"../data/features/merged.csv\", index=False)"
   ]
  }
 ],
 "metadata": {
  "kernelspec": {
   "display_name": "env",
   "language": "python",
   "name": "env"
  },
  "language_info": {
   "codemirror_mode": {
    "name": "ipython",
    "version": 3
   },
   "file_extension": ".py",
   "mimetype": "text/x-python",
   "name": "python",
   "nbconvert_exporter": "python",
   "pygments_lexer": "ipython3",
   "version": "3.6.9"
  }
 },
 "nbformat": 4,
 "nbformat_minor": 5
}
