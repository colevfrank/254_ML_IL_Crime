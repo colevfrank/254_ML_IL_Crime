{
 "cells": [
  {
   "cell_type": "code",
   "execution_count": 1,
   "metadata": {},
   "outputs": [],
   "source": [
    "import pandas as pd\n",
    "import numpy as np\n",
    "import seaborn as sns"
   ]
  },
  {
   "cell_type": "code",
   "execution_count": 17,
   "metadata": {},
   "outputs": [],
   "source": [
    "complaints = pd.read_csv('../data/features/complaints.csv')\n",
    "crime = pd.read_csv('../data/features/crime.csv')\n",
    "isr = pd.read_csv('../data/features/isr.csv')\n",
    "uof = pd.read_csv('../data/features/use_of_force.csv')"
   ]
  },
  {
   "cell_type": "code",
   "execution_count": 28,
   "metadata": {},
   "outputs": [],
   "source": [
    "#standardize col names\n",
    "crime.rename(columns={'Beat':'BEAT', 'Year':'YEAR'}, inplace=True)\n",
    "complaints.rename(columns={'COMPLAINT_YEAR':'YEAR'}, inplace=True)"
   ]
  },
  {
   "cell_type": "code",
   "execution_count": 29,
   "metadata": {},
   "outputs": [],
   "source": [
    "merged_df = pd.merge(complaints, crime, how='outer', on=['BEAT','YEAR'])\n",
    "merged_df = pd.merge(merged_df, isr, how='outer', on=['BEAT', 'YEAR'])\n",
    "merged_df = pd.merge(merged_df, uof, how='outer', on=['BEAT', 'YEAR'])"
   ]
  },
  {
   "cell_type": "code",
   "execution_count": 30,
   "metadata": {},
   "outputs": [
    {
     "data": {
      "text/plain": [
       "Index(['BEAT', 'YEAR', 'POLICE_SHOOTING',\n",
       "       'COMPLAINANT_RACE_BlackorAfricanAmerican',\n",
       "       'COMPLAINANT_RACE_Hispanic,Latino,orSpanishOrigin',\n",
       "       'COMPLAINANT_RACE_White', 'COMPLAINANT_RACE_Other', 'Unnamed: 0_x',\n",
       "       'report_cnt', 'THEFT',\n",
       "       ...\n",
       "       'SUBJECT_ARMED_DESC_BLUNT WEAPON', 'SUBJECT_ARMED_DESC_CHEMICAL WEAPON',\n",
       "       'SUBJECT_ARMED_DESC_EXPLOSIVE DEVICE',\n",
       "       'SUBJECT_ARMED_DESC_KNIFE / CUTTING INSTRUMENT',\n",
       "       'SUBJECT_ARMED_DESC_OTHER (DESCRIBE)', 'SUBJECT_ARMED_DESC_REVOLVER',\n",
       "       'SUBJECT_ARMED_DESC_RIFLE', 'SUBJECT_ARMED_DESC_SEMI-AUTO PISTOL',\n",
       "       'SUBJECT_ARMED_DESC_TASER / STUN GUN', 'SUBJECT_ARMED_DESC_VEHICLE'],\n",
       "      dtype='object', length=124)"
      ]
     },
     "execution_count": 30,
     "metadata": {},
     "output_type": "execute_result"
    }
   ],
   "source": [
    "merged_df.columns"
   ]
  },
  {
   "cell_type": "code",
   "execution_count": 31,
   "metadata": {},
   "outputs": [],
   "source": [
    "# Write to disk\n",
    "!mkdir -p ../data/features\n",
    "merged_df.to_csv(\"../data/features/merged.csv\")"
   ]
  },
  {
   "cell_type": "code",
   "execution_count": null,
   "metadata": {},
   "outputs": [],
   "source": []
  }
 ],
 "metadata": {
  "kernelspec": {
   "display_name": "mlpp_venv",
   "language": "python",
   "name": "mlpp_venv"
  },
  "language_info": {
   "codemirror_mode": {
    "name": "ipython",
    "version": 3
   },
   "file_extension": ".py",
   "mimetype": "text/x-python",
   "name": "python",
   "nbconvert_exporter": "python",
   "pygments_lexer": "ipython3",
   "version": "3.9.4"
  }
 },
 "nbformat": 4,
 "nbformat_minor": 5
}
