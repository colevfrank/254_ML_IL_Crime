{
 "cells": [
  {
   "cell_type": "markdown",
   "id": "bf738dd4",
   "metadata": {},
   "source": [
    "# Merges the four features csvs into one file"
   ]
  },
  {
   "cell_type": "code",
   "execution_count": 1,
   "id": "74806bfd",
   "metadata": {},
   "outputs": [],
   "source": [
    "import pandas as pd\n",
    "import numpy as np"
   ]
  },
  {
   "cell_type": "code",
   "execution_count": 2,
   "id": "dd26ea39",
   "metadata": {},
   "outputs": [],
   "source": [
    "complaints = pd.read_csv('../data/features/complaints.csv')\n",
    "crime = pd.read_csv('../data/features/crime.csv')\n",
    "isr = pd.read_csv('../data/features/isr.csv')\n",
    "uof = pd.read_csv('../data/features/use_of_force.csv')\n",
    "census = pd.read_csv('../data/features/census_demographics.csv')"
   ]
  },
  {
   "cell_type": "code",
   "execution_count": 3,
   "id": "b45ab216",
   "metadata": {},
   "outputs": [],
   "source": [
    "#standardize col names\n",
    "crime.rename(columns={'Beat':'BEAT', 'Year':'YEAR'}, inplace=True)\n",
    "complaints.rename(columns={'COMPLAINT_YEAR':'YEAR'}, inplace=True)\n",
    "census.rename(columns={'beat_num':'BEAT'}, inplace=True)\n"
   ]
  },
  {
   "cell_type": "code",
   "execution_count": 4,
   "id": "164c1004",
   "metadata": {},
   "outputs": [],
   "source": [
    "# Remove missing beats from complaints data and convert to numeric\n",
    "complaints = complaints[complaints['BEAT']!='Unknown']\n",
    "complaints['BEAT']= pd.to_numeric(complaints['BEAT'])"
   ]
  },
  {
   "cell_type": "code",
   "execution_count": 5,
   "id": "8e490c8b",
   "metadata": {},
   "outputs": [
    {
     "name": "stdout",
     "output_type": "stream",
     "text": [
      "Empty DataFrame\n",
      "Columns: [BEAT, YEAR, POLICE_SHOOTING, COMPLAINANT_RACE_BlackorAfricanAmerican, COMPLAINANT_RACE_Hispanic,Latino,orSpanishOrigin, COMPLAINANT_RACE_White, COMPLAINANT_RACE_Other]\n",
      "Index: []\n",
      "Empty DataFrame\n",
      "Columns: [BEAT, YEAR, Total, Arrest, Domestic]\n",
      "Index: []\n",
      "Empty DataFrame\n",
      "Columns: [BEAT, YEAR, CNT_ISR_TOTAL, CNT_ISR_BLACK, CNT_ISR_WHITE, CNT_ISR_HISPANIC]\n",
      "Index: []\n",
      "Empty DataFrame\n",
      "Columns: [DISTRICT, BEAT, YEAR, TOTAL_COUNT, HISPANIC, BLACK, WHITE]\n",
      "Index: []\n"
     ]
    }
   ],
   "source": [
    "for df in [complaints, crime, isr, uof]:\n",
    "    print(df[df.duplicated(subset=['BEAT', 'YEAR'])].sort_values(by=['BEAT', 'YEAR']))"
   ]
  },
  {
   "cell_type": "code",
   "execution_count": 6,
   "id": "80c97f44",
   "metadata": {},
   "outputs": [],
   "source": [
    "# prefix columns with dataset name to make merging tidier\n",
    "complaints.rename(columns=lambda c: c if c in ['BEAT','YEAR'] else \"COMPLAINTS_\"+c, inplace=True)\n",
    "crime.rename(columns=lambda c: c if c in ['BEAT','YEAR'] else \"CRIME_\"+c, inplace=True)\n",
    "isr.rename(columns=lambda c: c if c in ['BEAT','YEAR'] else \"ISR_\"+c, inplace=True)\n",
    "uof.rename(columns=lambda c: c if c in ['BEAT','YEAR'] else \"UOF_\"+c, inplace=True)\n",
    "census.rename(columns=lambda c: c if c in ['BEAT','YEAR'] else \"CENSUS_\"+c, inplace=True)\n"
   ]
  },
  {
   "cell_type": "code",
   "execution_count": 7,
   "id": "2becd3b3",
   "metadata": {},
   "outputs": [],
   "source": [
    "# Convert beat to int for all data\n",
    "for df in [complaints, crime, isr, uof, census]:\n",
    "    df['BEAT'] = df['BEAT'].astype(int)"
   ]
  },
  {
   "cell_type": "code",
   "execution_count": 8,
   "id": "8a9e5e01",
   "metadata": {},
   "outputs": [
    {
     "name": "stdout",
     "output_type": "stream",
     "text": [
      "(272,)\n",
      "(272,)\n",
      "(271,)\n",
      "(271,)\n"
     ]
    }
   ],
   "source": [
    "merged_df = pd.merge(complaints, crime, how='inner', on=['BEAT','YEAR'])\n",
    "merged_df = pd.merge(merged_df, isr, how='inner', on=['BEAT', 'YEAR'])\n",
    "merged_df = pd.merge(merged_df, uof, how='inner', on=['BEAT', 'YEAR'])\n",
    "merged_df = pd.merge(merged_df, census, how='inner', on=['BEAT'])\n"
   ]
  },
  {
   "cell_type": "code",
   "execution_count": 10,
   "id": "b9b6f37c",
   "metadata": {},
   "outputs": [],
   "source": [
    "# Write to disk\n",
    "!mkdir -p ../data/features\n",
    "merged_df.to_csv(\"../data/features/merged.csv\", index=False)"
   ]
  },
  {
   "cell_type": "code",
   "execution_count": null,
   "id": "897c7829",
   "metadata": {},
   "outputs": [],
   "source": []
  }
 ],
 "metadata": {
  "kernelspec": {
   "display_name": "env",
   "language": "python",
   "name": "env"
  },
  "language_info": {
   "codemirror_mode": {
    "name": "ipython",
    "version": 3
   },
   "file_extension": ".py",
   "mimetype": "text/x-python",
   "name": "python",
   "nbconvert_exporter": "python",
   "pygments_lexer": "ipython3",
   "version": "3.6.9"
  }
 },
 "nbformat": 4,
 "nbformat_minor": 5
}
