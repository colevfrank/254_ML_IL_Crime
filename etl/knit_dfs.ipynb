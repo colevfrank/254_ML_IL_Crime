{
 "cells": [
  {
   "cell_type": "markdown",
   "metadata": {},
   "source": [
    "# Merges the four features csvs into one file"
   ]
  },
  {
   "cell_type": "code",
   "execution_count": 1,
   "metadata": {},
   "outputs": [],
   "source": [
    "import pandas as pd\n",
    "import numpy as np"
   ]
  },
  {
   "cell_type": "code",
   "execution_count": 2,
   "metadata": {},
   "outputs": [],
   "source": [
    "complaints = pd.read_csv('../data/features/complaints.csv')\n",
    "crime = pd.read_csv('../data/features/crime.csv')\n",
    "isr = pd.read_csv('../data/features/isr.csv')\n",
    "uof = pd.read_csv('../data/features/use_of_force.csv')"
   ]
  },
  {
   "cell_type": "code",
   "execution_count": 3,
   "metadata": {},
   "outputs": [],
   "source": [
    "#standardize col names\n",
    "crime.rename(columns={'Beat':'BEAT', 'Year':'YEAR'}, inplace=True)\n",
    "complaints.rename(columns={'COMPLAINT_YEAR':'YEAR'}, inplace=True)"
   ]
  },
  {
   "cell_type": "code",
   "execution_count": 4,
   "metadata": {},
   "outputs": [],
   "source": [
    "# prefix columns with dataset name to make merging tidier\n",
    "complaints.rename(columns=lambda c: c if c in ['BEAT','YEAR'] else \"COMPLAINTS_\"+c, inplace=True)\n",
    "crime.rename(columns=lambda c: c if c in ['BEAT','YEAR'] else \"CRIME_\"+c, inplace=True)\n",
    "isr.rename(columns=lambda c: c if c in ['BEAT','YEAR'] else \"ISR_\"+c, inplace=True)\n",
    "uof.rename(columns=lambda c: c if c in ['BEAT','YEAR'] else \"UOF_\"+c, inplace=True)"
   ]
  },
  {
   "cell_type": "code",
   "execution_count": 5,
   "metadata": {},
   "outputs": [],
   "source": [
    "merged_df = pd.merge(complaints, crime, how='inner', on=['BEAT','YEAR'])\n",
    "merged_df = pd.merge(merged_df, isr, how='inner', on=['BEAT', 'YEAR'])\n",
    "merged_df = pd.merge(merged_df, uof, how='inner', on=['BEAT', 'YEAR'])"
   ]
  },
  {
   "cell_type": "code",
   "execution_count": 6,
   "metadata": {},
   "outputs": [
    {
     "data": {
      "text/plain": [
       "Index(['BEAT', 'YEAR', 'COMPLAINTS_POLICE_SHOOTING',\n",
       "       'COMPLAINTS_COMPLAINANT_RACE_BlackorAfricanAmerican',\n",
       "       'COMPLAINTS_COMPLAINANT_RACE_Hispanic,Latino,orSpanishOrigin',\n",
       "       'COMPLAINTS_COMPLAINANT_RACE_White',\n",
       "       'COMPLAINTS_COMPLAINANT_RACE_Other', 'CRIME_Total', 'CRIME_Arrest',\n",
       "       'CRIME_Domestic', 'ISR_DISTRICT', 'ISR_SECTOR', 'ISR_CNT_ISR_TOTAL',\n",
       "       'ISR_CNT_ISR_BLACK', 'ISR_CNT_ISR_WHITE', 'ISR_CNT_ISR_HISPANIC',\n",
       "       'UOF_DISTRICT', 'UOF_TOTAL_COUNT', 'UOF_HISPANIC', 'UOF_BLACK',\n",
       "       'UOF_WHITE'],\n",
       "      dtype='object')"
      ]
     },
     "execution_count": 6,
     "metadata": {},
     "output_type": "execute_result"
    }
   ],
   "source": [
    "merged_df.columns"
   ]
  },
  {
   "cell_type": "code",
   "execution_count": 7,
   "metadata": {},
   "outputs": [],
   "source": [
    "# Write to disk\n",
    "!mkdir -p ../data/features\n",
    "merged_df.to_csv(\"../data/features/merged.csv\")"
   ]
  },
  {
   "cell_type": "code",
   "execution_count": null,
   "metadata": {},
   "outputs": [],
   "source": []
  }
 ],
 "metadata": {
  "kernelspec": {
   "display_name": "mlpp_venv",
   "language": "python",
   "name": "mlpp_venv"
  },
  "language_info": {
   "codemirror_mode": {
    "name": "ipython",
    "version": 3
   },
   "file_extension": ".py",
   "mimetype": "text/x-python",
   "name": "python",
   "nbconvert_exporter": "python",
   "pygments_lexer": "ipython3",
   "version": "3.9.4"
  }
 },
 "nbformat": 4,
 "nbformat_minor": 5
}
