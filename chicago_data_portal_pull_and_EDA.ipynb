{
 "cells": [
  {
   "cell_type": "markdown",
   "id": "dd6f2f71",
   "metadata": {},
   "source": [
    "# Chicago Crime Data API Pull and Exploration"
   ]
  },
  {
   "cell_type": "code",
   "execution_count": 1,
   "id": "c7d871cc",
   "metadata": {},
   "outputs": [],
   "source": [
    "from util import api_util\n",
    "import requests\n",
    "import pandas as pd\n",
    "import matplotlib.pyplot as plt\n",
    "%matplotlib inline"
   ]
  },
  {
   "cell_type": "code",
   "execution_count": 2,
   "id": "c919f878",
   "metadata": {},
   "outputs": [
    {
     "data": {
      "text/plain": [
       "'FgSIlio2ikkxrA8YFFblYJDcc'"
      ]
     },
     "execution_count": 2,
     "metadata": {},
     "output_type": "execute_result"
    }
   ],
   "source": [
    "api_util.get_socrata_app_token()"
   ]
  },
  {
   "cell_type": "code",
   "execution_count": 3,
   "id": "0caf37d0",
   "metadata": {},
   "outputs": [],
   "source": [
    "class SocrataAPIClient:\n",
    "    \"\"\"\n",
    "    Class for making requests to Socrata Chicago API\n",
    "    and parsing, updating the response object\n",
    "    \"\"\"\n",
    "\n",
    "    def __init__(self, request_url):\n",
    "\n",
    "        self.request_url = None\n",
    "        self.params = self._get_app_token_params()\n",
    "        self.response = None\n",
    "        self.data_df = None\n",
    "\n",
    "        # for reviewing datatypes\n",
    "        self.header_fields = None\n",
    "        self.header_dtypes = None\n",
    "\n",
    "        self._get_request(request_url)\n",
    "\n",
    "    @staticmethod\n",
    "    def _get_app_token_params():\n",
    "        \"\"\"\n",
    "        gets api token and formats the params dict for request\n",
    "        :return: dict containing app token\n",
    "        \"\"\"\n",
    "        token = api_util.get_socrata_app_token()\n",
    "        return {\"$$app_token\": token}\n",
    "\n",
    "    def _get_request(self, request_url):\n",
    "        \"\"\"\n",
    "        sends get request to socrata api\n",
    "        parses reponse header for debugging data types\n",
    "        converse json response to a pandas DataFrame\n",
    "        updates the data types in data_df, the pandas DataFrame containing the\n",
    "        API response data\n",
    "\n",
    "        Attempt to convert all fields to numeric types (float or integer)\n",
    "        Then convert non numeric types back to string\n",
    "\n",
    "        :param request_url: url for the get request\n",
    "        :return: NA\n",
    "        \"\"\"\n",
    "        # For header codes included in response object: \n",
    "        # https://dev.socrata.com/docs/response-codes.html\n",
    "\n",
    "        # Difference between a Request and a Response object:\n",
    "        # https://requests.readthedocs.io/en/master/user/advanced/#request-and-response-objects\n",
    "        # get and parse response\n",
    "        self.response = requests.get(request_url, self.params)\n",
    "        self.request_url = self.response.request.url\n",
    "        if self.response.status_code != 200:\n",
    "            raise Exception(f\"bad request: {self.request_url}\")\n",
    "\n",
    "        self.header_fields = self.response.headers['X-SODA2-Fields']\n",
    "        self.header_dtypes = self.response.headers['X-SODA2-Types']\n",
    "\n",
    "        # convert to pandas df\n",
    "        self.data_df = pd.DataFrame.from_dict(self.response.json())"
   ]
  },
  {
   "cell_type": "code",
   "execution_count": 4,
   "id": "007db737",
   "metadata": {},
   "outputs": [],
   "source": [
    "class SodaData:\n",
    "    \"\"\"\n",
    "    Data object for managing/storing fields related to a Socrata dataset.\n",
    "\n",
    "    This class builds a socrata request url using a soql query.\n",
    "    The request can be made via data/socrata_api_requests\n",
    "\n",
    "    \"\"\"\n",
    "\n",
    "    def __init__(self, dataset_name, sql_table_name, identifier,\n",
    "                 desired_attr_lst,\n",
    "                 week_avg_attr_lst=None,\n",
    "                 group_by=None,\n",
    "                 where=None,\n",
    "                 limit=None):\n",
    "        \"\"\"\n",
    "        Constructor for SodaData\n",
    "\n",
    "            dataset_name: (str) internal/informal name for data set\n",
    "            sql_table_name: (str) table name in sqlite db\n",
    "            identifier: (str) socrata ID\n",
    "            desired_attr_list: list of (str) where each item represents\n",
    "                a field in the soql select statement\n",
    "            week_avg_attr_lst: list of (str) that should be a subset of\n",
    "                desired_attr_list. represents fields on which to compute a weekly avg.\n",
    "            group_by = (str) name of field to groupby in soql query\n",
    "            where = (str) where statements for soql query\n",
    "            limit = (int) number of rows on which to limit soql query\n",
    "        \"\"\"\n",
    "\n",
    "        self.dataset_name = dataset_name\n",
    "        self.sql_table_name = sql_table_name\n",
    "        self.identifier = identifier\n",
    "\n",
    "        # constructing api query\n",
    "        self.base_url = f\"https://data.cityofchicago.org/resource/{identifier}.json\"\n",
    "        self.desired_attr_lst = desired_attr_lst\n",
    "        self.group_by_lst = group_by\n",
    "        self.where_lst = where\n",
    "        self.limit = limit\n",
    "\n",
    "        # api request url\n",
    "        self.request_url = self._build_soql_query()\n",
    "\n",
    "        # variables for which weekly averages will be computed\n",
    "        self.COLS_TO_AVG = week_avg_attr_lst\n",
    "\n",
    "    def _build_soql_query(self):\n",
    "        \"\"\"\n",
    "        builds a soql query to append to base request url.\n",
    "\n",
    "        :return: (str) socrata api request url\n",
    "        \"\"\"\n",
    "\n",
    "        # soql docs: https://dev.socrata.com/docs/queries/\n",
    "\n",
    "        query =  f\"?$query=SELECT {', '.join(self.desired_attr_lst)}\"\n",
    "        if self.where_lst:\n",
    "            query += f\" WHERE {'AND '.join(self.where_lst)}\"\n",
    "        if self.group_by_lst:\n",
    "            query += f\" GROUP BY {', '.join(self.group_by_lst)}\"\n",
    "        if self.limit:\n",
    "            query += f\" LIMIT {self.limit}\"\n",
    "\n",
    "        return self.base_url + query"
   ]
  },
  {
   "cell_type": "code",
   "execution_count": 5,
   "id": "5158c793",
   "metadata": {},
   "outputs": [],
   "source": [
    "TRAFFIC_CRASH_DATA_OBJ_HISTORICAL = SodaData(\"Traffic Crashes\",\n",
    "                              \"TRAFFIC_CRASHES\",\n",
    "                              \"85ca-t3if\",\n",
    "                              [\"CRASH_RECORD_ID\", \"CRASH_DATE\",\n",
    "                               \"latitude\", \"longitude\"],\n",
    "                              where=[\"CRASH_DATE > '2019-01-01T00:00:00'\",\n",
    "                                     \"CRASH_DATE < '2021-03-07T00:00:00'\"],\n",
    "                              limit=300000)\n",
    "\n",
    "#crime data\n",
    "#'https://data.cityofchicago.org/Public-Safety/Crimes-2001-to-Present/ijzp-q8t2'\n",
    "CRIME_DATA_2001_ON = SodaData('Chicago Crime',\n",
    "                             'CHCIAGO_CRIME',\n",
    "                             'ijzp-q8t2',\n",
    "                             [\"id\", \"case_number\", \"date\", \"iucr\",\n",
    "                             \"primary_type\", \"description\", \"location_description\",\n",
    "                             \"arrest\", \"domestic\", \"beat\", \"ward\", \"community_area\",\n",
    "                              \"latitude\", \"longitude\", \"location\"],\n",
    "                             limit=1000)\n",
    "#NEED TO ADJUST LIMIT TO PULL ALL DATA"
   ]
  },
  {
   "cell_type": "code",
   "execution_count": 6,
   "id": "9b99ac61",
   "metadata": {},
   "outputs": [
    {
     "name": "stdout",
     "output_type": "stream",
     "text": [
      "https://data.cityofchicago.org/resource/ijzp-q8t2.json\n"
     ]
    }
   ],
   "source": [
    "CRIME_DATA_2001_ON\n",
    "print(CRIME_DATA_2001_ON.base_url)\n"
   ]
  },
  {
   "cell_type": "code",
   "execution_count": 7,
   "id": "43cafaa5",
   "metadata": {},
   "outputs": [
    {
     "name": "stdout",
     "output_type": "stream",
     "text": [
      " ##### making api request and create table for Chicago Crime ####\n",
      "    request url: https://data.cityofchicago.org/resource/ijzp-q8t2.json?$query=SELECT%20id,%20case_number,%20date,%20iucr,%20primary_type,%20description,%20location_description,%20arrest,%20domestic,%20beat,%20ward,%20community_area,%20latitude,%20longitude,%20location%20LIMIT%201000&%24%24app_token=FgSIlio2ikkxrA8YFFblYJDcc\n",
      "    request headers [\"id\",\"case_number\",\"date\",\"iucr\",\"primary_type\",\"description\",\"location_description\",\"arrest\",\"domestic\",\"beat\",\"ward\",\"community_area\",\"latitude\",\"longitude\",\"location\"]\n",
      "    request header dtypes [\"number\",\"text\",\"floating_timestamp\",\"text\",\"text\",\"text\",\"text\",\"boolean\",\"boolean\",\"text\",\"number\",\"text\",\"number\",\"number\",\"location\"]\n",
      "~~~~ pandas df dtypes ~~~~\n",
      "id                      object\n",
      "case_number             object\n",
      "date                    object\n",
      "iucr                    object\n",
      "primary_type            object\n",
      "description             object\n",
      "location_description    object\n",
      "arrest                    bool\n",
      "domestic                  bool\n",
      "beat                    object\n",
      "ward                    object\n",
      "community_area          object\n",
      "latitude                object\n",
      "longitude               object\n",
      "location                object\n",
      "dtype: object\n",
      "~~~~ sql table info ~~~~~\n",
      "nrow df:1000\n",
      "\n",
      "           id case_number                     date  iucr       primary_type  \\\n",
      "995  10225897    HY413251  2015-09-06T21:00:00.000  1330  CRIMINAL TRESPASS   \n",
      "996  10225898    HY413290  2015-09-06T15:00:00.000  4387      OTHER OFFENSE   \n",
      "997  10225902    HY413288  2015-09-06T20:00:00.000  0486            BATTERY   \n",
      "998  10225903    HY413319  2015-09-05T19:00:00.000  1320    CRIMINAL DAMAGE   \n",
      "999  10225905    HY413277  2015-09-06T21:48:00.000  1350  CRIMINAL TRESPASS   \n",
      "\n",
      "                     description     location_description  arrest  domestic  \\\n",
      "995                      TO LAND            PARK PROPERTY    True     False   \n",
      "996  VIOLATE ORDER OF PROTECTION                RESIDENCE    True      True   \n",
      "997      DOMESTIC BATTERY SIMPLE                APARTMENT   False      True   \n",
      "998                   TO VEHICLE                   STREET   False     False   \n",
      "999            TO STATE SUP LAND  CHA PARKING LOT/GROUNDS    True     False   \n",
      "\n",
      "     beat ward community_area      latitude      longitude  \\\n",
      "995  1224   27             28  41.884932988  -87.664621314   \n",
      "996  1531   37             25  41.899096313  -87.755700717   \n",
      "997  2523   31             20  41.938136244  -87.737008169   \n",
      "998  1235   25             31   41.85384576  -87.657526977   \n",
      "999  0424    7             46  41.734847232  -87.545777045   \n",
      "\n",
      "                                              location  \n",
      "995  {'latitude': '41.884932988', 'longitude': '-87...  \n",
      "996  {'latitude': '41.899096313', 'longitude': '-87...  \n",
      "997  {'latitude': '41.938136244', 'longitude': '-87...  \n",
      "998  {'latitude': '41.85384576', 'longitude': '-87....  \n",
      "999  {'latitude': '41.734847232', 'longitude': '-87...  \n"
     ]
    }
   ],
   "source": [
    "data_obj = CRIME_DATA_2001_ON  # 1\n",
    "print(f\" ##### making api request and create table for {data_obj.dataset_name} ####\")\n",
    "api_resp = SocrataAPIClient(data_obj.request_url)  # 2\n",
    "\n",
    "print(f\"    request url: {api_resp.request_url}\")\n",
    "print(f\"    request headers {api_resp.header_fields}\")\n",
    "print(f\"    request header dtypes {api_resp.header_dtypes}\")\n",
    "print(\"~~~~ pandas df dtypes ~~~~\")\n",
    "print(api_resp.data_df.dtypes)\n",
    "print(\"~~~~ sql table info ~~~~~\")\n",
    "print(f\"nrow df:{len(api_resp.data_df)}\\n\")\n",
    "print(api_resp.data_df.tail())\n",
    "crime_df = api_resp.data_df"
   ]
  },
  {
   "cell_type": "code",
   "execution_count": 8,
   "id": "ffa52609",
   "metadata": {},
   "outputs": [
    {
     "data": {
      "text/plain": [
       "(1000, 15)"
      ]
     },
     "execution_count": 8,
     "metadata": {},
     "output_type": "execute_result"
    }
   ],
   "source": [
    "crime_df.shape"
   ]
  },
  {
   "cell_type": "code",
   "execution_count": 9,
   "id": "f5238537",
   "metadata": {},
   "outputs": [
    {
     "data": {
      "text/html": [
       "<div>\n",
       "<style scoped>\n",
       "    .dataframe tbody tr th:only-of-type {\n",
       "        vertical-align: middle;\n",
       "    }\n",
       "\n",
       "    .dataframe tbody tr th {\n",
       "        vertical-align: top;\n",
       "    }\n",
       "\n",
       "    .dataframe thead th {\n",
       "        text-align: right;\n",
       "    }\n",
       "</style>\n",
       "<table border=\"1\" class=\"dataframe\">\n",
       "  <thead>\n",
       "    <tr style=\"text-align: right;\">\n",
       "      <th></th>\n",
       "      <th>id</th>\n",
       "      <th>case_number</th>\n",
       "      <th>date</th>\n",
       "      <th>iucr</th>\n",
       "      <th>primary_type</th>\n",
       "      <th>description</th>\n",
       "      <th>location_description</th>\n",
       "      <th>arrest</th>\n",
       "      <th>domestic</th>\n",
       "      <th>beat</th>\n",
       "      <th>ward</th>\n",
       "      <th>community_area</th>\n",
       "      <th>latitude</th>\n",
       "      <th>longitude</th>\n",
       "      <th>location</th>\n",
       "    </tr>\n",
       "  </thead>\n",
       "  <tbody>\n",
       "    <tr>\n",
       "      <th>0</th>\n",
       "      <td>10224738</td>\n",
       "      <td>HY411648</td>\n",
       "      <td>2015-09-05T13:30:00.000</td>\n",
       "      <td>0486</td>\n",
       "      <td>BATTERY</td>\n",
       "      <td>DOMESTIC BATTERY SIMPLE</td>\n",
       "      <td>RESIDENCE</td>\n",
       "      <td>False</td>\n",
       "      <td>True</td>\n",
       "      <td>0924</td>\n",
       "      <td>12</td>\n",
       "      <td>61</td>\n",
       "      <td>41.815117282</td>\n",
       "      <td>-87.669999562</td>\n",
       "      <td>{'latitude': '41.815117282', 'longitude': '-87...</td>\n",
       "    </tr>\n",
       "    <tr>\n",
       "      <th>1</th>\n",
       "      <td>10224739</td>\n",
       "      <td>HY411615</td>\n",
       "      <td>2015-09-04T11:30:00.000</td>\n",
       "      <td>0870</td>\n",
       "      <td>THEFT</td>\n",
       "      <td>POCKET-PICKING</td>\n",
       "      <td>CTA BUS</td>\n",
       "      <td>False</td>\n",
       "      <td>False</td>\n",
       "      <td>1511</td>\n",
       "      <td>29</td>\n",
       "      <td>25</td>\n",
       "      <td>41.895080471</td>\n",
       "      <td>-87.765400451</td>\n",
       "      <td>{'latitude': '41.895080471', 'longitude': '-87...</td>\n",
       "    </tr>\n",
       "    <tr>\n",
       "      <th>2</th>\n",
       "      <td>11646166</td>\n",
       "      <td>JC213529</td>\n",
       "      <td>2018-09-01T00:01:00.000</td>\n",
       "      <td>0810</td>\n",
       "      <td>THEFT</td>\n",
       "      <td>OVER $500</td>\n",
       "      <td>RESIDENCE</td>\n",
       "      <td>False</td>\n",
       "      <td>True</td>\n",
       "      <td>0631</td>\n",
       "      <td>8</td>\n",
       "      <td>44</td>\n",
       "      <td>NaN</td>\n",
       "      <td>NaN</td>\n",
       "      <td>NaN</td>\n",
       "    </tr>\n",
       "    <tr>\n",
       "      <th>3</th>\n",
       "      <td>10224740</td>\n",
       "      <td>HY411595</td>\n",
       "      <td>2015-09-05T12:45:00.000</td>\n",
       "      <td>2023</td>\n",
       "      <td>NARCOTICS</td>\n",
       "      <td>POSS: HEROIN(BRN/TAN)</td>\n",
       "      <td>SIDEWALK</td>\n",
       "      <td>True</td>\n",
       "      <td>False</td>\n",
       "      <td>1412</td>\n",
       "      <td>35</td>\n",
       "      <td>21</td>\n",
       "      <td>41.937405765</td>\n",
       "      <td>-87.716649687</td>\n",
       "      <td>{'latitude': '41.937405765', 'longitude': '-87...</td>\n",
       "    </tr>\n",
       "    <tr>\n",
       "      <th>4</th>\n",
       "      <td>10224741</td>\n",
       "      <td>HY411610</td>\n",
       "      <td>2015-09-05T13:00:00.000</td>\n",
       "      <td>0560</td>\n",
       "      <td>ASSAULT</td>\n",
       "      <td>SIMPLE</td>\n",
       "      <td>APARTMENT</td>\n",
       "      <td>False</td>\n",
       "      <td>True</td>\n",
       "      <td>1522</td>\n",
       "      <td>28</td>\n",
       "      <td>25</td>\n",
       "      <td>41.881903443</td>\n",
       "      <td>-87.755121152</td>\n",
       "      <td>{'latitude': '41.881903443', 'longitude': '-87...</td>\n",
       "    </tr>\n",
       "  </tbody>\n",
       "</table>\n",
       "</div>"
      ],
      "text/plain": [
       "         id case_number                     date  iucr primary_type  \\\n",
       "0  10224738    HY411648  2015-09-05T13:30:00.000  0486      BATTERY   \n",
       "1  10224739    HY411615  2015-09-04T11:30:00.000  0870        THEFT   \n",
       "2  11646166    JC213529  2018-09-01T00:01:00.000  0810        THEFT   \n",
       "3  10224740    HY411595  2015-09-05T12:45:00.000  2023    NARCOTICS   \n",
       "4  10224741    HY411610  2015-09-05T13:00:00.000  0560      ASSAULT   \n",
       "\n",
       "               description location_description  arrest  domestic  beat ward  \\\n",
       "0  DOMESTIC BATTERY SIMPLE            RESIDENCE   False      True  0924   12   \n",
       "1           POCKET-PICKING              CTA BUS   False     False  1511   29   \n",
       "2                OVER $500            RESIDENCE   False      True  0631    8   \n",
       "3    POSS: HEROIN(BRN/TAN)             SIDEWALK    True     False  1412   35   \n",
       "4                   SIMPLE            APARTMENT   False      True  1522   28   \n",
       "\n",
       "  community_area      latitude      longitude  \\\n",
       "0             61  41.815117282  -87.669999562   \n",
       "1             25  41.895080471  -87.765400451   \n",
       "2             44           NaN            NaN   \n",
       "3             21  41.937405765  -87.716649687   \n",
       "4             25  41.881903443  -87.755121152   \n",
       "\n",
       "                                            location  \n",
       "0  {'latitude': '41.815117282', 'longitude': '-87...  \n",
       "1  {'latitude': '41.895080471', 'longitude': '-87...  \n",
       "2                                                NaN  \n",
       "3  {'latitude': '41.937405765', 'longitude': '-87...  \n",
       "4  {'latitude': '41.881903443', 'longitude': '-87...  "
      ]
     },
     "execution_count": 9,
     "metadata": {},
     "output_type": "execute_result"
    }
   ],
   "source": [
    "crime_df.head(5)"
   ]
  },
  {
   "cell_type": "code",
   "execution_count": 10,
   "id": "38cbcade",
   "metadata": {},
   "outputs": [
    {
     "data": {
      "text/plain": [
       "Index(['id', 'case_number', 'date', 'iucr', 'primary_type', 'description',\n",
       "       'location_description', 'arrest', 'domestic', 'beat', 'ward',\n",
       "       'community_area', 'latitude', 'longitude', 'location'],\n",
       "      dtype='object')"
      ]
     },
     "execution_count": 10,
     "metadata": {},
     "output_type": "execute_result"
    }
   ],
   "source": [
    "crime_df.columns"
   ]
  },
  {
   "cell_type": "code",
   "execution_count": 11,
   "id": "152fffc5",
   "metadata": {},
   "outputs": [],
   "source": [
    "crime_df['date'] = pd.to_datetime(crime_df['date'])"
   ]
  },
  {
   "cell_type": "code",
   "execution_count": 34,
   "id": "5b42d6ae",
   "metadata": {},
   "outputs": [],
   "source": [
    "#extract just the date (not time of day)\n",
    "crime_df['day_date'] = crime_df['date'].dt.date"
   ]
  },
  {
   "cell_type": "code",
   "execution_count": 39,
   "id": "a4790a21",
   "metadata": {},
   "outputs": [
    {
     "data": {
      "text/plain": [
       "id                              object\n",
       "case_number                     object\n",
       "date                    datetime64[ns]\n",
       "iucr                            object\n",
       "primary_type                    object\n",
       "description                     object\n",
       "location_description            object\n",
       "arrest                            bool\n",
       "domestic                          bool\n",
       "beat                            object\n",
       "ward                            object\n",
       "community_area                  object\n",
       "latitude                        object\n",
       "longitude                       object\n",
       "location                        object\n",
       "day_date                        object\n",
       "dtype: object"
      ]
     },
     "execution_count": 39,
     "metadata": {},
     "output_type": "execute_result"
    }
   ],
   "source": [
    "crime_df.dtypes"
   ]
  },
  {
   "cell_type": "code",
   "execution_count": 13,
   "id": "830c55eb",
   "metadata": {},
   "outputs": [
    {
     "data": {
      "text/plain": [
       "Timestamp('2020-03-18 13:00:00')"
      ]
     },
     "execution_count": 13,
     "metadata": {},
     "output_type": "execute_result"
    }
   ],
   "source": [
    "crime_df['date'].max()"
   ]
  },
  {
   "cell_type": "code",
   "execution_count": 14,
   "id": "45dcca60",
   "metadata": {},
   "outputs": [
    {
     "data": {
      "text/plain": [
       "Timestamp('2001-01-01 11:00:00')"
      ]
     },
     "execution_count": 14,
     "metadata": {},
     "output_type": "execute_result"
    }
   ],
   "source": [
    "crime_df['date'].min()"
   ]
  },
  {
   "cell_type": "code",
   "execution_count": 15,
   "id": "832b8318",
   "metadata": {},
   "outputs": [],
   "source": [
    "def basic_plot(df, x_axis, y_axis, title):\n",
    "    df.plot()\n",
    "    plt.xlabel(x_axis)\n",
    "    plt.ylabel(y_axis)\n",
    "    plt.title(title)\n",
    "    plt.legend()"
   ]
  },
  {
   "cell_type": "code",
   "execution_count": 19,
   "id": "4c37cb5f",
   "metadata": {},
   "outputs": [
    {
     "data": {
      "text/plain": [
       "id                       0\n",
       "case_number              0\n",
       "date                     0\n",
       "iucr                     0\n",
       "primary_type             0\n",
       "description              0\n",
       "location_description     5\n",
       "arrest                   0\n",
       "domestic                 0\n",
       "beat                     0\n",
       "ward                     0\n",
       "community_area           0\n",
       "latitude                55\n",
       "longitude               55\n",
       "location                55\n",
       "dtype: int64"
      ]
     },
     "execution_count": 19,
     "metadata": {},
     "output_type": "execute_result"
    }
   ],
   "source": [
    "crime_df.isna().sum()"
   ]
  },
  {
   "cell_type": "code",
   "execution_count": 26,
   "id": "a451a6fd",
   "metadata": {},
   "outputs": [
    {
     "data": {
      "text/plain": [
       "0423    14\n",
       "1531    14\n",
       "1522    13\n",
       "0624    13\n",
       "0421    12\n",
       "        ..\n",
       "1111     1\n",
       "2513     1\n",
       "0724     1\n",
       "2024     1\n",
       "1813     1\n",
       "Name: beat, Length: 255, dtype: int64"
      ]
     },
     "execution_count": 26,
     "metadata": {},
     "output_type": "execute_result"
    }
   ],
   "source": [
    "crime_df['beat'].value_counts()"
   ]
  },
  {
   "cell_type": "code",
   "execution_count": 27,
   "id": "1b537af9",
   "metadata": {},
   "outputs": [
    {
     "data": {
      "text/plain": [
       "0486    114\n",
       "0820     74\n",
       "0460     66\n",
       "0810     59\n",
       "1320     54\n",
       "       ... \n",
       "0550      1\n",
       "0337      1\n",
       "0483      1\n",
       "2017      1\n",
       "1570      1\n",
       "Name: iucr, Length: 122, dtype: int64"
      ]
     },
     "execution_count": 27,
     "metadata": {},
     "output_type": "execute_result"
    }
   ],
   "source": [
    "crime_df['iucr'].value_counts()"
   ]
  },
  {
   "cell_type": "code",
   "execution_count": 28,
   "id": "e32ac6d1",
   "metadata": {},
   "outputs": [
    {
     "data": {
      "text/plain": [
       "False    709\n",
       "True     291\n",
       "Name: arrest, dtype: int64"
      ]
     },
     "execution_count": 28,
     "metadata": {},
     "output_type": "execute_result"
    }
   ],
   "source": [
    "crime_df['arrest'].value_counts()"
   ]
  },
  {
   "cell_type": "code",
   "execution_count": 30,
   "id": "d5109496",
   "metadata": {},
   "outputs": [
    {
     "data": {
      "text/plain": [
       "False    809\n",
       "True     191\n",
       "Name: domestic, dtype: int64"
      ]
     },
     "execution_count": 30,
     "metadata": {},
     "output_type": "execute_result"
    }
   ],
   "source": [
    "crime_df['domestic'].value_counts()"
   ]
  },
  {
   "cell_type": "code",
   "execution_count": 32,
   "id": "8ac4932c",
   "metadata": {},
   "outputs": [
    {
     "data": {
      "text/plain": [
       "25    63\n",
       "28    40\n",
       "24    36\n",
       "8     33\n",
       "69    32\n",
       "      ..\n",
       "18     2\n",
       "62     2\n",
       "57     1\n",
       "45     1\n",
       "76     1\n",
       "Name: community_area, Length: 73, dtype: int64"
      ]
     },
     "execution_count": 32,
     "metadata": {},
     "output_type": "execute_result"
    }
   ],
   "source": [
    "crime_df['community_area'].value_counts()"
   ]
  },
  {
   "cell_type": "code",
   "execution_count": 42,
   "id": "5e20db51",
   "metadata": {},
   "outputs": [
    {
     "data": {
      "image/png": "[encoded data removed]",
      "text/plain": [
       "<Figure size 432x288 with 1 Axes>"
      ]
     },
     "metadata": {
      "needs_background": "light"
     },
     "output_type": "display_data"
    }
   ],
   "source": [
    "basic_plot(crime_df.groupby('day_date')['id'].count(), 'Date', 'Number of Records', 'test')"
   ]
  },
  {
   "cell_type": "code",
   "execution_count": 44,
   "id": "23e5cb76",
   "metadata": {},
   "outputs": [
    {
     "data": {
      "text/plain": [
       "day_date\n",
       "2001-01-01      1\n",
       "2015-07-02      1\n",
       "2015-07-07      1\n",
       "2015-08-03      1\n",
       "2015-08-05      1\n",
       "             ... \n",
       "2015-09-01      9\n",
       "2015-09-03     29\n",
       "2015-09-04     53\n",
       "2015-09-05    361\n",
       "2015-09-06    428\n",
       "Name: id, Length: 84, dtype: int64"
      ]
     },
     "execution_count": 44,
     "metadata": {},
     "output_type": "execute_result"
    }
   ],
   "source": [
    "crime_df.groupby('day_date')['id'].count().sort_values()"
   ]
  },
  {
   "cell_type": "code",
   "execution_count": null,
   "id": "6ea6b1a8",
   "metadata": {},
   "outputs": [],
   "source": []
  }
 ],
 "metadata": {
  "kernelspec": {
   "display_name": "Python 3",
   "language": "python",
   "name": "python3"
  },
  "language_info": {
   "codemirror_mode": {
    "name": "ipython",
    "version": 3
   },
   "file_extension": ".py",
   "mimetype": "text/x-python",
   "name": "python",
   "nbconvert_exporter": "python",
   "pygments_lexer": "ipython3",
   "version": "3.8.5"
  }
 },
 "nbformat": 4,
 "nbformat_minor": 5
}
