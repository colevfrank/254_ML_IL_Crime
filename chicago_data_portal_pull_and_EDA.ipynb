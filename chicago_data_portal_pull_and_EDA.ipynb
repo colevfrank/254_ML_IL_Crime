{
 "cells": [
  {
   "cell_type": "markdown",
   "id": "dd6f2f71",
   "metadata": {},
   "source": [
    "# Chicago Crime Data API Pull and Exploration"
   ]
  },
  {
   "cell_type": "code",
   "execution_count": 2,
   "id": "c7d871cc",
   "metadata": {},
   "outputs": [],
   "source": [
    "from util import api_util\n",
    "import requests\n",
    "import pandas as pd\n",
    "import matplotlib.pyplot as plt\n",
    "%matplotlib inline"
   ]
  },
  {
   "cell_type": "code",
   "execution_count": 2,
   "id": "c919f878",
   "metadata": {},
   "outputs": [
    {
     "data": {
      "text/plain": [
       "'FgSIlio2ikkxrA8YFFblYJDcc'"
      ]
     },
     "execution_count": 2,
     "metadata": {},
     "output_type": "execute_result"
    }
   ],
   "source": [
    "api_util.get_socrata_app_token()"
   ]
  },
  {
   "cell_type": "code",
   "execution_count": 3,
   "id": "0caf37d0",
   "metadata": {},
   "outputs": [],
   "source": [
    "class SocrataAPIClient:\n",
    "    \"\"\"\n",
    "    Class for making requests to Socrata Chicago API\n",
    "    and parsing, updating the response object\n",
    "    \"\"\"\n",
    "\n",
    "    def __init__(self, request_url):\n",
    "\n",
    "        self.request_url = None\n",
    "        self.params = self._get_app_token_params()\n",
    "        self.response = None\n",
    "        self.data_df = None\n",
    "\n",
    "        # for reviewing datatypes\n",
    "        self.header_fields = None\n",
    "        self.header_dtypes = None\n",
    "\n",
    "        self._get_request(request_url)\n",
    "\n",
    "    @staticmethod\n",
    "    def _get_app_token_params():\n",
    "        \"\"\"\n",
    "        gets api token and formats the params dict for request\n",
    "        :return: dict containing app token\n",
    "        \"\"\"\n",
    "        token = api_util.get_socrata_app_token()\n",
    "        return {\"$$app_token\": token}\n",
    "\n",
    "    def _get_request(self, request_url):\n",
    "        \"\"\"\n",
    "        sends get request to socrata api\n",
    "        parses reponse header for debugging data types\n",
    "        converse json response to a pandas DataFrame\n",
    "        updates the data types in data_df, the pandas DataFrame containing the\n",
    "        API response data\n",
    "\n",
    "        Attempt to convert all fields to numeric types (float or integer)\n",
    "        Then convert non numeric types back to string\n",
    "\n",
    "        :param request_url: url for the get request\n",
    "        :return: NA\n",
    "        \"\"\"\n",
    "        # For header codes included in response object: \n",
    "        # https://dev.socrata.com/docs/response-codes.html\n",
    "\n",
    "        # Difference between a Request and a Response object:\n",
    "        # https://requests.readthedocs.io/en/master/user/advanced/#request-and-response-objects\n",
    "        # get and parse response\n",
    "        self.response = requests.get(request_url, self.params)\n",
    "        self.request_url = self.response.request.url\n",
    "        if self.response.status_code != 200:\n",
    "            raise Exception(f\"bad request: {self.request_url}\")\n",
    "\n",
    "        self.header_fields = self.response.headers['X-SODA2-Fields']\n",
    "        self.header_dtypes = self.response.headers['X-SODA2-Types']\n",
    "\n",
    "        # convert to pandas df\n",
    "        self.data_df = pd.DataFrame.from_dict(self.response.json())"
   ]
  },
  {
   "cell_type": "code",
   "execution_count": 4,
   "id": "007db737",
   "metadata": {},
   "outputs": [],
   "source": [
    "class SodaData:\n",
    "    \"\"\"\n",
    "    Data object for managing/storing fields related to a Socrata dataset.\n",
    "\n",
    "    This class builds a socrata request url using a soql query.\n",
    "    The request can be made via data/socrata_api_requests\n",
    "\n",
    "    \"\"\"\n",
    "\n",
    "    def __init__(self, dataset_name, sql_table_name, identifier,\n",
    "                 desired_attr_lst,\n",
    "                 week_avg_attr_lst=None,\n",
    "                 group_by=None,\n",
    "                 where=None,\n",
    "                 limit=None):\n",
    "        \"\"\"\n",
    "        Constructor for SodaData\n",
    "\n",
    "            dataset_name: (str) internal/informal name for data set\n",
    "            sql_table_name: (str) table name in sqlite db\n",
    "            identifier: (str) socrata ID\n",
    "            desired_attr_list: list of (str) where each item represents\n",
    "                a field in the soql select statement\n",
    "            week_avg_attr_lst: list of (str) that should be a subset of\n",
    "                desired_attr_list. represents fields on which to compute a weekly avg.\n",
    "            group_by = (str) name of field to groupby in soql query\n",
    "            where = (str) where statements for soql query\n",
    "            limit = (int) number of rows on which to limit soql query\n",
    "        \"\"\"\n",
    "\n",
    "        self.dataset_name = dataset_name\n",
    "        self.sql_table_name = sql_table_name\n",
    "        self.identifier = identifier\n",
    "\n",
    "        # constructing api query\n",
    "        self.base_url = f\"https://data.cityofchicago.org/resource/{identifier}.json\"\n",
    "        self.desired_attr_lst = desired_attr_lst\n",
    "        self.group_by_lst = group_by\n",
    "        self.where_lst = where\n",
    "        self.limit = limit\n",
    "\n",
    "        # api request url\n",
    "        self.request_url = self._build_soql_query()\n",
    "\n",
    "        # variables for which weekly averages will be computed\n",
    "        self.COLS_TO_AVG = week_avg_attr_lst\n",
    "\n",
    "    def _build_soql_query(self):\n",
    "        \"\"\"\n",
    "        builds a soql query to append to base request url.\n",
    "\n",
    "        :return: (str) socrata api request url\n",
    "        \"\"\"\n",
    "\n",
    "        # soql docs: https://dev.socrata.com/docs/queries/\n",
    "\n",
    "        query =  f\"?$query=SELECT {', '.join(self.desired_attr_lst)}\"\n",
    "        if self.where_lst:\n",
    "            query += f\" WHERE {'AND '.join(self.where_lst)}\"\n",
    "        if self.group_by_lst:\n",
    "            query += f\" GROUP BY {', '.join(self.group_by_lst)}\"\n",
    "        if self.limit:\n",
    "            query += f\" LIMIT {self.limit}\"\n",
    "\n",
    "        return self.base_url + query"
   ]
  },
  {
   "cell_type": "code",
   "execution_count": 5,
   "id": "5158c793",
   "metadata": {},
   "outputs": [],
   "source": [
    "TRAFFIC_CRASH_DATA_OBJ_HISTORICAL = SodaData(\"Traffic Crashes\",\n",
    "                              \"TRAFFIC_CRASHES\",\n",
    "                              \"85ca-t3if\",\n",
    "                              [\"CRASH_RECORD_ID\", \"CRASH_DATE\",\n",
    "                               \"latitude\", \"longitude\"],\n",
    "                              where=[\"CRASH_DATE > '2019-01-01T00:00:00'\",\n",
    "                                     \"CRASH_DATE < '2021-03-07T00:00:00'\"],\n",
    "                              limit=300000)\n",
    "\n",
    "#crime data\n",
    "#'https://data.cityofchicago.org/Public-Safety/Crimes-2001-to-Present/ijzp-q8t2'\n",
    "CRIME_DATA_2001_ON = SodaData('Chicago Crime',\n",
    "                             'CHCIAGO_CRIME',\n",
    "                             'ijzp-q8t2',\n",
    "                             [\"id\", \"case_number\", \"date\", \"iucr\",\n",
    "                             \"primary_type\", \"description\", \"location_description\",\n",
    "                             \"arrest\", \"domestic\", \"beat\", \"ward\", \"community_area\",\n",
    "                              \"latitude\", \"longitude\", \"location\"])\n",
    "                             #limit=7312665)\n",
    "#NEED TO ADJUST LIMIT TO PULL ALL DATA"
   ]
  },
  {
   "cell_type": "code",
   "execution_count": 6,
   "id": "9b99ac61",
   "metadata": {},
   "outputs": [
    {
     "name": "stdout",
     "output_type": "stream",
     "text": [
      "https://data.cityofchicago.org/resource/ijzp-q8t2.json\n"
     ]
    }
   ],
   "source": [
    "CRIME_DATA_2001_ON\n",
    "print(CRIME_DATA_2001_ON.base_url)\n"
   ]
  },
  {
   "cell_type": "code",
   "execution_count": null,
   "id": "43cafaa5",
   "metadata": {},
   "outputs": [
    {
     "name": "stdout",
     "output_type": "stream",
     "text": [
      " ##### making api request and create table for Chicago Crime ####\n"
     ]
    }
   ],
   "source": [
    "data_obj = CRIME_DATA_2001_ON  # 1\n",
    "print(f\" ##### making api request and create table for {data_obj.dataset_name} ####\")\n",
    "api_resp = SocrataAPIClient(data_obj.request_url)  # 2\n",
    "\n",
    "print(f\"    request url: {api_resp.request_url}\")\n",
    "print(f\"    request headers {api_resp.header_fields}\")\n",
    "print(f\"    request header dtypes {api_resp.header_dtypes}\")\n",
    "print(\"~~~~ pandas df dtypes ~~~~\")\n",
    "print(api_resp.data_df.dtypes)\n",
    "print(\"~~~~ sql table info ~~~~~\")\n",
    "print(f\"nrow df:{len(api_resp.data_df)}\\n\")\n",
    "print(api_resp.data_df.tail())\n",
    "crime_df = api_resp.data_df"
   ]
  },
  {
   "cell_type": "code",
   "execution_count": 3,
   "id": "dd1f009c",
   "metadata": {},
   "outputs": [],
   "source": [
    "#API call isn't working for full data set (not enough app memory on my laptop)\n",
    "#So reading in from csv instead\n",
    "crime_df_path = 'data/Crimes_-_2001_to_Present.csv'\n",
    "crime_df = pd.read_csv(crime_df_path)"
   ]
  },
  {
   "cell_type": "code",
   "execution_count": 4,
   "id": "ffa52609",
   "metadata": {},
   "outputs": [
    {
     "data": {
      "text/plain": [
       "(7306290, 22)"
      ]
     },
     "execution_count": 4,
     "metadata": {},
     "output_type": "execute_result"
    }
   ],
   "source": [
    "crime_df.shape"
   ]
  },
  {
   "cell_type": "code",
   "execution_count": 5,
   "id": "f5238537",
   "metadata": {},
   "outputs": [
    {
     "data": {
      "text/html": [
       "<div>\n",
       "<style scoped>\n",
       "    .dataframe tbody tr th:only-of-type {\n",
       "        vertical-align: middle;\n",
       "    }\n",
       "\n",
       "    .dataframe tbody tr th {\n",
       "        vertical-align: top;\n",
       "    }\n",
       "\n",
       "    .dataframe thead th {\n",
       "        text-align: right;\n",
       "    }\n",
       "</style>\n",
       "<table border=\"1\" class=\"dataframe\">\n",
       "  <thead>\n",
       "    <tr style=\"text-align: right;\">\n",
       "      <th></th>\n",
       "      <th>ID</th>\n",
       "      <th>Case Number</th>\n",
       "      <th>Date</th>\n",
       "      <th>Block</th>\n",
       "      <th>IUCR</th>\n",
       "      <th>Primary Type</th>\n",
       "      <th>Description</th>\n",
       "      <th>Location Description</th>\n",
       "      <th>Arrest</th>\n",
       "      <th>Domestic</th>\n",
       "      <th>...</th>\n",
       "      <th>Ward</th>\n",
       "      <th>Community Area</th>\n",
       "      <th>FBI Code</th>\n",
       "      <th>X Coordinate</th>\n",
       "      <th>Y Coordinate</th>\n",
       "      <th>Year</th>\n",
       "      <th>Updated On</th>\n",
       "      <th>Latitude</th>\n",
       "      <th>Longitude</th>\n",
       "      <th>Location</th>\n",
       "    </tr>\n",
       "  </thead>\n",
       "  <tbody>\n",
       "    <tr>\n",
       "      <th>0</th>\n",
       "      <td>10224738</td>\n",
       "      <td>HY411648</td>\n",
       "      <td>09/05/2015 01:30:00 PM</td>\n",
       "      <td>043XX S WOOD ST</td>\n",
       "      <td>0486</td>\n",
       "      <td>BATTERY</td>\n",
       "      <td>DOMESTIC BATTERY SIMPLE</td>\n",
       "      <td>RESIDENCE</td>\n",
       "      <td>False</td>\n",
       "      <td>True</td>\n",
       "      <td>...</td>\n",
       "      <td>12.0</td>\n",
       "      <td>61.0</td>\n",
       "      <td>08B</td>\n",
       "      <td>1165074.0</td>\n",
       "      <td>1875917.0</td>\n",
       "      <td>2015</td>\n",
       "      <td>02/10/2018 03:50:01 PM</td>\n",
       "      <td>41.815117</td>\n",
       "      <td>-87.670000</td>\n",
       "      <td>(41.815117282, -87.669999562)</td>\n",
       "    </tr>\n",
       "    <tr>\n",
       "      <th>1</th>\n",
       "      <td>10224739</td>\n",
       "      <td>HY411615</td>\n",
       "      <td>09/04/2015 11:30:00 AM</td>\n",
       "      <td>008XX N CENTRAL AVE</td>\n",
       "      <td>0870</td>\n",
       "      <td>THEFT</td>\n",
       "      <td>POCKET-PICKING</td>\n",
       "      <td>CTA BUS</td>\n",
       "      <td>False</td>\n",
       "      <td>False</td>\n",
       "      <td>...</td>\n",
       "      <td>29.0</td>\n",
       "      <td>25.0</td>\n",
       "      <td>06</td>\n",
       "      <td>1138875.0</td>\n",
       "      <td>1904869.0</td>\n",
       "      <td>2015</td>\n",
       "      <td>02/10/2018 03:50:01 PM</td>\n",
       "      <td>41.895080</td>\n",
       "      <td>-87.765400</td>\n",
       "      <td>(41.895080471, -87.765400451)</td>\n",
       "    </tr>\n",
       "    <tr>\n",
       "      <th>2</th>\n",
       "      <td>11646166</td>\n",
       "      <td>JC213529</td>\n",
       "      <td>09/01/2018 12:01:00 AM</td>\n",
       "      <td>082XX S INGLESIDE AVE</td>\n",
       "      <td>0810</td>\n",
       "      <td>THEFT</td>\n",
       "      <td>OVER $500</td>\n",
       "      <td>RESIDENCE</td>\n",
       "      <td>False</td>\n",
       "      <td>True</td>\n",
       "      <td>...</td>\n",
       "      <td>8.0</td>\n",
       "      <td>44.0</td>\n",
       "      <td>06</td>\n",
       "      <td>NaN</td>\n",
       "      <td>NaN</td>\n",
       "      <td>2018</td>\n",
       "      <td>04/06/2019 04:04:43 PM</td>\n",
       "      <td>NaN</td>\n",
       "      <td>NaN</td>\n",
       "      <td>NaN</td>\n",
       "    </tr>\n",
       "    <tr>\n",
       "      <th>3</th>\n",
       "      <td>10224740</td>\n",
       "      <td>HY411595</td>\n",
       "      <td>09/05/2015 12:45:00 PM</td>\n",
       "      <td>035XX W BARRY AVE</td>\n",
       "      <td>2023</td>\n",
       "      <td>NARCOTICS</td>\n",
       "      <td>POSS: HEROIN(BRN/TAN)</td>\n",
       "      <td>SIDEWALK</td>\n",
       "      <td>True</td>\n",
       "      <td>False</td>\n",
       "      <td>...</td>\n",
       "      <td>35.0</td>\n",
       "      <td>21.0</td>\n",
       "      <td>18</td>\n",
       "      <td>1152037.0</td>\n",
       "      <td>1920384.0</td>\n",
       "      <td>2015</td>\n",
       "      <td>02/10/2018 03:50:01 PM</td>\n",
       "      <td>41.937406</td>\n",
       "      <td>-87.716650</td>\n",
       "      <td>(41.937405765, -87.716649687)</td>\n",
       "    </tr>\n",
       "    <tr>\n",
       "      <th>4</th>\n",
       "      <td>10224741</td>\n",
       "      <td>HY411610</td>\n",
       "      <td>09/05/2015 01:00:00 PM</td>\n",
       "      <td>0000X N LARAMIE AVE</td>\n",
       "      <td>0560</td>\n",
       "      <td>ASSAULT</td>\n",
       "      <td>SIMPLE</td>\n",
       "      <td>APARTMENT</td>\n",
       "      <td>False</td>\n",
       "      <td>True</td>\n",
       "      <td>...</td>\n",
       "      <td>28.0</td>\n",
       "      <td>25.0</td>\n",
       "      <td>08A</td>\n",
       "      <td>1141706.0</td>\n",
       "      <td>1900086.0</td>\n",
       "      <td>2015</td>\n",
       "      <td>02/10/2018 03:50:01 PM</td>\n",
       "      <td>41.881903</td>\n",
       "      <td>-87.755121</td>\n",
       "      <td>(41.881903443, -87.755121152)</td>\n",
       "    </tr>\n",
       "  </tbody>\n",
       "</table>\n",
       "<p>5 rows × 22 columns</p>\n",
       "</div>"
      ],
      "text/plain": [
       "         ID Case Number                    Date                  Block  IUCR  \\\n",
       "0  10224738    HY411648  09/05/2015 01:30:00 PM        043XX S WOOD ST  0486   \n",
       "1  10224739    HY411615  09/04/2015 11:30:00 AM    008XX N CENTRAL AVE  0870   \n",
       "2  11646166    JC213529  09/01/2018 12:01:00 AM  082XX S INGLESIDE AVE  0810   \n",
       "3  10224740    HY411595  09/05/2015 12:45:00 PM      035XX W BARRY AVE  2023   \n",
       "4  10224741    HY411610  09/05/2015 01:00:00 PM    0000X N LARAMIE AVE  0560   \n",
       "\n",
       "  Primary Type              Description Location Description  Arrest  \\\n",
       "0      BATTERY  DOMESTIC BATTERY SIMPLE            RESIDENCE   False   \n",
       "1        THEFT           POCKET-PICKING              CTA BUS   False   \n",
       "2        THEFT                OVER $500            RESIDENCE   False   \n",
       "3    NARCOTICS    POSS: HEROIN(BRN/TAN)             SIDEWALK    True   \n",
       "4      ASSAULT                   SIMPLE            APARTMENT   False   \n",
       "\n",
       "   Domestic  ...  Ward  Community Area  FBI Code  X Coordinate Y Coordinate  \\\n",
       "0      True  ...  12.0            61.0       08B     1165074.0    1875917.0   \n",
       "1     False  ...  29.0            25.0        06     1138875.0    1904869.0   \n",
       "2      True  ...   8.0            44.0        06           NaN          NaN   \n",
       "3     False  ...  35.0            21.0        18     1152037.0    1920384.0   \n",
       "4      True  ...  28.0            25.0       08A     1141706.0    1900086.0   \n",
       "\n",
       "   Year              Updated On   Latitude  Longitude  \\\n",
       "0  2015  02/10/2018 03:50:01 PM  41.815117 -87.670000   \n",
       "1  2015  02/10/2018 03:50:01 PM  41.895080 -87.765400   \n",
       "2  2018  04/06/2019 04:04:43 PM        NaN        NaN   \n",
       "3  2015  02/10/2018 03:50:01 PM  41.937406 -87.716650   \n",
       "4  2015  02/10/2018 03:50:01 PM  41.881903 -87.755121   \n",
       "\n",
       "                        Location  \n",
       "0  (41.815117282, -87.669999562)  \n",
       "1  (41.895080471, -87.765400451)  \n",
       "2                            NaN  \n",
       "3  (41.937405765, -87.716649687)  \n",
       "4  (41.881903443, -87.755121152)  \n",
       "\n",
       "[5 rows x 22 columns]"
      ]
     },
     "execution_count": 5,
     "metadata": {},
     "output_type": "execute_result"
    }
   ],
   "source": [
    "crime_df.head(5)"
   ]
  },
  {
   "cell_type": "code",
   "execution_count": 6,
   "id": "38cbcade",
   "metadata": {},
   "outputs": [
    {
     "data": {
      "text/plain": [
       "Index(['ID', 'Case Number', 'Date', 'Block', 'IUCR', 'Primary Type',\n",
       "       'Description', 'Location Description', 'Arrest', 'Domestic', 'Beat',\n",
       "       'District', 'Ward', 'Community Area', 'FBI Code', 'X Coordinate',\n",
       "       'Y Coordinate', 'Year', 'Updated On', 'Latitude', 'Longitude',\n",
       "       'Location'],\n",
       "      dtype='object')"
      ]
     },
     "execution_count": 6,
     "metadata": {},
     "output_type": "execute_result"
    }
   ],
   "source": [
    "crime_df.columns"
   ]
  },
  {
   "cell_type": "code",
   "execution_count": 7,
   "id": "152fffc5",
   "metadata": {},
   "outputs": [],
   "source": [
    "crime_df['Date'] = pd.to_datetime(crime_df['Date'], format = '%m/%d/%Y %I:%M:%S %p') #specify datetime form here"
   ]
  },
  {
   "cell_type": "code",
   "execution_count": 10,
   "id": "5b42d6ae",
   "metadata": {},
   "outputs": [],
   "source": [
    "#extract just the date (not time of day)\n",
    "crime_df['day_date'] = crime_df['Date'].dt.date"
   ]
  },
  {
   "cell_type": "code",
   "execution_count": 11,
   "id": "a4790a21",
   "metadata": {},
   "outputs": [
    {
     "data": {
      "text/plain": [
       "ID                               int64\n",
       "Case Number                     object\n",
       "Date                    datetime64[ns]\n",
       "Block                           object\n",
       "IUCR                            object\n",
       "Primary Type                    object\n",
       "Description                     object\n",
       "Location Description            object\n",
       "Arrest                            bool\n",
       "Domestic                          bool\n",
       "Beat                             int64\n",
       "District                       float64\n",
       "Ward                           float64\n",
       "Community Area                 float64\n",
       "FBI Code                        object\n",
       "X Coordinate                   float64\n",
       "Y Coordinate                   float64\n",
       "Year                             int64\n",
       "Updated On                      object\n",
       "Latitude                       float64\n",
       "Longitude                      float64\n",
       "Location                        object\n",
       "Day_Date                        object\n",
       "day_date                        object\n",
       "dtype: object"
      ]
     },
     "execution_count": 11,
     "metadata": {},
     "output_type": "execute_result"
    }
   ],
   "source": [
    "crime_df.dtypes"
   ]
  },
  {
   "cell_type": "code",
   "execution_count": 13,
   "id": "830c55eb",
   "metadata": {},
   "outputs": [
    {
     "data": {
      "text/plain": [
       "Timestamp('2021-04-05 23:50:00')"
      ]
     },
     "execution_count": 13,
     "metadata": {},
     "output_type": "execute_result"
    }
   ],
   "source": [
    "crime_df['Date'].max()"
   ]
  },
  {
   "cell_type": "code",
   "execution_count": 14,
   "id": "45dcca60",
   "metadata": {},
   "outputs": [
    {
     "data": {
      "text/plain": [
       "Timestamp('2001-01-01 00:00:00')"
      ]
     },
     "execution_count": 14,
     "metadata": {},
     "output_type": "execute_result"
    }
   ],
   "source": [
    "crime_df['Date'].min()"
   ]
  },
  {
   "cell_type": "code",
   "execution_count": 15,
   "id": "832b8318",
   "metadata": {},
   "outputs": [],
   "source": [
    "def basic_plot(df, x_axis, y_axis, title):\n",
    "    df.plot()\n",
    "    plt.xlabel(x_axis)\n",
    "    plt.ylabel(y_axis)\n",
    "    plt.title(title)\n",
    "    plt.legend()"
   ]
  },
  {
   "cell_type": "code",
   "execution_count": 16,
   "id": "4c37cb5f",
   "metadata": {},
   "outputs": [
    {
     "data": {
      "text/plain": [
       "ID                           0\n",
       "Case Number                  4\n",
       "Date                         0\n",
       "Block                        0\n",
       "IUCR                         0\n",
       "Primary Type                 0\n",
       "Description                  0\n",
       "Location Description      8168\n",
       "Arrest                       0\n",
       "Domestic                     0\n",
       "Beat                         0\n",
       "District                    47\n",
       "Ward                    614835\n",
       "Community Area          613484\n",
       "FBI Code                     0\n",
       "X Coordinate             72136\n",
       "Y Coordinate             72136\n",
       "Year                         0\n",
       "Updated On                   0\n",
       "Latitude                 72136\n",
       "Longitude                72136\n",
       "Location                 72136\n",
       "Day_Date                     0\n",
       "day_date                     0\n",
       "dtype: int64"
      ]
     },
     "execution_count": 16,
     "metadata": {},
     "output_type": "execute_result"
    }
   ],
   "source": [
    "crime_df.isna().sum()"
   ]
  },
  {
   "cell_type": "code",
   "execution_count": 19,
   "id": "a451a6fd",
   "metadata": {},
   "outputs": [
    {
     "data": {
      "text/plain": [
       "310         5\n",
       "430        19\n",
       "1655     1060\n",
       "1652     1201\n",
       "1653     2816\n",
       "        ...  \n",
       "1112    49697\n",
       "511     49876\n",
       "624     51138\n",
       "421     56428\n",
       "423     56577\n",
       "Name: Beat, Length: 304, dtype: int64"
      ]
     },
     "execution_count": 19,
     "metadata": {},
     "output_type": "execute_result"
    }
   ],
   "source": [
    "crime_df['Beat'].value_counts().sort_values()"
   ]
  },
  {
   "cell_type": "code",
   "execution_count": 21,
   "id": "1b537af9",
   "metadata": {},
   "outputs": [
    {
     "data": {
      "text/plain": [
       "0820    594513\n",
       "0486    569374\n",
       "0460    534851\n",
       "1320    389724\n",
       "1310    384717\n",
       "         ...  \n",
       "1521         1\n",
       "9901         1\n",
       "4750         1\n",
       "0830         1\n",
       "1624         1\n",
       "Name: IUCR, Length: 402, dtype: int64"
      ]
     },
     "execution_count": 21,
     "metadata": {},
     "output_type": "execute_result"
    }
   ],
   "source": [
    "crime_df['IUCR'].value_counts()"
   ]
  },
  {
   "cell_type": "code",
   "execution_count": 35,
   "id": "e32ac6d1",
   "metadata": {},
   "outputs": [
    {
     "name": "stdout",
     "output_type": "stream",
     "text": [
      "False    5328941\n",
      "True     1977349\n",
      "Name: Arrest, dtype: int64\n"
     ]
    },
    {
     "data": {
      "text/plain": [
       "0.37105852738846234"
      ]
     },
     "execution_count": 35,
     "metadata": {},
     "output_type": "execute_result"
    }
   ],
   "source": [
    "print(crime_df['Arrest'].value_counts())\n",
    "crime_df['Arrest'].value_counts()[1] / crime_df['Arrest'].value_counts()[0]"
   ]
  },
  {
   "cell_type": "code",
   "execution_count": 23,
   "id": "d5109496",
   "metadata": {},
   "outputs": [
    {
     "data": {
      "text/plain": [
       "False    6320841\n",
       "True      985449\n",
       "Name: Domestic, dtype: int64"
      ]
     },
     "execution_count": 23,
     "metadata": {},
     "output_type": "execute_result"
    }
   ],
   "source": [
    "crime_df['Domestic'].value_counts()"
   ]
  },
  {
   "cell_type": "code",
   "execution_count": 26,
   "id": "8ac4932c",
   "metadata": {},
   "outputs": [
    {
     "data": {
      "text/plain": [
       "25.0    423278\n",
       "8.0     231977\n",
       "43.0    219720\n",
       "23.0    211195\n",
       "28.0    198999\n",
       "         ...  \n",
       "55.0     14561\n",
       "12.0     12211\n",
       "47.0     10041\n",
       "9.0       6552\n",
       "0.0         76\n",
       "Name: Community Area, Length: 78, dtype: int64"
      ]
     },
     "execution_count": 26,
     "metadata": {},
     "output_type": "execute_result"
    }
   ],
   "source": [
    "crime_df['Community Area'].value_counts()"
   ]
  },
  {
   "cell_type": "code",
   "execution_count": 27,
   "id": "5e20db51",
   "metadata": {},
   "outputs": [
    {
     "data": {
      "image/png": "[encoded data removed]",
      "text/plain": [
       "<Figure size 432x288 with 1 Axes>"
      ]
     },
     "metadata": {
      "needs_background": "light"
     },
     "output_type": "display_data"
    }
   ],
   "source": [
    "basic_plot(crime_df.groupby('day_date')['ID'].count(), 'Date', 'Number of Records', 'test')"
   ]
  },
  {
   "cell_type": "code",
   "execution_count": 29,
   "id": "23e5cb76",
   "metadata": {},
   "outputs": [
    {
     "data": {
      "text/plain": [
       "day_date\n",
       "2021-02-15     316\n",
       "2011-02-02     320\n",
       "2021-01-31     333\n",
       "2020-04-19     340\n",
       "2019-01-30     341\n",
       "              ... \n",
       "2020-05-31    1897\n",
       "2006-01-01    1911\n",
       "2007-01-01    1952\n",
       "2005-01-01    1972\n",
       "2003-01-01    2027\n",
       "Name: ID, Length: 7400, dtype: int64"
      ]
     },
     "execution_count": 29,
     "metadata": {},
     "output_type": "execute_result"
    }
   ],
   "source": [
    "crime_df.groupby('day_date')['ID'].count().sort_values()"
   ]
  },
  {
   "cell_type": "code",
   "execution_count": 30,
   "id": "6ea6b1a8",
   "metadata": {},
   "outputs": [
    {
     "data": {
      "text/plain": [
       "THEFT                                1538717\n",
       "BATTERY                              1338180\n",
       "CRIMINAL DAMAGE                       831880\n",
       "NARCOTICS                             737251\n",
       "ASSAULT                               464230\n",
       "OTHER OFFENSE                         453531\n",
       "BURGLARY                              409236\n",
       "MOTOR VEHICLE THEFT                   336816\n",
       "DECEPTIVE PRACTICE                    310360\n",
       "ROBBERY                               274579\n",
       "CRIMINAL TRESPASS                     206005\n",
       "WEAPONS VIOLATION                      88230\n",
       "PROSTITUTION                           69388\n",
       "OFFENSE INVOLVING CHILDREN             50976\n",
       "PUBLIC PEACE VIOLATION                 50891\n",
       "SEX OFFENSE                            27984\n",
       "CRIM SEXUAL ASSAULT                    27928\n",
       "INTERFERENCE WITH PUBLIC OFFICER       17587\n",
       "GAMBLING                               14595\n",
       "LIQUOR LAW VIOLATION                   14489\n",
       "ARSON                                  12283\n",
       "HOMICIDE                               10981\n",
       "KIDNAPPING                              7001\n",
       "INTIMIDATION                            4308\n",
       "STALKING                                3905\n",
       "CRIMINAL SEXUAL ASSAULT                 2884\n",
       "OBSCENITY                                723\n",
       "CONCEALED CARRY LICENSE VIOLATION        710\n",
       "PUBLIC INDECENCY                         186\n",
       "NON-CRIMINAL                             173\n",
       "OTHER NARCOTIC VIOLATION                 139\n",
       "HUMAN TRAFFICKING                         72\n",
       "NON - CRIMINAL                            38\n",
       "RITUALISM                                 24\n",
       "NON-CRIMINAL (SUBJECT SPECIFIED)           9\n",
       "DOMESTIC VIOLENCE                          1\n",
       "Name: Primary Type, dtype: int64"
      ]
     },
     "execution_count": 30,
     "metadata": {},
     "output_type": "execute_result"
    }
   ],
   "source": [
    "crime_df['Primary Type'].value_counts()"
   ]
  },
  {
   "cell_type": "code",
   "execution_count": 31,
   "id": "de74927b",
   "metadata": {},
   "outputs": [
    {
     "data": {
      "text/plain": [
       "SIMPLE                                                         858425\n",
       "$500 AND UNDER                                                 594498\n",
       "DOMESTIC BATTERY SIMPLE                                        569374\n",
       "TO VEHICLE                                                     403476\n",
       "TO PROPERTY                                                    384717\n",
       "                                                                ...  \n",
       "UNLAWFUL SALE - OTHER FIREARM                                       1\n",
       "SPORTS TAMPERING                                                    1\n",
       "AGG. RITUAL MUTILATION - HANDS, FISTS, FEET, SERIOUS INJURY         1\n",
       "THEFT RETAIL                                                        1\n",
       "GAME / AMUSEMENT DEVICE                                             1\n",
       "Name: Description, Length: 535, dtype: int64"
      ]
     },
     "execution_count": 31,
     "metadata": {},
     "output_type": "execute_result"
    }
   ],
   "source": [
    "crime_df['Description'].value_counts()"
   ]
  },
  {
   "cell_type": "code",
   "execution_count": 94,
   "id": "6fddfaf2",
   "metadata": {},
   "outputs": [],
   "source": [
    "crime_df.loc[:,'latitude_float'] = pd.to_numeric(crime_df.loc[:,'latitude'])\n",
    "crime_df.loc[:,'longitude_float'] = pd.to_numeric(crime_df.loc[:,'longitude'])"
   ]
  },
  {
   "cell_type": "code",
   "execution_count": 110,
   "id": "458adbc8",
   "metadata": {},
   "outputs": [
    {
     "data": {
      "text/plain": [
       "<seaborn.axisgrid.FacetGrid at 0x7f936e42c2e0>"
      ]
     },
     "execution_count": 110,
     "metadata": {},
     "output_type": "execute_result"
    },
    {
     "data": {
      "image/png": "[encoded data removed]",
      "text/plain": [
       "<Figure size 360x360 with 1 Axes>"
      ]
     },
     "metadata": {
      "needs_background": "light"
     },
     "output_type": "display_data"
    }
   ],
   "source": [
    "import seaborn as sns\n",
    "ax = sns.relplot(x='longitude_float', y='latitude_float', data=crime_df, alpha=0.3)\n",
    "ax.set(ylim=(41.6, 42.05))\n",
    "ax.set(xlim=(-88, -87.5))"
   ]
  },
  {
   "cell_type": "code",
   "execution_count": null,
   "id": "834d135d",
   "metadata": {},
   "outputs": [],
   "source": []
  }
 ],
 "metadata": {
  "kernelspec": {
   "display_name": "Python 3",
   "language": "python",
   "name": "python3"
  },
  "language_info": {
   "codemirror_mode": {
    "name": "ipython",
    "version": 3
   },
   "file_extension": ".py",
   "mimetype": "text/x-python",
   "name": "python",
   "nbconvert_exporter": "python",
   "pygments_lexer": "ipython3",
   "version": "3.8.5"
  }
 },
 "nbformat": 4,
 "nbformat_minor": 5
}
