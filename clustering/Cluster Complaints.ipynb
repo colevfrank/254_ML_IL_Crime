{
 "cells": [
  {
   "cell_type": "code",
   "execution_count": 1,
   "metadata": {},
   "outputs": [],
   "source": [
    "import os\n",
    "import numpy as np\n",
    "import pandas as pd\n",
    "import seaborn as sns\n",
    "import networkx as nx"
   ]
  },
  {
   "cell_type": "code",
   "execution_count": 2,
   "metadata": {},
   "outputs": [],
   "source": [
    "# Read in data\n",
    "COMPLAINTS_CSV_IN = '../data/features/complaints.csv'\n",
    "complaints_csv = pd.read_csv(COMPLAINTS_CSV_IN)"
   ]
  },
  {
   "cell_type": "code",
   "execution_count": 3,
   "metadata": {},
   "outputs": [
    {
     "data": {
      "text/plain": [
       "Index(['BEAT', 'COMPLAINT_YEAR', 'POLICE_SHOOTING',\n",
       "       'COMPLAINT_CAT_AbuseofAuthority', 'COMPLAINT_CAT_CivilSuits',\n",
       "       'COMPLAINT_CAT_Closed-NoAllegation', 'COMPLAINT_CAT_Coercion',\n",
       "       'COMPLAINT_CAT_DenialofCounsel', 'COMPLAINT_CAT_DomesticViolence',\n",
       "       'COMPLAINT_CAT_ExcessiceForce', 'COMPLAINT_CAT_ExcessiveForce',\n",
       "       'COMPLAINT_CAT_FirearmDischarge-NoContact',\n",
       "       'COMPLAINT_CAT_FirearmDischarge-WithContact',\n",
       "       'COMPLAINT_CAT_FirearmDischargeatAnimal',\n",
       "       'COMPLAINT_CAT_FirstAmendment',\n",
       "       'COMPLAINT_CAT_FourthAmendment/ImproperSearch',\n",
       "       'COMPLAINT_CAT_InProcess-AllegationPending',\n",
       "       'COMPLAINT_CAT_IncidentsinCustody', 'COMPLAINT_CAT_LegalViolation',\n",
       "       'COMPLAINT_CAT_Miscellaneous',\n",
       "       'COMPLAINT_CAT_MiscellaneousNotification', 'COMPLAINT_CAT_OCDischarge',\n",
       "       'COMPLAINT_CAT_OperationalViolation', 'COMPLAINT_CAT_ProperCare',\n",
       "       'COMPLAINT_CAT_Rule14Violation', 'COMPLAINT_CAT_SexOffense',\n",
       "       'COMPLAINT_CAT_SexualHarassment', 'COMPLAINT_CAT_TaserDischarge',\n",
       "       'COMPLAINT_CAT_Traffic', 'COMPLAINT_CAT_UnnecessaryDisplayofWeapon',\n",
       "       'COMPLAINT_CAT_Vehicle', 'COMPLAINT_CAT_VerbalAbuse',\n",
       "       'COMPLAINT_FINDING_AdministrativelyTerminated',\n",
       "       'COMPLAINT_FINDING_Exonerated', 'COMPLAINT_FINDING_NoAffidavit',\n",
       "       'COMPLAINT_FINDING_NoFinding', 'COMPLAINT_FINDING_NotSustained',\n",
       "       'COMPLAINT_FINDING_Sustained', 'COMPLAINT_FINDING_Unfounded',\n",
       "       'COMPLAINANT_RACE_AmericanIndianorAlaskaNative',\n",
       "       'COMPLAINANT_RACE_AsianorPacificIslander',\n",
       "       'COMPLAINANT_RACE_BlackorAfricanAmerican',\n",
       "       'COMPLAINANT_RACE_Hispanic,Latino,orSpanishOrigin',\n",
       "       'COMPLAINANT_RACE_Hispanic,Latino,orSpanishorigin',\n",
       "       'COMPLAINANT_RACE_MiddleEasternorNorthAfrican',\n",
       "       'COMPLAINANT_RACE_NativeHawaiianorOtherPacificIslander',\n",
       "       'COMPLAINANT_RACE_PreferNottoSay',\n",
       "       'COMPLAINANT_RACE_SomeOtherRace,Ethnicity,orOrigin',\n",
       "       'COMPLAINANT_RACE_Unknown', 'COMPLAINANT_RACE_White',\n",
       "       'COMPLAINANT_SEX_Female', 'COMPLAINANT_SEX_Male',\n",
       "       'COMPLAINANT_SEX_Non-Binary/ThirdGender',\n",
       "       'COMPLAINANT_SEX_PreferNottoSay', 'COMPLAINANT_SEX_Prefernottosay',\n",
       "       'COMPLAINANT_SEX_PrefertoSelf-Describe', 'COMPLAINANT_SEX_Unknown',\n",
       "       'COMPLAINANT_AGE_0-19', 'COMPLAINANT_AGE_20-29',\n",
       "       'COMPLAINANT_AGE_30-39', 'COMPLAINANT_AGE_40-49',\n",
       "       'COMPLAINANT_AGE_50-59', 'COMPLAINANT_AGE_60-69', 'COMPLAINANT_AGE_70+',\n",
       "       'COMPLAINANT_AGE_70-79', 'COMPLAINANT_AGE_80-89', 'COMPLAINANT_AGE_90+',\n",
       "       'COMPLAINANT_AGE_Unknown'],\n",
       "      dtype='object')"
      ]
     },
     "execution_count": 3,
     "metadata": {},
     "output_type": "execute_result"
    }
   ],
   "source": [
    "complaints_csv.columns\n"
   ]
  },
  {
   "cell_type": "code",
   "execution_count": 3,
   "metadata": {},
   "outputs": [],
   "source": [
    "# Clean up complaints formatting\n",
    "x_complaints = complaints_csv.rename(columns={'COMPLAINT_YEAR':'YEAR'}) \\\n",
    "                    .assign(BEAT = pd.to_numeric(complaints_csv.BEAT.str.strip(),downcast='integer',errors='coerce'))\n",
    "\n",
    "# For right now I don't want to use year or beat.\n",
    "# Future: add beat spatially. compare clustering across years\n",
    "x_train = x_complaints.drop(['BEAT','YEAR'],axis=1)"
   ]
  },
  {
   "cell_type": "code",
   "execution_count": 4,
   "metadata": {},
   "outputs": [],
   "source": [
    "# Normalize columns\n",
    "from sklearn.preprocessing import StandardScaler\n",
    "\n",
    "# This puts all features at same importance. We may want type or shootings to be more important somehow.\n",
    "scaler = StandardScaler()\n",
    "x_train_scaled = pd.DataFrame(scaler.fit_transform(x_train), columns=x_train.columns)"
   ]
  },
  {
   "cell_type": "code",
   "execution_count": 5,
   "metadata": {},
   "outputs": [
    {
     "data": {
      "text/plain": [
       "AgglomerativeClustering(affinity='cosine', linkage='complete', n_clusters=3)"
      ]
     },
     "execution_count": 5,
     "metadata": {},
     "output_type": "execute_result"
    }
   ],
   "source": [
    "from sklearn.cluster import KMeans, AgglomerativeClustering\n",
    "\n",
    "# Number of clusters and linkage is arbitrary\n",
    "# Affinity is cosine because we're looking at the attributes as a set\n",
    "kmeans = KMeans(n_clusters=3)\n",
    "aggclust = AgglomerativeClustering(n_clusters=3, affinity='cosine', linkage='complete')\n",
    "kmeans.fit(x_train)\n",
    "aggclust.fit(x_train)"
   ]
  },
  {
   "cell_type": "code",
   "execution_count": 6,
   "metadata": {},
   "outputs": [],
   "source": [
    "# Apply learned labels to data frame\n",
    "clustered = pd.concat([x_train, \\\n",
    "                       pd.Series(kmeans.labels_, name='KMeans'), \\\n",
    "                       pd.Series(aggclust.labels_, name='Agglom')], axis=1)"
   ]
  },
  {
   "cell_type": "code",
   "execution_count": null,
   "metadata": {},
   "outputs": [],
   "source": [
    "# Hack for importing sibling modules\n",
    "### SNIPPET ATTRIBUTION: https://izziswift.com/import-local-function-from-a-module-housed-in-another-directory-with-relative-imports-in-jupyter-notebook-using-python-3/\n",
    "import os\n",
    "import sys\n",
    "module_path = os.path.abspath(os.path.join('..'))\n",
    "if module_path not in sys.path:\n",
    "    sys.path.append(module_path)\n",
    "### END SNIPPET "
   ]
  },
  {
   "cell_type": "code",
   "execution_count": 7,
   "metadata": {
    "scrolled": true
   },
   "outputs": [],
   "source": [
    "# Unpivot Dummies to help us interpret clustering\n",
    "from util.cat_reshaper import listcolumn_pivot_longer\n",
    "\n",
    "clustered_long = clustered\n",
    "clustered_long = listcolumn_pivot_longer(clustered_long, 'CURRENT_CATEGORY', 'COMPLAINT_CAT_', '|')\n",
    "clustered_long = listcolumn_pivot_longer(clustered_long, 'FINDING_CODE', 'COMPLAINT_FINDING_', '|')\n",
    "clustered_long = listcolumn_pivot_longer(clustered_long, 'RACE_OF_COMPLAINANT', 'COMPLAINANT_RACE_', '|')\n",
    "clustered_long = listcolumn_pivot_longer(clustered_long, 'SEX_OF_COMPLAINANT', 'COMPLAINANT_SEX_', '|')\n",
    "clustered_long = listcolumn_pivot_longer(clustered_long, 'AGE_OF_COMPLAINANT', 'COMPLAINANT_AGE_', '|')"
   ]
  },
  {
   "cell_type": "code",
   "execution_count": 13,
   "metadata": {},
   "outputs": [
    {
     "data": {
      "text/plain": [
       "count    5102.000000\n",
       "mean     2013.433947\n",
       "std         4.143790\n",
       "min      2007.000000\n",
       "25%      2010.000000\n",
       "50%      2013.000000\n",
       "75%      2017.000000\n",
       "max      2021.000000\n",
       "Name: YEAR, dtype: float64"
      ]
     },
     "execution_count": 13,
     "metadata": {},
     "output_type": "execute_result"
    }
   ],
   "source": [
    "x_complaints['YEAR'].describe()"
   ]
  },
  {
   "cell_type": "code",
   "execution_count": 10,
   "metadata": {},
   "outputs": [
    {
     "data": {
      "image/png": "[encoded data removed]",
      "text/plain": [
       "<Figure size 791.475x720 with 1 Axes>"
      ]
     },
     "metadata": {},
     "output_type": "display_data"
    }
   ],
   "source": [
    "def plot_multifactor_cluster(data, cat_prefix, cluster_name, kind='relplot'):\n",
    "    '''\n",
    "        Pivots dummy columns into a single multi-valued categorical column.\n",
    "        Inverse of listcolumn_pivot_wider ... (defined in ETL/Complaints ETL)\n",
    "    Inputs:\n",
    "        data - pandas data frame\n",
    "        cat_prefix - common prefix to identify dummy columns\n",
    "        cluster_name - name of cluster label column\n",
    "        kind - Options: {relplot, graph}\n",
    "    '''\n",
    "    # First find all categorical values -- in order!\n",
    "    dummyvals = []\n",
    "    for column in data.columns:\n",
    "        if column.startswith(cat_prefix):\n",
    "            dummyval = column[len(cat_prefix):]\n",
    "            dummyvals.append(dummyval)\n",
    "    \n",
    "    # Reconstruct single multi-factor column from dummy column so we can use it as axis labels\n",
    "    catcolumns = data.columns.str.startswith(cat_prefix)\n",
    "    dummyvals = np.array(dummyvals)\n",
    "    multiseries = data.loc[:, catcolumns].T.apply(lambda row: dummyvals[row.to_numpy(bool)])\n",
    "    multiseries = multiseries.apply(lambda x: '|'.join(x))\n",
    "    \n",
    "    # Construct adjacency matrix\n",
    "    dummies = data.loc[:, catcolumns]\n",
    "    adjacency = dummies.dot(dummies.T)\n",
    "    \n",
    "    # Sample adjacency and cluster matrixes because its too many things to plot\n",
    "    n = len(adjacency)\n",
    "    p = min(1, 100.0/n)\n",
    "    sample_mask = np.random.choice([True,False], size=n, p=[p, 1-p])\n",
    "    adjacency = adjacency.loc[sample_mask, sample_mask]\n",
    "    \n",
    "    # This sets the axis labels. We sample and truncate because these strings can get long and crowded\n",
    "#     label_mask = np.random.choice([False,True], size=len(multiseries), p=[.05,.95])\n",
    "#     label_sample = multiseries.mask(label_mask, other='')\n",
    "    label_sample = multiseries.loc[sample_mask]\n",
    "    label_trunc = label_sample.mask(label_sample.str.len() > 30, other=label_sample.str.slice(0,30)+'...')\n",
    "#     adjacency.columns = label_trunc\n",
    "\n",
    "    # Reshape cluster labels into matrix so we can join on adjacency matrix\n",
    "    cluster_mat = pd.DataFrame(np.diag(data[cluster_name]))\n",
    "\n",
    "    # Reshape to long form\n",
    "    adjacency_long = adjacency.stack().reset_index(name='adjacency')\n",
    "    cluster_long = cluster_mat.stack().reset_index(name=cluster_name)\n",
    "    plt_df = adjacency_long.merge(cluster_long, left_index=True, right_index=True)\n",
    "    \n",
    "    # Plotting\n",
    "    if kind=='relplot':\n",
    "        # Attribution: relplot snippet from seaborn docs\n",
    "        sns.set_theme(style=\"whitegrid\")\n",
    "        g = sns.relplot(data=plt_df, x='level_0_x', y='level_1_x', \\\n",
    "                    hue=cluster_name, size='adjacency', \\\n",
    "                    palette=\"vlag\", hue_norm=(-1, 1), edgecolor=\".7\", \\\n",
    "                    height=10, sizes=(50, 250), size_norm=(-.2, .8))\n",
    "        g.set(title=f\"Clustering of {cat_prefix}\", aspect='equal', xlabel='', ylabel='')\n",
    "        g.despine(left=True, bottom=True)\n",
    "        g.ax.set_yticks(np.linspace(g.ax.get_ylim()[0],g.ax.get_ylim()[1],len(adjacency)))\n",
    "        g.ax.set_yticklabels(label_trunc)\n",
    "        g.ax.set_xticks(g.ax.get_yticks())\n",
    "        g.set_xticklabels(g.ax.get_yticklabels(),rotation=90)\n",
    "        sns.set_theme()\n",
    "    elif kind == 'graph':\n",
    "        G = nx.Graph()\n",
    "        node_df = pd.concat([multiseries.rename('label'), data[cluster_name].rename('cluster')], axis=1)\n",
    "        node_tuples = [(row.Index,{\"color\": row.cluster, \"label\":row.label}) for row in node_df.itertuples()]\n",
    "        G.add_nodes_from(node_tuples)\n",
    "        adjacency_tuples = [(row.level_0, row.level_1, {\"weight\":row.adjacency}) \\\n",
    "                            for row in adjacency_long.itertuples()]\n",
    "        G.add_edges_from(adjacency_tuples)\n",
    "        G.remove_nodes_from(list(nx.isolates(G)))\n",
    "        nx.draw(G) #, node_color=index into matplotlib colormap\n",
    "        \n",
    "# test = pd.DataFrame({'B':[1,2,3,4,5], 'A_Foo':[0,1,1,1,1],'A_Bar':[1,1,0,1,1],'A_Baz':[1,1,0,0,0]})\n",
    "# plot_multifactor_cluster(test, 'A_', 'B', kind='graph')\n",
    "plot_multifactor_cluster(test, 'A_', 'B', kind='relplot')\n",
    "# plot_multifactor_cluster(clustered, 'COMPLAINT_FINDING_', 'KMeans', kind='graph')\n"
   ]
  },
  {
   "cell_type": "code",
   "execution_count": null,
   "metadata": {},
   "outputs": [],
   "source": []
  }
 ],
 "metadata": {
  "kernelspec": {
   "display_name": "mlpp_venv",
   "language": "python",
   "name": "mlpp_venv"
  },
  "language_info": {
   "codemirror_mode": {
    "name": "ipython",
    "version": 3
   },
   "file_extension": ".py",
   "mimetype": "text/x-python",
   "name": "python",
   "nbconvert_exporter": "python",
   "pygments_lexer": "ipython3",
   "version": "3.9.4"
  }
 },
 "nbformat": 4,
 "nbformat_minor": 4
}