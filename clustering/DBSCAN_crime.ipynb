{
 "cells": [
  {
   "cell_type": "code",
   "execution_count": 2,
   "id": "7f63ed63",
   "metadata": {},
   "outputs": [],
   "source": [
    "from sklearn.preprocessing import StandardScaler\n",
    "from sklearn import metrics\n",
    "from sklearn.cluster import DBSCAN\n",
    "# Scikit learn DBSCAN documentation:\n",
    "# https://scikit-learn.org/stable/modules/generated/sklearn.cluster.DBSCAN.html\n",
    "import pandas as pd\n",
    "import numpy as np"
   ]
  },
  {
   "cell_type": "code",
   "execution_count": 4,
   "id": "0435840f",
   "metadata": {},
   "outputs": [],
   "source": [
    "#X, y = make_moons(n_samples=1000, noise=0.05)"
   ]
  },
  {
   "cell_type": "code",
   "execution_count": 3,
   "id": "e8a88db0",
   "metadata": {},
   "outputs": [
    {
     "data": {
      "text/html": [
       "<div>\n",
       "<style scoped>\n",
       "    .dataframe tbody tr th:only-of-type {\n",
       "        vertical-align: middle;\n",
       "    }\n",
       "\n",
       "    .dataframe tbody tr th {\n",
       "        vertical-align: top;\n",
       "    }\n",
       "\n",
       "    .dataframe thead th {\n",
       "        text-align: right;\n",
       "    }\n",
       "</style>\n",
       "<table border=\"1\" class=\"dataframe\">\n",
       "  <thead>\n",
       "    <tr style=\"text-align: right;\">\n",
       "      <th></th>\n",
       "      <th>Unnamed: 0</th>\n",
       "      <th>Year</th>\n",
       "      <th>Beat</th>\n",
       "      <th>report_cnt</th>\n",
       "      <th>THEFT</th>\n",
       "      <th>BATTERY</th>\n",
       "      <th>CRIMINAL DAMAGE</th>\n",
       "      <th>ASSAULT</th>\n",
       "      <th>DECEPTIVE PRACTICE</th>\n",
       "      <th>OTHER OFFENSE</th>\n",
       "      <th>...</th>\n",
       "      <th>NON-CRIMINAL_rate</th>\n",
       "      <th>HUMAN TRAFFICKING_rate</th>\n",
       "      <th>PUBLIC INDECENCY_rate</th>\n",
       "      <th>OTHER NARCOTIC VIOLATION_rate</th>\n",
       "      <th>NON-CRIMINAL (SUBJECT SPECIFIED)_rate</th>\n",
       "      <th>NON - CRIMINAL_rate</th>\n",
       "      <th>Arrest</th>\n",
       "      <th>Domestic</th>\n",
       "      <th>Arrest_rate</th>\n",
       "      <th>Domestic_rate</th>\n",
       "    </tr>\n",
       "  </thead>\n",
       "  <tbody>\n",
       "    <tr>\n",
       "      <th>0</th>\n",
       "      <td>0</td>\n",
       "      <td>2016</td>\n",
       "      <td>111</td>\n",
       "      <td>1843</td>\n",
       "      <td>1143</td>\n",
       "      <td>116</td>\n",
       "      <td>57.0</td>\n",
       "      <td>84</td>\n",
       "      <td>222.0</td>\n",
       "      <td>37</td>\n",
       "      <td>...</td>\n",
       "      <td>NaN</td>\n",
       "      <td>NaN</td>\n",
       "      <td>NaN</td>\n",
       "      <td>NaN</td>\n",
       "      <td>NaN</td>\n",
       "      <td>NaN</td>\n",
       "      <td>561</td>\n",
       "      <td>47.0</td>\n",
       "      <td>0.304395</td>\n",
       "      <td>0.025502</td>\n",
       "    </tr>\n",
       "    <tr>\n",
       "      <th>1</th>\n",
       "      <td>1</td>\n",
       "      <td>2016</td>\n",
       "      <td>112</td>\n",
       "      <td>1849</td>\n",
       "      <td>1115</td>\n",
       "      <td>123</td>\n",
       "      <td>41.0</td>\n",
       "      <td>55</td>\n",
       "      <td>318.0</td>\n",
       "      <td>44</td>\n",
       "      <td>...</td>\n",
       "      <td>0.000541</td>\n",
       "      <td>NaN</td>\n",
       "      <td>NaN</td>\n",
       "      <td>NaN</td>\n",
       "      <td>NaN</td>\n",
       "      <td>NaN</td>\n",
       "      <td>377</td>\n",
       "      <td>29.0</td>\n",
       "      <td>0.203894</td>\n",
       "      <td>0.015684</td>\n",
       "    </tr>\n",
       "    <tr>\n",
       "      <th>2</th>\n",
       "      <td>2</td>\n",
       "      <td>2016</td>\n",
       "      <td>113</td>\n",
       "      <td>1085</td>\n",
       "      <td>482</td>\n",
       "      <td>151</td>\n",
       "      <td>58.0</td>\n",
       "      <td>46</td>\n",
       "      <td>149.0</td>\n",
       "      <td>21</td>\n",
       "      <td>...</td>\n",
       "      <td>0.001843</td>\n",
       "      <td>NaN</td>\n",
       "      <td>0.001843</td>\n",
       "      <td>NaN</td>\n",
       "      <td>NaN</td>\n",
       "      <td>NaN</td>\n",
       "      <td>199</td>\n",
       "      <td>33.0</td>\n",
       "      <td>0.183410</td>\n",
       "      <td>0.030415</td>\n",
       "    </tr>\n",
       "    <tr>\n",
       "      <th>3</th>\n",
       "      <td>3</td>\n",
       "      <td>2016</td>\n",
       "      <td>114</td>\n",
       "      <td>1049</td>\n",
       "      <td>558</td>\n",
       "      <td>93</td>\n",
       "      <td>53.0</td>\n",
       "      <td>36</td>\n",
       "      <td>132.0</td>\n",
       "      <td>32</td>\n",
       "      <td>...</td>\n",
       "      <td>NaN</td>\n",
       "      <td>NaN</td>\n",
       "      <td>NaN</td>\n",
       "      <td>NaN</td>\n",
       "      <td>NaN</td>\n",
       "      <td>NaN</td>\n",
       "      <td>124</td>\n",
       "      <td>44.0</td>\n",
       "      <td>0.118208</td>\n",
       "      <td>0.041945</td>\n",
       "    </tr>\n",
       "    <tr>\n",
       "      <th>4</th>\n",
       "      <td>4</td>\n",
       "      <td>2016</td>\n",
       "      <td>121</td>\n",
       "      <td>810</td>\n",
       "      <td>349</td>\n",
       "      <td>63</td>\n",
       "      <td>63.0</td>\n",
       "      <td>27</td>\n",
       "      <td>118.0</td>\n",
       "      <td>46</td>\n",
       "      <td>...</td>\n",
       "      <td>NaN</td>\n",
       "      <td>NaN</td>\n",
       "      <td>NaN</td>\n",
       "      <td>NaN</td>\n",
       "      <td>NaN</td>\n",
       "      <td>NaN</td>\n",
       "      <td>129</td>\n",
       "      <td>30.0</td>\n",
       "      <td>0.159259</td>\n",
       "      <td>0.037037</td>\n",
       "    </tr>\n",
       "    <tr>\n",
       "      <th>...</th>\n",
       "      <td>...</td>\n",
       "      <td>...</td>\n",
       "      <td>...</td>\n",
       "      <td>...</td>\n",
       "      <td>...</td>\n",
       "      <td>...</td>\n",
       "      <td>...</td>\n",
       "      <td>...</td>\n",
       "      <td>...</td>\n",
       "      <td>...</td>\n",
       "      <td>...</td>\n",
       "      <td>...</td>\n",
       "      <td>...</td>\n",
       "      <td>...</td>\n",
       "      <td>...</td>\n",
       "      <td>...</td>\n",
       "      <td>...</td>\n",
       "      <td>...</td>\n",
       "      <td>...</td>\n",
       "      <td>...</td>\n",
       "      <td>...</td>\n",
       "    </tr>\n",
       "    <tr>\n",
       "      <th>1091</th>\n",
       "      <td>1091</td>\n",
       "      <td>2019</td>\n",
       "      <td>2531</td>\n",
       "      <td>690</td>\n",
       "      <td>108</td>\n",
       "      <td>158</td>\n",
       "      <td>71.0</td>\n",
       "      <td>62</td>\n",
       "      <td>67.0</td>\n",
       "      <td>58</td>\n",
       "      <td>...</td>\n",
       "      <td>NaN</td>\n",
       "      <td>NaN</td>\n",
       "      <td>NaN</td>\n",
       "      <td>NaN</td>\n",
       "      <td>NaN</td>\n",
       "      <td>NaN</td>\n",
       "      <td>150</td>\n",
       "      <td>140.0</td>\n",
       "      <td>0.217391</td>\n",
       "      <td>0.202899</td>\n",
       "    </tr>\n",
       "    <tr>\n",
       "      <th>1092</th>\n",
       "      <td>1092</td>\n",
       "      <td>2019</td>\n",
       "      <td>2532</td>\n",
       "      <td>1026</td>\n",
       "      <td>148</td>\n",
       "      <td>237</td>\n",
       "      <td>104.0</td>\n",
       "      <td>78</td>\n",
       "      <td>82.0</td>\n",
       "      <td>92</td>\n",
       "      <td>...</td>\n",
       "      <td>NaN</td>\n",
       "      <td>NaN</td>\n",
       "      <td>NaN</td>\n",
       "      <td>NaN</td>\n",
       "      <td>NaN</td>\n",
       "      <td>NaN</td>\n",
       "      <td>219</td>\n",
       "      <td>273.0</td>\n",
       "      <td>0.213450</td>\n",
       "      <td>0.266082</td>\n",
       "    </tr>\n",
       "    <tr>\n",
       "      <th>1093</th>\n",
       "      <td>1093</td>\n",
       "      <td>2019</td>\n",
       "      <td>2533</td>\n",
       "      <td>1604</td>\n",
       "      <td>503</td>\n",
       "      <td>241</td>\n",
       "      <td>137.0</td>\n",
       "      <td>104</td>\n",
       "      <td>120.0</td>\n",
       "      <td>65</td>\n",
       "      <td>...</td>\n",
       "      <td>NaN</td>\n",
       "      <td>NaN</td>\n",
       "      <td>NaN</td>\n",
       "      <td>NaN</td>\n",
       "      <td>NaN</td>\n",
       "      <td>NaN</td>\n",
       "      <td>464</td>\n",
       "      <td>193.0</td>\n",
       "      <td>0.289277</td>\n",
       "      <td>0.120324</td>\n",
       "    </tr>\n",
       "    <tr>\n",
       "      <th>1094</th>\n",
       "      <td>1094</td>\n",
       "      <td>2019</td>\n",
       "      <td>2534</td>\n",
       "      <td>1192</td>\n",
       "      <td>189</td>\n",
       "      <td>270</td>\n",
       "      <td>149.0</td>\n",
       "      <td>118</td>\n",
       "      <td>44.0</td>\n",
       "      <td>72</td>\n",
       "      <td>...</td>\n",
       "      <td>NaN</td>\n",
       "      <td>NaN</td>\n",
       "      <td>NaN</td>\n",
       "      <td>NaN</td>\n",
       "      <td>NaN</td>\n",
       "      <td>NaN</td>\n",
       "      <td>250</td>\n",
       "      <td>226.0</td>\n",
       "      <td>0.209732</td>\n",
       "      <td>0.189597</td>\n",
       "    </tr>\n",
       "    <tr>\n",
       "      <th>1095</th>\n",
       "      <td>1095</td>\n",
       "      <td>2019</td>\n",
       "      <td>2535</td>\n",
       "      <td>838</td>\n",
       "      <td>187</td>\n",
       "      <td>151</td>\n",
       "      <td>77.0</td>\n",
       "      <td>55</td>\n",
       "      <td>39.0</td>\n",
       "      <td>69</td>\n",
       "      <td>...</td>\n",
       "      <td>NaN</td>\n",
       "      <td>NaN</td>\n",
       "      <td>NaN</td>\n",
       "      <td>NaN</td>\n",
       "      <td>NaN</td>\n",
       "      <td>NaN</td>\n",
       "      <td>188</td>\n",
       "      <td>129.0</td>\n",
       "      <td>0.224344</td>\n",
       "      <td>0.153938</td>\n",
       "    </tr>\n",
       "  </tbody>\n",
       "</table>\n",
       "<p>1096 rows × 76 columns</p>\n",
       "</div>"
      ],
      "text/plain": [
       "      Unnamed: 0  Year  Beat  report_cnt  THEFT  BATTERY  CRIMINAL DAMAGE  \\\n",
       "0              0  2016   111        1843   1143      116             57.0   \n",
       "1              1  2016   112        1849   1115      123             41.0   \n",
       "2              2  2016   113        1085    482      151             58.0   \n",
       "3              3  2016   114        1049    558       93             53.0   \n",
       "4              4  2016   121         810    349       63             63.0   \n",
       "...          ...   ...   ...         ...    ...      ...              ...   \n",
       "1091        1091  2019  2531         690    108      158             71.0   \n",
       "1092        1092  2019  2532        1026    148      237            104.0   \n",
       "1093        1093  2019  2533        1604    503      241            137.0   \n",
       "1094        1094  2019  2534        1192    189      270            149.0   \n",
       "1095        1095  2019  2535         838    187      151             77.0   \n",
       "\n",
       "      ASSAULT  DECEPTIVE PRACTICE  OTHER OFFENSE  ...  NON-CRIMINAL_rate  \\\n",
       "0          84               222.0             37  ...                NaN   \n",
       "1          55               318.0             44  ...           0.000541   \n",
       "2          46               149.0             21  ...           0.001843   \n",
       "3          36               132.0             32  ...                NaN   \n",
       "4          27               118.0             46  ...                NaN   \n",
       "...       ...                 ...            ...  ...                ...   \n",
       "1091       62                67.0             58  ...                NaN   \n",
       "1092       78                82.0             92  ...                NaN   \n",
       "1093      104               120.0             65  ...                NaN   \n",
       "1094      118                44.0             72  ...                NaN   \n",
       "1095       55                39.0             69  ...                NaN   \n",
       "\n",
       "      HUMAN TRAFFICKING_rate  PUBLIC INDECENCY_rate  \\\n",
       "0                        NaN                    NaN   \n",
       "1                        NaN                    NaN   \n",
       "2                        NaN               0.001843   \n",
       "3                        NaN                    NaN   \n",
       "4                        NaN                    NaN   \n",
       "...                      ...                    ...   \n",
       "1091                     NaN                    NaN   \n",
       "1092                     NaN                    NaN   \n",
       "1093                     NaN                    NaN   \n",
       "1094                     NaN                    NaN   \n",
       "1095                     NaN                    NaN   \n",
       "\n",
       "      OTHER NARCOTIC VIOLATION_rate  NON-CRIMINAL (SUBJECT SPECIFIED)_rate  \\\n",
       "0                               NaN                                    NaN   \n",
       "1                               NaN                                    NaN   \n",
       "2                               NaN                                    NaN   \n",
       "3                               NaN                                    NaN   \n",
       "4                               NaN                                    NaN   \n",
       "...                             ...                                    ...   \n",
       "1091                            NaN                                    NaN   \n",
       "1092                            NaN                                    NaN   \n",
       "1093                            NaN                                    NaN   \n",
       "1094                            NaN                                    NaN   \n",
       "1095                            NaN                                    NaN   \n",
       "\n",
       "      NON - CRIMINAL_rate  Arrest  Domestic  Arrest_rate  Domestic_rate  \n",
       "0                     NaN     561      47.0     0.304395       0.025502  \n",
       "1                     NaN     377      29.0     0.203894       0.015684  \n",
       "2                     NaN     199      33.0     0.183410       0.030415  \n",
       "3                     NaN     124      44.0     0.118208       0.041945  \n",
       "4                     NaN     129      30.0     0.159259       0.037037  \n",
       "...                   ...     ...       ...          ...            ...  \n",
       "1091                  NaN     150     140.0     0.217391       0.202899  \n",
       "1092                  NaN     219     273.0     0.213450       0.266082  \n",
       "1093                  NaN     464     193.0     0.289277       0.120324  \n",
       "1094                  NaN     250     226.0     0.209732       0.189597  \n",
       "1095                  NaN     188     129.0     0.224344       0.153938  \n",
       "\n",
       "[1096 rows x 76 columns]"
      ]
     },
     "execution_count": 3,
     "metadata": {},
     "output_type": "execute_result"
    }
   ],
   "source": [
    "crime = pd.read_csv('../data/features/crime.csv')\n",
    "crime"
   ]
  },
  {
   "cell_type": "code",
   "execution_count": 4,
   "id": "1f743f3a",
   "metadata": {},
   "outputs": [
    {
     "data": {
      "text/plain": [
       "Index(['Unnamed: 0', 'Year', 'Beat', 'report_cnt', 'THEFT', 'BATTERY',\n",
       "       'CRIMINAL DAMAGE', 'ASSAULT', 'DECEPTIVE PRACTICE', 'OTHER OFFENSE',\n",
       "       'NARCOTICS', 'BURGLARY', 'MOTOR VEHICLE THEFT', 'ROBBERY',\n",
       "       'CRIMINAL TRESPASS', 'WEAPONS VIOLATION', 'OFFENSE INVOLVING CHILDREN',\n",
       "       'PUBLIC PEACE VIOLATION', 'CRIM SEXUAL ASSAULT',\n",
       "       'INTERFERENCE WITH PUBLIC OFFICER', 'SEX OFFENSE', 'PROSTITUTION',\n",
       "       'HOMICIDE', 'ARSON', 'CRIMINAL SEXUAL ASSAULT', 'LIQUOR LAW VIOLATION',\n",
       "       'STALKING', 'KIDNAPPING', 'GAMBLING', 'INTIMIDATION',\n",
       "       'CONCEALED CARRY LICENSE VIOLATION', 'OBSCENITY', 'NON-CRIMINAL',\n",
       "       'HUMAN TRAFFICKING', 'PUBLIC INDECENCY', 'OTHER NARCOTIC VIOLATION',\n",
       "       'NON-CRIMINAL (SUBJECT SPECIFIED)', 'NON - CRIMINAL', 'THEFT_rate',\n",
       "       'BATTERY_rate', 'CRIMINAL DAMAGE_rate', 'ASSAULT_rate',\n",
       "       'DECEPTIVE PRACTICE_rate', 'OTHER OFFENSE_rate', 'NARCOTICS_rate',\n",
       "       'BURGLARY_rate', 'MOTOR VEHICLE THEFT_rate', 'ROBBERY_rate',\n",
       "       'CRIMINAL TRESPASS_rate', 'WEAPONS VIOLATION_rate',\n",
       "       'OFFENSE INVOLVING CHILDREN_rate', 'PUBLIC PEACE VIOLATION_rate',\n",
       "       'CRIM SEXUAL ASSAULT_rate', 'INTERFERENCE WITH PUBLIC OFFICER_rate',\n",
       "       'SEX OFFENSE_rate', 'PROSTITUTION_rate', 'HOMICIDE_rate', 'ARSON_rate',\n",
       "       'CRIMINAL SEXUAL ASSAULT_rate', 'LIQUOR LAW VIOLATION_rate',\n",
       "       'STALKING_rate', 'KIDNAPPING_rate', 'GAMBLING_rate',\n",
       "       'INTIMIDATION_rate', 'CONCEALED CARRY LICENSE VIOLATION_rate',\n",
       "       'OBSCENITY_rate', 'NON-CRIMINAL_rate', 'HUMAN TRAFFICKING_rate',\n",
       "       'PUBLIC INDECENCY_rate', 'OTHER NARCOTIC VIOLATION_rate',\n",
       "       'NON-CRIMINAL (SUBJECT SPECIFIED)_rate', 'NON - CRIMINAL_rate',\n",
       "       'Arrest', 'Domestic', 'Arrest_rate', 'Domestic_rate'],\n",
       "      dtype='object')"
      ]
     },
     "execution_count": 4,
     "metadata": {},
     "output_type": "execute_result"
    }
   ],
   "source": [
    "crime.columns"
   ]
  },
  {
   "cell_type": "code",
   "execution_count": 5,
   "id": "6ade50ce",
   "metadata": {},
   "outputs": [
    {
     "data": {
      "text/plain": [
       "Unnamed: 0                 0\n",
       "BATTERY_rate               0\n",
       "ASSAULT_rate               0\n",
       "CRIMINAL TRESPASS          0\n",
       "OTHER OFFENSE_rate         0\n",
       "CRIMINAL TRESPASS_rate     0\n",
       "Arrest                     0\n",
       "THEFT_rate                 0\n",
       "OTHER OFFENSE              0\n",
       "Arrest_rate                0\n",
       "ASSAULT                    0\n",
       "BATTERY                    0\n",
       "THEFT                      0\n",
       "report_cnt                 0\n",
       "Beat                       0\n",
       "Year                       0\n",
       "CRIMINAL DAMAGE            1\n",
       "DECEPTIVE PRACTICE_rate    1\n",
       "CRIMINAL DAMAGE_rate       1\n",
       "DECEPTIVE PRACTICE         1\n",
       "dtype: int64"
      ]
     },
     "execution_count": 5,
     "metadata": {},
     "output_type": "execute_result"
    }
   ],
   "source": [
    "crime.isna().sum().sort_values().head(20)"
   ]
  },
  {
   "cell_type": "code",
   "execution_count": 18,
   "id": "eb0d528b",
   "metadata": {},
   "outputs": [
    {
     "data": {
      "text/plain": [
       "DBSCAN(eps=0.03)"
      ]
     },
     "execution_count": 18,
     "metadata": {},
     "output_type": "execute_result"
    }
   ],
   "source": [
    "crime_sub = crime[crime['Year'] == 2019].loc[:, ['BATTERY_rate', 'ASSAULT_rate', 'Arrest_rate', 'OTHER OFFENSE_rate', 'report_cnt']]\n",
    "#subset 2019 data\n",
    "dbscan = DBSCAN(eps=.03, min_samples=5)\n",
    "dbscan.fit(crime_sub)"
   ]
  },
  {
   "cell_type": "code",
   "execution_count": 19,
   "id": "f214bfbe",
   "metadata": {},
   "outputs": [
    {
     "data": {
      "text/plain": [
       "array([-1])"
      ]
     },
     "execution_count": 19,
     "metadata": {},
     "output_type": "execute_result"
    }
   ],
   "source": [
    "np.unique(dbscan.labels_)"
   ]
  },
  {
   "cell_type": "code",
   "execution_count": 20,
   "id": "dad3e15e",
   "metadata": {},
   "outputs": [
    {
     "data": {
      "text/plain": [
       "array([], dtype=int64)"
      ]
     },
     "execution_count": 20,
     "metadata": {},
     "output_type": "execute_result"
    }
   ],
   "source": [
    "dbscan.core_sample_indices_"
   ]
  },
  {
   "cell_type": "code",
   "execution_count": 21,
   "id": "0cdebd2a",
   "metadata": {},
   "outputs": [],
   "source": [
    "#dbscan.components_"
   ]
  },
  {
   "cell_type": "code",
   "execution_count": 22,
   "id": "25347d0d",
   "metadata": {},
   "outputs": [],
   "source": [
    "#same thing but standardize the data first\n",
    "std_crime_sub = StandardScaler().fit_transform(crime_sub)"
   ]
  },
  {
   "cell_type": "code",
   "execution_count": 27,
   "id": "8e2a9b6c",
   "metadata": {},
   "outputs": [
    {
     "data": {
      "text/plain": [
       "DBSCAN(eps=0.9)"
      ]
     },
     "execution_count": 27,
     "metadata": {},
     "output_type": "execute_result"
    }
   ],
   "source": [
    "std_dbscan = DBSCAN(eps=.9, min_samples=5)\n",
    "std_dbscan.fit(std_crime_sub)"
   ]
  },
  {
   "cell_type": "code",
   "execution_count": 28,
   "id": "71c85c98",
   "metadata": {},
   "outputs": [
    {
     "data": {
      "text/plain": [
       "array([-1,  0,  1])"
      ]
     },
     "execution_count": 28,
     "metadata": {},
     "output_type": "execute_result"
    }
   ],
   "source": [
    "np.unique(std_dbscan.labels_)"
   ]
  },
  {
   "cell_type": "code",
   "execution_count": 29,
   "id": "c127ba30",
   "metadata": {},
   "outputs": [
    {
     "data": {
      "text/plain": [
       "array([  3,   8,   9,  11,  12,  14,  15,  16,  18,  23,  24,  28,  30,\n",
       "        31,  35,  36,  37,  38,  39,  40,  43,  45,  46,  55,  56,  61,\n",
       "        62,  69,  71,  72,  75,  79,  81,  83,  84,  85,  86,  90,  92,\n",
       "        97, 101, 102, 103, 105, 106, 107, 109, 111, 112, 113, 118, 124,\n",
       "       125, 128, 135, 136, 143, 145, 148, 152, 153, 155, 156, 157, 159,\n",
       "       160, 162, 163, 164, 169, 170, 172, 173, 176, 177, 179, 181, 183,\n",
       "       185, 186, 187, 188, 189, 197, 198, 199, 200, 201, 202, 203, 204,\n",
       "       208, 212, 217, 221, 224, 227, 229, 230, 231, 232, 236, 238, 242,\n",
       "       243, 245, 247, 248, 249, 250, 251, 254, 255, 257, 258, 260, 261,\n",
       "       262, 263, 264, 265, 266, 267, 268, 269, 270, 272])"
      ]
     },
     "execution_count": 29,
     "metadata": {},
     "output_type": "execute_result"
    }
   ],
   "source": [
    "std_dbscan.core_sample_indices_"
   ]
  },
  {
   "cell_type": "code",
   "execution_count": 33,
   "id": "fb7ecd02",
   "metadata": {},
   "outputs": [
    {
     "data": {
      "text/plain": [
       " 1    159\n",
       "-1     97\n",
       " 0     18\n",
       "dtype: int64"
      ]
     },
     "execution_count": 33,
     "metadata": {},
     "output_type": "execute_result"
    }
   ],
   "source": [
    "pd.Series(std_dbscan.labels_).value_counts()"
   ]
  },
  {
   "cell_type": "code",
   "execution_count": 34,
   "id": "814adc4b",
   "metadata": {},
   "outputs": [],
   "source": [
    "core_samples_mask = np.zeros_like(std_dbscan.labels_, dtype=bool)\n",
    "core_samples_mask[std_dbscan.core_sample_indices_] = True\n",
    "labels = dbscan.labels_"
   ]
  },
  {
   "cell_type": "code",
   "execution_count": 92,
   "id": "f777c420",
   "metadata": {},
   "outputs": [
    {
     "name": "stdout",
     "output_type": "stream",
     "text": [
      "Estimated number of clusters: 10\n",
      "Estimated number of noise points: 1045\n",
      "Silhouette Coefficient: -0.309\n"
     ]
    }
   ],
   "source": [
    "#eval\n",
    "# Number of clusters in labels, ignoring noise if present.\n",
    "n_clusters_ = len(set(labels)) - (1 if -1 in labels else 0)\n",
    "n_noise_ = list(labels).count(-1)\n",
    "\n",
    "print('Estimated number of clusters: %d' % n_clusters_)\n",
    "print('Estimated number of noise points: %d' % n_noise_)\n",
    "print(\"Silhouette Coefficient: %0.3f\"\n",
    "      % metrics.silhouette_score(std_crime_sub, labels))"
   ]
  },
  {
   "cell_type": "code",
   "execution_count": 91,
   "id": "7cb43229",
   "metadata": {},
   "outputs": [
    {
     "data": {
      "text/plain": [
       "1000"
      ]
     },
     "execution_count": 91,
     "metadata": {},
     "output_type": "execute_result"
    }
   ],
   "source": [
    "len(X)"
   ]
  }
 ],
 "metadata": {
  "kernelspec": {
   "display_name": "Python 3",
   "language": "python",
   "name": "python3"
  },
  "language_info": {
   "codemirror_mode": {
    "name": "ipython",
    "version": 3
   },
   "file_extension": ".py",
   "mimetype": "text/x-python",
   "name": "python",
   "nbconvert_exporter": "python",
   "pygments_lexer": "ipython3",
   "version": "3.8.5"
  }
 },
 "nbformat": 4,
 "nbformat_minor": 5
}
