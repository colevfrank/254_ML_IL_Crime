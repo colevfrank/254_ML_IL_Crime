{
 "cells": [
  {
   "cell_type": "markdown",
   "metadata": {},
   "source": [
    "# Clustering Comparison Analysis\n",
    "\n",
    "We run a clustering model on some subset of the data and measure the similarity of the produced clusterings."
   ]
  },
  {
   "cell_type": "code",
   "execution_count": 1,
   "metadata": {},
   "outputs": [],
   "source": [
    "import pandas as pd\n",
    "import numpy as np\n",
    "import seaborn as sns\n",
    "import geopandas as gp\n",
    "import matplotlib.pyplot as plt\n",
    "\n",
    "%matplotlib inline"
   ]
  },
  {
   "cell_type": "code",
   "execution_count": 2,
   "metadata": {},
   "outputs": [],
   "source": [
    "# Read in data\n",
    "data = pd.read_csv('../data/features/merged.csv')"
   ]
  },
  {
   "cell_type": "markdown",
   "metadata": {},
   "source": [
    "## Create training data"
   ]
  },
  {
   "cell_type": "code",
   "execution_count": 3,
   "metadata": {},
   "outputs": [],
   "source": [
    "# From here on out, we'll use a separate variable \"training_data\" for filtered data. \n",
    "# It's good not to overwrite the original 'data' variable\n",
    "# in case we want to recover the filtered columns later.\n",
    "training_data = data.copy()"
   ]
  },
  {
   "cell_type": "markdown",
   "metadata": {},
   "source": [
    "### ... by filtering columns"
   ]
  },
  {
   "cell_type": "code",
   "execution_count": 4,
   "metadata": {},
   "outputs": [
    {
     "data": {
      "text/plain": [
       "Index(['BEAT', 'YEAR', 'COMPLAINTS_POLICE_SHOOTING', 'COMPLAINTS_TOTAL',\n",
       "       'CRIME_TOTAL', 'CRIME_ARREST', 'CRIME_DOMESTIC', 'ISR_TOTAL_STOPS',\n",
       "       'ISR_SEARCH', 'ISR_ARREST', 'UOF_TOTAL_COUNT', 'UOF_POLICE_W_WEAPON',\n",
       "       'UOF_POLICE_WO_WEAPON'],\n",
       "      dtype='object')"
      ]
     },
     "execution_count": 4,
     "metadata": {},
     "output_type": "execute_result"
    }
   ],
   "source": [
    "# [ REPLACE THIS CODE TO DROP COLUMNS IF NECESSARY ]\n",
    "\n",
    "# demo_columns = ['COMPLAINTS_BLACK','COMPLAINTS_HISPANIC','COMPLAINTS_WHITE','ISR_BLACK','ISR_WHITE','ISR_HISPANIC','UOF_HISPANIC','UOF_BLACK','UOF_WHITE','CENSUS_WHITE','CENSUS_BLACK','CENSUS_HISPANIC','CENSUS_MEDIAN INCOME', 'CENSUS_TOTAL POP']\n",
    "# training_data = training_data.drop(demo_columns, axis=1)\n",
    "\n",
    "# Drop all demographics\n",
    "remove_cols = ['BLACK', 'WHITE', 'HISPANIC', 'CENSUS']\n",
    "for dem in remove_cols:\n",
    "    cols = [c for c in training_data.columns if dem in c]\n",
    "    training_data.drop(cols, axis=1, inplace=True)\n",
    "training_data.columns"
   ]
  },
  {
   "cell_type": "markdown",
   "metadata": {},
   "source": [
    "### .. by aggregating rows\n",
    "\n",
    "For model selection, since we're eventually clustering by beat, we'll aggregate by summing all years together.\n"
   ]
  },
  {
   "cell_type": "code",
   "execution_count": 5,
   "metadata": {},
   "outputs": [
    {
     "data": {
      "text/html": [
       "<div>\n",
       "<style scoped>\n",
       "    .dataframe tbody tr th:only-of-type {\n",
       "        vertical-align: middle;\n",
       "    }\n",
       "\n",
       "    .dataframe tbody tr th {\n",
       "        vertical-align: top;\n",
       "    }\n",
       "\n",
       "    .dataframe thead th {\n",
       "        text-align: right;\n",
       "    }\n",
       "</style>\n",
       "<table border=\"1\" class=\"dataframe\">\n",
       "  <thead>\n",
       "    <tr style=\"text-align: right;\">\n",
       "      <th></th>\n",
       "      <th>COMPLAINTS_POLICE_SHOOTING</th>\n",
       "      <th>COMPLAINTS_TOTAL</th>\n",
       "      <th>CRIME_TOTAL</th>\n",
       "      <th>CRIME_ARREST</th>\n",
       "      <th>CRIME_DOMESTIC</th>\n",
       "      <th>ISR_TOTAL_STOPS</th>\n",
       "      <th>ISR_SEARCH</th>\n",
       "      <th>ISR_ARREST</th>\n",
       "      <th>UOF_TOTAL_COUNT</th>\n",
       "      <th>UOF_POLICE_W_WEAPON</th>\n",
       "      <th>UOF_POLICE_WO_WEAPON</th>\n",
       "    </tr>\n",
       "  </thead>\n",
       "  <tbody>\n",
       "    <tr>\n",
       "      <th>0</th>\n",
       "      <td>0.0</td>\n",
       "      <td>25</td>\n",
       "      <td>8926</td>\n",
       "      <td>2217</td>\n",
       "      <td>196</td>\n",
       "      <td>2501</td>\n",
       "      <td>217</td>\n",
       "      <td>193.0</td>\n",
       "      <td>102</td>\n",
       "      <td>10</td>\n",
       "      <td>34</td>\n",
       "    </tr>\n",
       "    <tr>\n",
       "      <th>1</th>\n",
       "      <td>0.0</td>\n",
       "      <td>9</td>\n",
       "      <td>6570</td>\n",
       "      <td>1074</td>\n",
       "      <td>89</td>\n",
       "      <td>968</td>\n",
       "      <td>82</td>\n",
       "      <td>80.0</td>\n",
       "      <td>64</td>\n",
       "      <td>4</td>\n",
       "      <td>23</td>\n",
       "    </tr>\n",
       "  </tbody>\n",
       "</table>\n",
       "</div>"
      ],
      "text/plain": [
       "   COMPLAINTS_POLICE_SHOOTING  COMPLAINTS_TOTAL  CRIME_TOTAL  CRIME_ARREST  \\\n",
       "0                         0.0                25         8926          2217   \n",
       "1                         0.0                 9         6570          1074   \n",
       "\n",
       "   CRIME_DOMESTIC  ISR_TOTAL_STOPS  ISR_SEARCH  ISR_ARREST  UOF_TOTAL_COUNT  \\\n",
       "0             196             2501         217       193.0              102   \n",
       "1              89              968          82        80.0               64   \n",
       "\n",
       "   UOF_POLICE_W_WEAPON  UOF_POLICE_WO_WEAPON  \n",
       "0                   10                    34  \n",
       "1                    4                    23  "
      ]
     },
     "execution_count": 5,
     "metadata": {},
     "output_type": "execute_result"
    }
   ],
   "source": [
    "# [ REPLACE THIS CODE TO DROP ROWS IF NECESSARY ]\n",
    "\n",
    "training_data = training_data.drop('YEAR',axis=1).groupby(by='BEAT').agg(np.sum).reset_index(drop=True)\n",
    "training_data.head(2)"
   ]
  },
  {
   "cell_type": "markdown",
   "metadata": {},
   "source": [
    "## Preprocess / Transform Data"
   ]
  },
  {
   "cell_type": "code",
   "execution_count": 6,
   "metadata": {},
   "outputs": [],
   "source": [
    "from sklearn.preprocessing import StandardScaler\n",
    "# Normalize columns\n",
    "scaler = StandardScaler()\n",
    "scaled_training_data = pd.DataFrame(scaler.fit_transform(training_data),\\\n",
    "    columns=training_data.columns)"
   ]
  },
  {
   "cell_type": "code",
   "execution_count": 7,
   "metadata": {},
   "outputs": [],
   "source": [
    "# Do PCA\n",
    "from util_clustering import generate_pca_data\n",
    "N_TOP_PCA_COMPONENTS = 6 # See Model Selection.ipynb for why we chose this number.\n",
    "pca_training_data, pca = generate_pca_data(scaled_training_data, N_TOP_PCA_COMPONENTS)"
   ]
  },
  {
   "cell_type": "markdown",
   "metadata": {},
   "source": [
    "## Setup Best Model & Hyperparameters"
   ]
  },
  {
   "cell_type": "code",
   "execution_count": 8,
   "metadata": {},
   "outputs": [
    {
     "data": {
      "text/plain": [
       "KMeans(n_clusters=7)"
      ]
     },
     "execution_count": 8,
     "metadata": {},
     "output_type": "execute_result"
    }
   ],
   "source": [
    "from sklearn.cluster import KMeans\n",
    "\n",
    "PARAM_N_CLUSTERS = 7 # See Model Selection.ipynb for why we chose this number.\n",
    "cluster_model_params = {'n_clusters':PARAM_N_CLUSTERS}\n",
    "cluster_model = KMeans()\n",
    "cluster_model.set_params(**cluster_model_params)"
   ]
  },
  {
   "cell_type": "markdown",
   "metadata": {},
   "source": [
    "## Run the model"
   ]
  },
  {
   "cell_type": "code",
   "execution_count": 9,
   "metadata": {},
   "outputs": [],
   "source": [
    "cluster_labels = cluster_model.fit_predict(pca_training_data)\n",
    "clustered_data = pd.concat([pca_training_data, pd.Series(cluster_labels, name='Cluster')], axis=1)"
   ]
  },
  {
   "cell_type": "code",
   "execution_count": 10,
   "metadata": {},
   "outputs": [
    {
     "data": {
      "text/html": [
       "<div>\n",
       "<style scoped>\n",
       "    .dataframe tbody tr th:only-of-type {\n",
       "        vertical-align: middle;\n",
       "    }\n",
       "\n",
       "    .dataframe tbody tr th {\n",
       "        vertical-align: top;\n",
       "    }\n",
       "\n",
       "    .dataframe thead th {\n",
       "        text-align: right;\n",
       "    }\n",
       "</style>\n",
       "<table border=\"1\" class=\"dataframe\">\n",
       "  <thead>\n",
       "    <tr style=\"text-align: right;\">\n",
       "      <th></th>\n",
       "      <th>PC1</th>\n",
       "      <th>PC2</th>\n",
       "      <th>PC3</th>\n",
       "      <th>PC4</th>\n",
       "      <th>PC5</th>\n",
       "      <th>PC6</th>\n",
       "      <th>Cluster</th>\n",
       "    </tr>\n",
       "  </thead>\n",
       "  <tbody>\n",
       "    <tr>\n",
       "      <th>0</th>\n",
       "      <td>2.154153</td>\n",
       "      <td>-0.556139</td>\n",
       "      <td>1.204775</td>\n",
       "      <td>-1.169982</td>\n",
       "      <td>2.916138</td>\n",
       "      <td>-0.345154</td>\n",
       "      <td>1</td>\n",
       "    </tr>\n",
       "    <tr>\n",
       "      <th>1</th>\n",
       "      <td>-0.712959</td>\n",
       "      <td>-0.397213</td>\n",
       "      <td>0.825376</td>\n",
       "      <td>-0.792141</td>\n",
       "      <td>2.122832</td>\n",
       "      <td>-0.394202</td>\n",
       "      <td>2</td>\n",
       "    </tr>\n",
       "    <tr>\n",
       "      <th>2</th>\n",
       "      <td>-0.662858</td>\n",
       "      <td>-0.397982</td>\n",
       "      <td>0.398048</td>\n",
       "      <td>0.343189</td>\n",
       "      <td>1.169731</td>\n",
       "      <td>-0.530594</td>\n",
       "      <td>2</td>\n",
       "    </tr>\n",
       "    <tr>\n",
       "      <th>3</th>\n",
       "      <td>-0.783367</td>\n",
       "      <td>-0.285063</td>\n",
       "      <td>0.855373</td>\n",
       "      <td>0.000778</td>\n",
       "      <td>1.045543</td>\n",
       "      <td>-0.769667</td>\n",
       "      <td>2</td>\n",
       "    </tr>\n",
       "    <tr>\n",
       "      <th>4</th>\n",
       "      <td>-2.824287</td>\n",
       "      <td>0.650939</td>\n",
       "      <td>0.038874</td>\n",
       "      <td>0.125945</td>\n",
       "      <td>0.573302</td>\n",
       "      <td>-0.183643</td>\n",
       "      <td>0</td>\n",
       "    </tr>\n",
       "  </tbody>\n",
       "</table>\n",
       "</div>"
      ],
      "text/plain": [
       "        PC1       PC2       PC3       PC4       PC5       PC6  Cluster\n",
       "0  2.154153 -0.556139  1.204775 -1.169982  2.916138 -0.345154        1\n",
       "1 -0.712959 -0.397213  0.825376 -0.792141  2.122832 -0.394202        2\n",
       "2 -0.662858 -0.397982  0.398048  0.343189  1.169731 -0.530594        2\n",
       "3 -0.783367 -0.285063  0.855373  0.000778  1.045543 -0.769667        2\n",
       "4 -2.824287  0.650939  0.038874  0.125945  0.573302 -0.183643        0"
      ]
     },
     "execution_count": 10,
     "metadata": {},
     "output_type": "execute_result"
    }
   ],
   "source": [
    "clustered_data.head()"
   ]
  },
  {
   "cell_type": "markdown",
   "metadata": {},
   "source": [
    "# Summarize Clustering"
   ]
  },
  {
   "cell_type": "markdown",
   "metadata": {},
   "source": [
    "## Size of the clusters"
   ]
  },
  {
   "cell_type": "code",
   "execution_count": 11,
   "metadata": {},
   "outputs": [
    {
     "data": {
      "text/plain": [
       "Text(0, 0.5, 'Count of beats')"
      ]
     },
     "execution_count": 11,
     "metadata": {},
     "output_type": "execute_result"
    },
    {
     "data": {
      "image/png": "[encoded data removed]",
      "text/plain": [
       "<Figure size 432x288 with 1 Axes>"
      ]
     },
     "metadata": {
      "needs_background": "light"
     },
     "output_type": "display_data"
    }
   ],
   "source": [
    "clustered_data['Cluster'].value_counts().sort_index().plot.bar()\n",
    "plt.title('Count of beats per cluster')\n",
    "plt.xlabel('Cluster')\n",
    "plt.ylabel('Count of beats')"
   ]
  },
  {
   "cell_type": "markdown",
   "metadata": {},
   "source": [
    "## Characteristics of the clusters"
   ]
  },
  {
   "cell_type": "code",
   "execution_count": 12,
   "metadata": {},
   "outputs": [],
   "source": [
    "# Merge in all data\n",
    "cluster_training_data = clustered_data.merge(training_data, left_index=True, right_index=True)"
   ]
  },
  {
   "cell_type": "code",
   "execution_count": 13,
   "metadata": {},
   "outputs": [
    {
     "data": {
      "text/plain": [
       "<AxesSubplot:xlabel='Cluster'>"
      ]
     },
     "execution_count": 13,
     "metadata": {},
     "output_type": "execute_result"
    },
    {
     "data": {
      "image/png": "[encoded data removed]",
      "text/plain": [
       "<Figure size 432x288 with 1 Axes>"
      ]
     },
     "metadata": {
      "needs_background": "light"
     },
     "output_type": "display_data"
    }
   ],
   "source": [
    "# Plot main features by cluster\n",
    "sum_cols = ['CRIME_TOTAL', 'ISR_TOTAL_STOPS', 'UOF_TOTAL_COUNT', 'COMPLAINTS_TOTAL']\n",
    "cluster_training_data.groupby(['Cluster'])[sum_cols].mean().plot.bar()"
   ]
  },
  {
   "cell_type": "markdown",
   "metadata": {},
   "source": [
    "# Compare Clusters"
   ]
  },
  {
   "cell_type": "markdown",
   "metadata": {},
   "source": [
    "## Define functions"
   ]
  },
  {
   "cell_type": "markdown",
   "metadata": {},
   "source": [
    "### Functions to run clustering"
   ]
  },
  {
   "cell_type": "code",
   "execution_count": 14,
   "metadata": {},
   "outputs": [],
   "source": [
    "def create_training_data(data, remove_cols, year):\n",
    "    # Create training data\n",
    "    training_data = data.copy()\n",
    "    \n",
    "    # filter columns\n",
    "    for dem in remove_cols:\n",
    "        cols = [c for c in training_data.columns if dem in c]\n",
    "        training_data.drop(cols, axis=1, inplace=True)\n",
    "        \n",
    "    # filter by year\n",
    "    training_data = training_data[training_data['YEAR']==year]\n",
    "    training_data.drop('YEAR',axis=1)\n",
    "    return training_data"
   ]
  },
  {
   "cell_type": "code",
   "execution_count": 15,
   "metadata": {},
   "outputs": [],
   "source": [
    "def pre_process(training_data):\n",
    "    # Normalize columns\n",
    "    scaler = StandardScaler()\n",
    "    scaled_training_data = pd.DataFrame(scaler.fit_transform(training_data),\\\n",
    "        columns=training_data.columns)\n",
    "    \n",
    "    # Do PCA\n",
    "    N_TOP_PCA_COMPONENTS = 6 # See Model Selection.ipynb for why we chose this number.\n",
    "    pca_training_data, pca = generate_pca_data(scaled_training_data, N_TOP_PCA_COMPONENTS)\n",
    "    return pca_training_data"
   ]
  },
  {
   "cell_type": "code",
   "execution_count": 23,
   "metadata": {},
   "outputs": [],
   "source": [
    "def setup_and_run_model(pca_training_data):\n",
    "    # Setup model\n",
    "    PARAM_N_CLUSTERS = 7 # See Model Selection.ipynb for why we chose this number.\n",
    "    cluster_model_params = {'n_clusters':PARAM_N_CLUSTERS, 'random_state':0} # Set random state so we get same result\n",
    "    cluster_model = KMeans()\n",
    "    cluster_model.set_params(**cluster_model_params)\n",
    "    \n",
    "    # run model\n",
    "    cluster_labels = cluster_model.fit_predict(pca_training_data)\n",
    "    clustered_data = pd.concat([pca_training_data, pd.Series(cluster_labels, name='Cluster')], axis=1)\n",
    "    return cluster_labels, clustered_data"
   ]
  },
  {
   "cell_type": "code",
   "execution_count": 17,
   "metadata": {},
   "outputs": [],
   "source": [
    "def get_clusters(data, remove_cols, year):\n",
    "    training_data = create_training_data(data, remove_cols, year)\n",
    "    pca_training_data = pre_process(training_data)\n",
    "    cluster_labels, clustered_data = setup_and_run_model(pca_training_data)\n",
    "    return cluster_labels, clustered_data    "
   ]
  },
  {
   "cell_type": "markdown",
   "metadata": {},
   "source": [
    "### Functions to compute similarity"
   ]
  },
  {
   "cell_type": "code",
   "execution_count": 18,
   "metadata": {},
   "outputs": [],
   "source": [
    "def get_match_mat(labels):\n",
    "    # create list of lists, where each sublist is list of bools if there is a match\n",
    "    final_list = [] \n",
    "    for a in labels:\n",
    "        col_list = []\n",
    "        for b in labels:\n",
    "            col_list.append(a==b)\n",
    "        final_list.append(col_list)\n",
    "    return np.array(final_list)"
   ]
  },
  {
   "cell_type": "code",
   "execution_count": 19,
   "metadata": {},
   "outputs": [],
   "source": [
    "def get_pct_match(mat1, mat2, n):\n",
    "    total_matches = np.sum(mat1 & mat2)\n",
    "    # remove diagonal matches, and divide by two to only count a match once (matrix is symmetric)\n",
    "    actual_matches = (total_matches - n) / 2\n",
    "    max_matches = max(((np.sum(mat1) - n )/2), ((np.sum(mat2) - n) /2))\n",
    "    percent_match = actual_matches / max_matches\n",
    "    return percent_match"
   ]
  },
  {
   "cell_type": "code",
   "execution_count": 20,
   "metadata": {},
   "outputs": [],
   "source": [
    "def get_sim_clusters(labels1, labels2):\n",
    "    n = len(labels1)\n",
    "    mat1 = get_match_mat(labels1)\n",
    "    mat2 = get_match_mat(labels2)\n",
    "    return get_pct_match(mat1, mat2, n)"
   ]
  },
  {
   "cell_type": "markdown",
   "metadata": {},
   "source": [
    "## Compare across different years"
   ]
  },
  {
   "cell_type": "code",
   "execution_count": 21,
   "metadata": {},
   "outputs": [],
   "source": [
    "years = [2016, 2017, 2018, 2019]"
   ]
  },
  {
   "cell_type": "code",
   "execution_count": null,
   "metadata": {},
   "outputs": [],
   "source": []
  },
  {
   "cell_type": "code",
   "execution_count": 40,
   "metadata": {},
   "outputs": [
    {
     "name": "stdout",
     "output_type": "stream",
     "text": [
      "2016 2016 1.0\n",
      "2016 2017 0.34057971014492755\n",
      "2016 2018 0.3591401325359625\n",
      "2016 2019 0.32852936618626993\n",
      "2017 2016 0.34057971014492755\n",
      "2017 2017 1.0\n",
      "2017 2018 0.4048703849175177\n",
      "2017 2019 0.3120567375886525\n",
      "2018 2016 0.3591401325359625\n",
      "2018 2017 0.4048703849175177\n",
      "2018 2018 1.0\n",
      "2018 2019 0.3588168740908356\n",
      "2019 2016 0.32852936618626993\n",
      "2019 2017 0.3120567375886525\n",
      "2019 2018 0.3588168740908356\n",
      "2019 2019 1.0\n"
     ]
    }
   ],
   "source": [
    "remove_cols = ['BLACK', 'WHITE', 'HISPANIC', 'CENSUS']\n",
    "\n",
    "result_df = pd.DataFrame()\n",
    "for year1 in years:\n",
    "    _, clustered_data_1 = get_clusters(data, remove_cols, year1) # We are subsetting the labels later\n",
    "    \n",
    "    row_dict = {}\n",
    "\n",
    "    for year2 in years:\n",
    "        # Get clusters\n",
    "        _, clustered_data_2 = get_clusters(data, remove_cols, year2)\n",
    "\n",
    "        # Merge on beat and extract new cluster labesl only for those that match\n",
    "        merge_clusters = clustered_data_1.merge(clustered_data_2, left_index=True, right_index=True)\n",
    "        cluster_labels_1 = merge_clusters['Cluster_x']\n",
    "        cluster_labels_2 = merge_clusters['Cluster_y']\n",
    "\n",
    "        # Compare\n",
    "        sim_score = get_sim_clusters(cluster_labels_1, cluster_labels_2)\n",
    "        print(year1, year2, sim_score)\n",
    "        row_dict[year2] = sim_score\n",
    "    result_df = result_df.append(row_dict, ignore_index=True)\n"
   ]
  },
  {
   "cell_type": "code",
   "execution_count": 43,
   "metadata": {},
   "outputs": [
    {
     "data": {
      "text/html": [
       "<div>\n",
       "<style scoped>\n",
       "    .dataframe tbody tr th:only-of-type {\n",
       "        vertical-align: middle;\n",
       "    }\n",
       "\n",
       "    .dataframe tbody tr th {\n",
       "        vertical-align: top;\n",
       "    }\n",
       "\n",
       "    .dataframe thead th {\n",
       "        text-align: right;\n",
       "    }\n",
       "</style>\n",
       "<table border=\"1\" class=\"dataframe\">\n",
       "  <thead>\n",
       "    <tr style=\"text-align: right;\">\n",
       "      <th></th>\n",
       "      <th>2016</th>\n",
       "      <th>2017</th>\n",
       "      <th>2018</th>\n",
       "      <th>2019</th>\n",
       "    </tr>\n",
       "  </thead>\n",
       "  <tbody>\n",
       "    <tr>\n",
       "      <th>2016</th>\n",
       "      <td>1.000000</td>\n",
       "      <td>0.340580</td>\n",
       "      <td>0.359140</td>\n",
       "      <td>0.328529</td>\n",
       "    </tr>\n",
       "    <tr>\n",
       "      <th>2017</th>\n",
       "      <td>0.340580</td>\n",
       "      <td>1.000000</td>\n",
       "      <td>0.404870</td>\n",
       "      <td>0.312057</td>\n",
       "    </tr>\n",
       "    <tr>\n",
       "      <th>2018</th>\n",
       "      <td>0.359140</td>\n",
       "      <td>0.404870</td>\n",
       "      <td>1.000000</td>\n",
       "      <td>0.358817</td>\n",
       "    </tr>\n",
       "    <tr>\n",
       "      <th>2019</th>\n",
       "      <td>0.328529</td>\n",
       "      <td>0.312057</td>\n",
       "      <td>0.358817</td>\n",
       "      <td>1.000000</td>\n",
       "    </tr>\n",
       "  </tbody>\n",
       "</table>\n",
       "</div>"
      ],
      "text/plain": [
       "          2016      2017      2018      2019\n",
       "2016  1.000000  0.340580  0.359140  0.328529\n",
       "2017  0.340580  1.000000  0.404870  0.312057\n",
       "2018  0.359140  0.404870  1.000000  0.358817\n",
       "2019  0.328529  0.312057  0.358817  1.000000"
      ]
     },
     "execution_count": 43,
     "metadata": {},
     "output_type": "execute_result"
    }
   ],
   "source": [
    "result_df.index = years\n",
    "result_df"
   ]
  },
  {
   "cell_type": "code",
   "execution_count": 44,
   "metadata": {},
   "outputs": [
    {
     "data": {
      "text/plain": [
       "<AxesSubplot:>"
      ]
     },
     "execution_count": 44,
     "metadata": {},
     "output_type": "execute_result"
    },
    {
     "data": {
      "image/png": "[encoded data removed]",
      "text/plain": [
       "<Figure size 432x288 with 2 Axes>"
      ]
     },
     "metadata": {
      "needs_background": "light"
     },
     "output_type": "display_data"
    }
   ],
   "source": [
    "sns.heatmap(result_df)"
   ]
  }
 ],
 "metadata": {
  "kernelspec": {
   "display_name": "env",
   "language": "python",
   "name": "env"
  },
  "language_info": {
   "codemirror_mode": {
    "name": "ipython",
    "version": 3
   },
   "file_extension": ".py",
   "mimetype": "text/x-python",
   "name": "python",
   "nbconvert_exporter": "python",
   "pygments_lexer": "ipython3",
   "version": "3.6.9"
  },
  "metadata": {
   "interpreter": {
    "hash": "661842a713784b077722e898fc714d7d7522e83960fa708323e6148162ebf3b9"
   }
  }
 },
 "nbformat": 4,
 "nbformat_minor": 2
}
